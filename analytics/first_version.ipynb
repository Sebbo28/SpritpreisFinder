{
 "cells": [
  {
   "cell_type": "code",
   "execution_count": 56,
   "metadata": {
    "collapsed": true
   },
   "outputs": [],
   "source": [
    "import pandas as pd\n",
    "import matplotlib.pyplot as plt\n",
    "import hashlib\n",
    "import numpy as np\n",
    "#import mplcursors\n",
    "import mpldatacursor\n",
    "import plotly.express as px"
   ]
  },
  {
   "cell_type": "code",
   "execution_count": 33,
   "outputs": [
    {
     "data": {
      "text/plain": "               Uhrzeit       Datum                        Region  \\\n0  2023-07-02 19:25:32  2023-07-02  76135+Karlsruhe%2FBeiertheim   \n1  2023-07-02 19:25:32  2023-07-02  76135+Karlsruhe%2FBeiertheim   \n2  2023-07-02 19:25:32  2023-07-02  76135+Karlsruhe%2FBeiertheim   \n3  2023-07-02 19:25:32  2023-07-02  76135+Karlsruhe%2FBeiertheim   \n4  2023-07-02 19:25:32  2023-07-02  76135+Karlsruhe%2FBeiertheim   \n\n               Strasse          Ort_PLZ                           Tankstelle  \\\n0    Eichelbergstr. 34  76189 Karlsruhe                Supermarkt Tankstelle   \n1       Hardeckstr. 16  76185 Karlsruhe  Eberhardt, Hardeckstraße, Karlsruhe   \n2         Lameystr.  7  76185 Karlsruhe                                  bft   \n3       Fettweisstr. 8  76189 Karlsruhe                                  bft   \n4  Waldhorn Str. 14-16  76137 Karlsruhe                ZG Raiffeisen Energie   \n\n   Preis  \n0  1.699  \n1  1.709  \n2  1.719  \n3  1.719  \n4  1.719  ",
      "text/html": "<div>\n<style scoped>\n    .dataframe tbody tr th:only-of-type {\n        vertical-align: middle;\n    }\n\n    .dataframe tbody tr th {\n        vertical-align: top;\n    }\n\n    .dataframe thead th {\n        text-align: right;\n    }\n</style>\n<table border=\"1\" class=\"dataframe\">\n  <thead>\n    <tr style=\"text-align: right;\">\n      <th></th>\n      <th>Uhrzeit</th>\n      <th>Datum</th>\n      <th>Region</th>\n      <th>Strasse</th>\n      <th>Ort_PLZ</th>\n      <th>Tankstelle</th>\n      <th>Preis</th>\n    </tr>\n  </thead>\n  <tbody>\n    <tr>\n      <th>0</th>\n      <td>2023-07-02 19:25:32</td>\n      <td>2023-07-02</td>\n      <td>76135+Karlsruhe%2FBeiertheim</td>\n      <td>Eichelbergstr. 34</td>\n      <td>76189 Karlsruhe</td>\n      <td>Supermarkt Tankstelle</td>\n      <td>1.699</td>\n    </tr>\n    <tr>\n      <th>1</th>\n      <td>2023-07-02 19:25:32</td>\n      <td>2023-07-02</td>\n      <td>76135+Karlsruhe%2FBeiertheim</td>\n      <td>Hardeckstr. 16</td>\n      <td>76185 Karlsruhe</td>\n      <td>Eberhardt, Hardeckstraße, Karlsruhe</td>\n      <td>1.709</td>\n    </tr>\n    <tr>\n      <th>2</th>\n      <td>2023-07-02 19:25:32</td>\n      <td>2023-07-02</td>\n      <td>76135+Karlsruhe%2FBeiertheim</td>\n      <td>Lameystr.  7</td>\n      <td>76185 Karlsruhe</td>\n      <td>bft</td>\n      <td>1.719</td>\n    </tr>\n    <tr>\n      <th>3</th>\n      <td>2023-07-02 19:25:32</td>\n      <td>2023-07-02</td>\n      <td>76135+Karlsruhe%2FBeiertheim</td>\n      <td>Fettweisstr. 8</td>\n      <td>76189 Karlsruhe</td>\n      <td>bft</td>\n      <td>1.719</td>\n    </tr>\n    <tr>\n      <th>4</th>\n      <td>2023-07-02 19:25:32</td>\n      <td>2023-07-02</td>\n      <td>76135+Karlsruhe%2FBeiertheim</td>\n      <td>Waldhorn Str. 14-16</td>\n      <td>76137 Karlsruhe</td>\n      <td>ZG Raiffeisen Energie</td>\n      <td>1.719</td>\n    </tr>\n  </tbody>\n</table>\n</div>"
     },
     "execution_count": 33,
     "metadata": {},
     "output_type": "execute_result"
    }
   ],
   "source": [
    "df  = pd.read_csv(\"../spritpreise.csv\")\n",
    "df.head()"
   ],
   "metadata": {
    "collapsed": false,
    "pycharm": {
     "name": "#%%\n"
    }
   }
  },
  {
   "cell_type": "code",
   "execution_count": 34,
   "outputs": [
    {
     "data": {
      "text/plain": "              Uhrzeit       Datum                        Region  \\\n0 2023-07-02 19:25:32  2023-07-02  76135+Karlsruhe%2FBeiertheim   \n1 2023-07-02 19:25:32  2023-07-02  76135+Karlsruhe%2FBeiertheim   \n2 2023-07-02 19:25:32  2023-07-02  76135+Karlsruhe%2FBeiertheim   \n3 2023-07-02 19:25:32  2023-07-02  76135+Karlsruhe%2FBeiertheim   \n4 2023-07-02 19:25:32  2023-07-02  76135+Karlsruhe%2FBeiertheim   \n\n               Strasse          Ort_PLZ                           Tankstelle  \\\n0    Eichelbergstr. 34  76189 Karlsruhe                Supermarkt Tankstelle   \n1       Hardeckstr. 16  76185 Karlsruhe  Eberhardt, Hardeckstraße, Karlsruhe   \n2         Lameystr.  7  76185 Karlsruhe                                  bft   \n3       Fettweisstr. 8  76189 Karlsruhe                                  bft   \n4  Waldhorn Str. 14-16  76137 Karlsruhe                ZG Raiffeisen Energie   \n\n   Preis    PLZ        Ort      Zeit Stunde Minute Sekunde  Wochentag  \n0  1.699  76189  Karlsruhe  19:25:32     19     25      32          7  \n1  1.709  76185  Karlsruhe  19:25:32     19     25      32          7  \n2  1.719  76185  Karlsruhe  19:25:32     19     25      32          7  \n3  1.719  76189  Karlsruhe  19:25:32     19     25      32          7  \n4  1.719  76137  Karlsruhe  19:25:32     19     25      32          7  ",
      "text/html": "<div>\n<style scoped>\n    .dataframe tbody tr th:only-of-type {\n        vertical-align: middle;\n    }\n\n    .dataframe tbody tr th {\n        vertical-align: top;\n    }\n\n    .dataframe thead th {\n        text-align: right;\n    }\n</style>\n<table border=\"1\" class=\"dataframe\">\n  <thead>\n    <tr style=\"text-align: right;\">\n      <th></th>\n      <th>Uhrzeit</th>\n      <th>Datum</th>\n      <th>Region</th>\n      <th>Strasse</th>\n      <th>Ort_PLZ</th>\n      <th>Tankstelle</th>\n      <th>Preis</th>\n      <th>PLZ</th>\n      <th>Ort</th>\n      <th>Zeit</th>\n      <th>Stunde</th>\n      <th>Minute</th>\n      <th>Sekunde</th>\n      <th>Wochentag</th>\n    </tr>\n  </thead>\n  <tbody>\n    <tr>\n      <th>0</th>\n      <td>2023-07-02 19:25:32</td>\n      <td>2023-07-02</td>\n      <td>76135+Karlsruhe%2FBeiertheim</td>\n      <td>Eichelbergstr. 34</td>\n      <td>76189 Karlsruhe</td>\n      <td>Supermarkt Tankstelle</td>\n      <td>1.699</td>\n      <td>76189</td>\n      <td>Karlsruhe</td>\n      <td>19:25:32</td>\n      <td>19</td>\n      <td>25</td>\n      <td>32</td>\n      <td>7</td>\n    </tr>\n    <tr>\n      <th>1</th>\n      <td>2023-07-02 19:25:32</td>\n      <td>2023-07-02</td>\n      <td>76135+Karlsruhe%2FBeiertheim</td>\n      <td>Hardeckstr. 16</td>\n      <td>76185 Karlsruhe</td>\n      <td>Eberhardt, Hardeckstraße, Karlsruhe</td>\n      <td>1.709</td>\n      <td>76185</td>\n      <td>Karlsruhe</td>\n      <td>19:25:32</td>\n      <td>19</td>\n      <td>25</td>\n      <td>32</td>\n      <td>7</td>\n    </tr>\n    <tr>\n      <th>2</th>\n      <td>2023-07-02 19:25:32</td>\n      <td>2023-07-02</td>\n      <td>76135+Karlsruhe%2FBeiertheim</td>\n      <td>Lameystr.  7</td>\n      <td>76185 Karlsruhe</td>\n      <td>bft</td>\n      <td>1.719</td>\n      <td>76185</td>\n      <td>Karlsruhe</td>\n      <td>19:25:32</td>\n      <td>19</td>\n      <td>25</td>\n      <td>32</td>\n      <td>7</td>\n    </tr>\n    <tr>\n      <th>3</th>\n      <td>2023-07-02 19:25:32</td>\n      <td>2023-07-02</td>\n      <td>76135+Karlsruhe%2FBeiertheim</td>\n      <td>Fettweisstr. 8</td>\n      <td>76189 Karlsruhe</td>\n      <td>bft</td>\n      <td>1.719</td>\n      <td>76189</td>\n      <td>Karlsruhe</td>\n      <td>19:25:32</td>\n      <td>19</td>\n      <td>25</td>\n      <td>32</td>\n      <td>7</td>\n    </tr>\n    <tr>\n      <th>4</th>\n      <td>2023-07-02 19:25:32</td>\n      <td>2023-07-02</td>\n      <td>76135+Karlsruhe%2FBeiertheim</td>\n      <td>Waldhorn Str. 14-16</td>\n      <td>76137 Karlsruhe</td>\n      <td>ZG Raiffeisen Energie</td>\n      <td>1.719</td>\n      <td>76137</td>\n      <td>Karlsruhe</td>\n      <td>19:25:32</td>\n      <td>19</td>\n      <td>25</td>\n      <td>32</td>\n      <td>7</td>\n    </tr>\n  </tbody>\n</table>\n</div>"
     },
     "execution_count": 34,
     "metadata": {},
     "output_type": "execute_result"
    }
   ],
   "source": [
    "df[[\"PLZ\",\"Ort\"]] = df[\"Ort_PLZ\"].str.split(' ',1, expand =True)\n",
    "df['Zeit'] = df['Uhrzeit'].str.split(' ').str[1]\n",
    "df[[\"Stunde\",\"Minute\",\"Sekunde\"]] = df[\"Zeit\"].str.split(':',2, expand =True)\n",
    "df['Uhrzeit'] = pd.to_datetime(df['Uhrzeit'])\n",
    "df['Wochentag'] = df['Uhrzeit'].dt.isocalendar().day\n",
    "df.head()"
   ],
   "metadata": {
    "collapsed": false,
    "pycharm": {
     "name": "#%%\n"
    }
   }
  },
  {
   "cell_type": "code",
   "execution_count": 35,
   "outputs": [
    {
     "data": {
      "text/plain": "                                         Preis\nOrt                        Wochentag          \nEttlingen                  2          1.837000\n                           7          1.819000\n                           1          1.816500\nKarlsruhe                  2          1.797859\nRheinstetten               2          1.795250\nKnielingen                 2          1.790250\nKarlsruhe                  1          1.790111\nRheinstetten               1          1.786500\nKnielingen                 1          1.776500\nRheinstetten               7          1.759000\nKarlsruhe                  7          1.750942\nLandau in der Pfalz        1          1.747491\n                           2          1.746033\n                           7          1.743286\nNeustadt an der Weinstraße 2          1.736308\nKnielingen                 7          1.729000\nNeustadt an der Weinstraße 1          1.726544\n                           7          1.711941\nBornheim                   2          1.699000\n                           1          1.695667",
      "text/html": "<div>\n<style scoped>\n    .dataframe tbody tr th:only-of-type {\n        vertical-align: middle;\n    }\n\n    .dataframe tbody tr th {\n        vertical-align: top;\n    }\n\n    .dataframe thead th {\n        text-align: right;\n    }\n</style>\n<table border=\"1\" class=\"dataframe\">\n  <thead>\n    <tr style=\"text-align: right;\">\n      <th></th>\n      <th></th>\n      <th>Preis</th>\n    </tr>\n    <tr>\n      <th>Ort</th>\n      <th>Wochentag</th>\n      <th></th>\n    </tr>\n  </thead>\n  <tbody>\n    <tr>\n      <th rowspan=\"3\" valign=\"top\">Ettlingen</th>\n      <th>2</th>\n      <td>1.837000</td>\n    </tr>\n    <tr>\n      <th>7</th>\n      <td>1.819000</td>\n    </tr>\n    <tr>\n      <th>1</th>\n      <td>1.816500</td>\n    </tr>\n    <tr>\n      <th>Karlsruhe</th>\n      <th>2</th>\n      <td>1.797859</td>\n    </tr>\n    <tr>\n      <th>Rheinstetten</th>\n      <th>2</th>\n      <td>1.795250</td>\n    </tr>\n    <tr>\n      <th>Knielingen</th>\n      <th>2</th>\n      <td>1.790250</td>\n    </tr>\n    <tr>\n      <th>Karlsruhe</th>\n      <th>1</th>\n      <td>1.790111</td>\n    </tr>\n    <tr>\n      <th>Rheinstetten</th>\n      <th>1</th>\n      <td>1.786500</td>\n    </tr>\n    <tr>\n      <th>Knielingen</th>\n      <th>1</th>\n      <td>1.776500</td>\n    </tr>\n    <tr>\n      <th>Rheinstetten</th>\n      <th>7</th>\n      <td>1.759000</td>\n    </tr>\n    <tr>\n      <th>Karlsruhe</th>\n      <th>7</th>\n      <td>1.750942</td>\n    </tr>\n    <tr>\n      <th rowspan=\"3\" valign=\"top\">Landau in der Pfalz</th>\n      <th>1</th>\n      <td>1.747491</td>\n    </tr>\n    <tr>\n      <th>2</th>\n      <td>1.746033</td>\n    </tr>\n    <tr>\n      <th>7</th>\n      <td>1.743286</td>\n    </tr>\n    <tr>\n      <th>Neustadt an der Weinstraße</th>\n      <th>2</th>\n      <td>1.736308</td>\n    </tr>\n    <tr>\n      <th>Knielingen</th>\n      <th>7</th>\n      <td>1.729000</td>\n    </tr>\n    <tr>\n      <th rowspan=\"2\" valign=\"top\">Neustadt an der Weinstraße</th>\n      <th>1</th>\n      <td>1.726544</td>\n    </tr>\n    <tr>\n      <th>7</th>\n      <td>1.711941</td>\n    </tr>\n    <tr>\n      <th rowspan=\"2\" valign=\"top\">Bornheim</th>\n      <th>2</th>\n      <td>1.699000</td>\n    </tr>\n    <tr>\n      <th>1</th>\n      <td>1.695667</td>\n    </tr>\n  </tbody>\n</table>\n</div>"
     },
     "execution_count": 35,
     "metadata": {},
     "output_type": "execute_result"
    }
   ],
   "source": [
    "df.groupby(by=[\"Ort\",\"Wochentag\"]).mean().sort_values(by = 'Preis', ascending= False)"
   ],
   "metadata": {
    "collapsed": false,
    "pycharm": {
     "name": "#%%\n"
    }
   }
  },
  {
   "cell_type": "code",
   "execution_count": 36,
   "outputs": [
    {
     "data": {
      "text/plain": "                               Preis  Wochentag\nOrt                                            \nRheinstetten                1.787333   2.111111\nNeustadt an der Weinstraße  1.728603   2.222222\nLandau in der Pfalz         1.746284   2.297414\nKnielingen                  1.780176   1.823529\nKarlsruhe                   1.787789    2.23284\nEttlingen                   1.824769   2.307692\nBornheim                    1.697333        1.5",
      "text/html": "<div>\n<style scoped>\n    .dataframe tbody tr th:only-of-type {\n        vertical-align: middle;\n    }\n\n    .dataframe tbody tr th {\n        vertical-align: top;\n    }\n\n    .dataframe thead th {\n        text-align: right;\n    }\n</style>\n<table border=\"1\" class=\"dataframe\">\n  <thead>\n    <tr style=\"text-align: right;\">\n      <th></th>\n      <th>Preis</th>\n      <th>Wochentag</th>\n    </tr>\n    <tr>\n      <th>Ort</th>\n      <th></th>\n      <th></th>\n    </tr>\n  </thead>\n  <tbody>\n    <tr>\n      <th>Rheinstetten</th>\n      <td>1.787333</td>\n      <td>2.111111</td>\n    </tr>\n    <tr>\n      <th>Neustadt an der Weinstraße</th>\n      <td>1.728603</td>\n      <td>2.222222</td>\n    </tr>\n    <tr>\n      <th>Landau in der Pfalz</th>\n      <td>1.746284</td>\n      <td>2.297414</td>\n    </tr>\n    <tr>\n      <th>Knielingen</th>\n      <td>1.780176</td>\n      <td>1.823529</td>\n    </tr>\n    <tr>\n      <th>Karlsruhe</th>\n      <td>1.787789</td>\n      <td>2.23284</td>\n    </tr>\n    <tr>\n      <th>Ettlingen</th>\n      <td>1.824769</td>\n      <td>2.307692</td>\n    </tr>\n    <tr>\n      <th>Bornheim</th>\n      <td>1.697333</td>\n      <td>1.5</td>\n    </tr>\n  </tbody>\n</table>\n</div>"
     },
     "execution_count": 36,
     "metadata": {},
     "output_type": "execute_result"
    }
   ],
   "source": [
    "df.groupby(by=[\"Ort\"]).mean().sort_values(by = 'Ort', ascending= False)"
   ],
   "metadata": {
    "collapsed": false,
    "pycharm": {
     "name": "#%%\n"
    }
   }
  },
  {
   "cell_type": "code",
   "execution_count": 37,
   "outputs": [],
   "source": [
    "#Need Strasse as identifier, as mutliple Tankstellen with the same name have the same PLZ -\n",
    "# def generate_id(row):\n",
    "#     values = row[['Strasse','PLZ','Tankstelle']].values\n",
    "#     value_str = ''.join(map(str, values))\n",
    "#     return value_str #hashlib.sha1(value_str.encode()).hexdigest()\n",
    "# df['ID'] = df.apply(generate_id, axis=1)\n",
    "# df.head()"
   ],
   "metadata": {
    "collapsed": false,
    "pycharm": {
     "name": "#%%\n"
    }
   }
  },
  {
   "cell_type": "code",
   "execution_count": 38,
   "outputs": [
    {
     "data": {
      "text/plain": "              Uhrzeit       Datum                        Region  \\\n0 2023-07-02 19:25:32  2023-07-02  76135+Karlsruhe%2FBeiertheim   \n1 2023-07-02 19:25:32  2023-07-02  76135+Karlsruhe%2FBeiertheim   \n2 2023-07-02 19:25:32  2023-07-02  76135+Karlsruhe%2FBeiertheim   \n3 2023-07-02 19:25:32  2023-07-02  76135+Karlsruhe%2FBeiertheim   \n4 2023-07-02 19:25:32  2023-07-02  76135+Karlsruhe%2FBeiertheim   \n\n               Strasse          Ort_PLZ                           Tankstelle  \\\n0    Eichelbergstr. 34  76189 Karlsruhe                Supermarkt Tankstelle   \n1       Hardeckstr. 16  76185 Karlsruhe  Eberhardt, Hardeckstraße, Karlsruhe   \n2         Lameystr.  7  76185 Karlsruhe                                  bft   \n3       Fettweisstr. 8  76189 Karlsruhe                                  bft   \n4  Waldhorn Str. 14-16  76137 Karlsruhe                ZG Raiffeisen Energie   \n\n   Preis    PLZ        Ort      Zeit Stunde Minute Sekunde  Wochentag  ID  \n0  1.699  76189  Karlsruhe  19:25:32     19     25      32          7  15  \n1  1.709  76185  Karlsruhe  19:25:32     19     25      32          7  22  \n2  1.719  76185  Karlsruhe  19:25:32     19     25      32          7  31  \n3  1.719  76189  Karlsruhe  19:25:32     19     25      32          7  18  \n4  1.719  76137  Karlsruhe  19:25:32     19     25      32          7  48  ",
      "text/html": "<div>\n<style scoped>\n    .dataframe tbody tr th:only-of-type {\n        vertical-align: middle;\n    }\n\n    .dataframe tbody tr th {\n        vertical-align: top;\n    }\n\n    .dataframe thead th {\n        text-align: right;\n    }\n</style>\n<table border=\"1\" class=\"dataframe\">\n  <thead>\n    <tr style=\"text-align: right;\">\n      <th></th>\n      <th>Uhrzeit</th>\n      <th>Datum</th>\n      <th>Region</th>\n      <th>Strasse</th>\n      <th>Ort_PLZ</th>\n      <th>Tankstelle</th>\n      <th>Preis</th>\n      <th>PLZ</th>\n      <th>Ort</th>\n      <th>Zeit</th>\n      <th>Stunde</th>\n      <th>Minute</th>\n      <th>Sekunde</th>\n      <th>Wochentag</th>\n      <th>ID</th>\n    </tr>\n  </thead>\n  <tbody>\n    <tr>\n      <th>0</th>\n      <td>2023-07-02 19:25:32</td>\n      <td>2023-07-02</td>\n      <td>76135+Karlsruhe%2FBeiertheim</td>\n      <td>Eichelbergstr. 34</td>\n      <td>76189 Karlsruhe</td>\n      <td>Supermarkt Tankstelle</td>\n      <td>1.699</td>\n      <td>76189</td>\n      <td>Karlsruhe</td>\n      <td>19:25:32</td>\n      <td>19</td>\n      <td>25</td>\n      <td>32</td>\n      <td>7</td>\n      <td>15</td>\n    </tr>\n    <tr>\n      <th>1</th>\n      <td>2023-07-02 19:25:32</td>\n      <td>2023-07-02</td>\n      <td>76135+Karlsruhe%2FBeiertheim</td>\n      <td>Hardeckstr. 16</td>\n      <td>76185 Karlsruhe</td>\n      <td>Eberhardt, Hardeckstraße, Karlsruhe</td>\n      <td>1.709</td>\n      <td>76185</td>\n      <td>Karlsruhe</td>\n      <td>19:25:32</td>\n      <td>19</td>\n      <td>25</td>\n      <td>32</td>\n      <td>7</td>\n      <td>22</td>\n    </tr>\n    <tr>\n      <th>2</th>\n      <td>2023-07-02 19:25:32</td>\n      <td>2023-07-02</td>\n      <td>76135+Karlsruhe%2FBeiertheim</td>\n      <td>Lameystr.  7</td>\n      <td>76185 Karlsruhe</td>\n      <td>bft</td>\n      <td>1.719</td>\n      <td>76185</td>\n      <td>Karlsruhe</td>\n      <td>19:25:32</td>\n      <td>19</td>\n      <td>25</td>\n      <td>32</td>\n      <td>7</td>\n      <td>31</td>\n    </tr>\n    <tr>\n      <th>3</th>\n      <td>2023-07-02 19:25:32</td>\n      <td>2023-07-02</td>\n      <td>76135+Karlsruhe%2FBeiertheim</td>\n      <td>Fettweisstr. 8</td>\n      <td>76189 Karlsruhe</td>\n      <td>bft</td>\n      <td>1.719</td>\n      <td>76189</td>\n      <td>Karlsruhe</td>\n      <td>19:25:32</td>\n      <td>19</td>\n      <td>25</td>\n      <td>32</td>\n      <td>7</td>\n      <td>18</td>\n    </tr>\n    <tr>\n      <th>4</th>\n      <td>2023-07-02 19:25:32</td>\n      <td>2023-07-02</td>\n      <td>76135+Karlsruhe%2FBeiertheim</td>\n      <td>Waldhorn Str. 14-16</td>\n      <td>76137 Karlsruhe</td>\n      <td>ZG Raiffeisen Energie</td>\n      <td>1.719</td>\n      <td>76137</td>\n      <td>Karlsruhe</td>\n      <td>19:25:32</td>\n      <td>19</td>\n      <td>25</td>\n      <td>32</td>\n      <td>7</td>\n      <td>48</td>\n    </tr>\n  </tbody>\n</table>\n</div>"
     },
     "execution_count": 38,
     "metadata": {},
     "output_type": "execute_result"
    }
   ],
   "source": [
    "#Zweite möglichkeit um die IDs mit Zahlen zu erstellen\n",
    "df['ID'] = df.groupby(['Strasse','PLZ','Tankstelle']).ngroup()+1\n",
    "df.head()"
   ],
   "metadata": {
    "collapsed": false,
    "pycharm": {
     "name": "#%%\n"
    }
   }
  },
  {
   "cell_type": "code",
   "execution_count": 39,
   "outputs": [
    {
     "data": {
      "text/plain": "                 Uhrzeit       Datum  \\\n44   2023-07-02 19:25:32  2023-07-02   \n92   2023-07-02 18:18:23  2023-07-02   \n134  2023-07-02 20:15:30  2023-07-02   \n160  2023-07-02 22:13:57  2023-07-02   \n185  2023-07-03 01:40:19  2023-07-03   \n212  2023-07-03 02:56:56  2023-07-03   \n257  2023-07-03 04:19:31  2023-07-03   \n311  2023-07-03 06:21:10  2023-07-03   \n366  2023-07-03 08:20:19  2023-07-03   \n420  2023-07-03 10:17:22  2023-07-03   \n474  2023-07-03 12:35:08  2023-07-03   \n528  2023-07-03 14:14:32  2023-07-03   \n581  2023-07-03 16:20:24  2023-07-03   \n631  2023-07-03 18:19:22  2023-07-03   \n673  2023-07-03 20:17:24  2023-07-03   \n699  2023-07-03 22:15:42  2023-07-03   \n724  2023-07-04 01:40:26  2023-07-04   \n751  2023-07-04 02:58:56  2023-07-04   \n798  2023-07-04 04:19:49  2023-07-04   \n851  2023-07-04 06:22:03  2023-07-04   \n903  2023-07-04 08:21:13  2023-07-04   \n956  2023-07-04 10:18:27  2023-07-04   \n1010 2023-07-04 12:34:29  2023-07-04   \n1064 2023-07-04 14:15:07  2023-07-04   \n1119 2023-07-04 16:21:48  2023-07-04   \n1169 2023-07-04 18:21:01  2023-07-04   \n\n                                           Region                 Strasse  \\\n44    67433+Neustadt+an+der+Weinstraße&spritsorte  Adolf-Kolping-Str. 173   \n92    67433+Neustadt+an+der+Weinstraße&spritsorte  Adolf-Kolping-Str. 173   \n134   67433+Neustadt+an+der+Weinstraße&spritsorte  Adolf-Kolping-Str. 173   \n160   67433+Neustadt+an+der+Weinstraße&spritsorte  Adolf-Kolping-Str. 173   \n185   67433+Neustadt+an+der+Weinstraße&spritsorte  Adolf-Kolping-Str. 173   \n212   67433+Neustadt+an+der+Weinstraße&spritsorte  Adolf-Kolping-Str. 173   \n257   67433+Neustadt+an+der+Weinstraße&spritsorte  Adolf-Kolping-Str. 173   \n311   67433+Neustadt+an+der+Weinstraße&spritsorte  Adolf-Kolping-Str. 173   \n366   67433+Neustadt+an+der+Weinstraße&spritsorte  Adolf-Kolping-Str. 173   \n420   67433+Neustadt+an+der+Weinstraße&spritsorte  Adolf-Kolping-Str. 173   \n474   67433+Neustadt+an+der+Weinstraße&spritsorte  Adolf-Kolping-Str. 173   \n528   67433+Neustadt+an+der+Weinstraße&spritsorte  Adolf-Kolping-Str. 173   \n581   67433+Neustadt+an+der+Weinstraße&spritsorte  Adolf-Kolping-Str. 173   \n631   67433+Neustadt+an+der+Weinstraße&spritsorte  Adolf-Kolping-Str. 173   \n673   67433+Neustadt+an+der+Weinstraße&spritsorte  Adolf-Kolping-Str. 173   \n699   67433+Neustadt+an+der+Weinstraße&spritsorte  Adolf-Kolping-Str. 173   \n724   67433+Neustadt+an+der+Weinstraße&spritsorte  Adolf-Kolping-Str. 173   \n751   67433+Neustadt+an+der+Weinstraße&spritsorte  Adolf-Kolping-Str. 173   \n798   67433+Neustadt+an+der+Weinstraße&spritsorte  Adolf-Kolping-Str. 173   \n851   67433+Neustadt+an+der+Weinstraße&spritsorte  Adolf-Kolping-Str. 173   \n903   67433+Neustadt+an+der+Weinstraße&spritsorte  Adolf-Kolping-Str. 173   \n956   67433+Neustadt+an+der+Weinstraße&spritsorte  Adolf-Kolping-Str. 173   \n1010  67433+Neustadt+an+der+Weinstraße&spritsorte  Adolf-Kolping-Str. 173   \n1064  67433+Neustadt+an+der+Weinstraße&spritsorte  Adolf-Kolping-Str. 173   \n1119  67433+Neustadt+an+der+Weinstraße&spritsorte  Adolf-Kolping-Str. 173   \n1169  67433+Neustadt+an+der+Weinstraße&spritsorte  Adolf-Kolping-Str. 173   \n\n                               Ort_PLZ         Tankstelle  Preis    PLZ  \\\n44    67433 Neustadt an der Weinstraße  GLOBUS Markthalle  1.679  67433   \n92    67433 Neustadt an der Weinstraße  GLOBUS Markthalle  1.679  67433   \n134   67433 Neustadt an der Weinstraße  GLOBUS Markthalle  1.679  67433   \n160   67433 Neustadt an der Weinstraße  GLOBUS Markthalle  1.719  67433   \n185   67433 Neustadt an der Weinstraße  GLOBUS Markthalle  1.719  67433   \n212   67433 Neustadt an der Weinstraße  GLOBUS Markthalle  1.719  67433   \n257   67433 Neustadt an der Weinstraße  GLOBUS Markthalle  1.709  67433   \n311   67433 Neustadt an der Weinstraße  GLOBUS Markthalle  1.679  67433   \n366   67433 Neustadt an der Weinstraße  GLOBUS Markthalle  1.729  67433   \n420   67433 Neustadt an der Weinstraße  GLOBUS Markthalle  1.689  67433   \n474   67433 Neustadt an der Weinstraße  GLOBUS Markthalle  1.689  67433   \n528   67433 Neustadt an der Weinstraße  GLOBUS Markthalle  1.689  67433   \n581   67433 Neustadt an der Weinstraße  GLOBUS Markthalle  1.699  67433   \n631   67433 Neustadt an der Weinstraße  GLOBUS Markthalle  1.699  67433   \n673   67433 Neustadt an der Weinstraße  GLOBUS Markthalle  1.699  67433   \n699   67433 Neustadt an der Weinstraße  GLOBUS Markthalle  1.739  67433   \n724   67433 Neustadt an der Weinstraße  GLOBUS Markthalle  1.739  67433   \n751   67433 Neustadt an der Weinstraße  GLOBUS Markthalle  1.739  67433   \n798   67433 Neustadt an der Weinstraße  GLOBUS Markthalle  1.729  67433   \n851   67433 Neustadt an der Weinstraße  GLOBUS Markthalle  1.699  67433   \n903   67433 Neustadt an der Weinstraße  GLOBUS Markthalle  1.699  67433   \n956   67433 Neustadt an der Weinstraße  GLOBUS Markthalle  1.699  67433   \n1010  67433 Neustadt an der Weinstraße  GLOBUS Markthalle  1.709  67433   \n1064  67433 Neustadt an der Weinstraße  GLOBUS Markthalle  1.709  67433   \n1119  67433 Neustadt an der Weinstraße  GLOBUS Markthalle  1.709  67433   \n1169  67433 Neustadt an der Weinstraße  GLOBUS Markthalle  1.709  67433   \n\n                             Ort      Zeit Stunde Minute Sekunde  Wochentag  \\\n44    Neustadt an der Weinstraße  19:25:32     19     25      32          7   \n92    Neustadt an der Weinstraße  18:18:23     18     18      23          7   \n134   Neustadt an der Weinstraße  20:15:30     20     15      30          7   \n160   Neustadt an der Weinstraße  22:13:57     22     13      57          7   \n185   Neustadt an der Weinstraße  01:40:19     01     40      19          1   \n212   Neustadt an der Weinstraße  02:56:56     02     56      56          1   \n257   Neustadt an der Weinstraße  04:19:31     04     19      31          1   \n311   Neustadt an der Weinstraße  06:21:10     06     21      10          1   \n366   Neustadt an der Weinstraße  08:20:19     08     20      19          1   \n420   Neustadt an der Weinstraße  10:17:22     10     17      22          1   \n474   Neustadt an der Weinstraße  12:35:08     12     35      08          1   \n528   Neustadt an der Weinstraße  14:14:32     14     14      32          1   \n581   Neustadt an der Weinstraße  16:20:24     16     20      24          1   \n631   Neustadt an der Weinstraße  18:19:22     18     19      22          1   \n673   Neustadt an der Weinstraße  20:17:24     20     17      24          1   \n699   Neustadt an der Weinstraße  22:15:42     22     15      42          1   \n724   Neustadt an der Weinstraße  01:40:26     01     40      26          2   \n751   Neustadt an der Weinstraße  02:58:56     02     58      56          2   \n798   Neustadt an der Weinstraße  04:19:49     04     19      49          2   \n851   Neustadt an der Weinstraße  06:22:03     06     22      03          2   \n903   Neustadt an der Weinstraße  08:21:13     08     21      13          2   \n956   Neustadt an der Weinstraße  10:18:27     10     18      27          2   \n1010  Neustadt an der Weinstraße  12:34:29     12     34      29          2   \n1064  Neustadt an der Weinstraße  14:15:07     14     15      07          2   \n1119  Neustadt an der Weinstraße  16:21:48     16     21      48          2   \n1169  Neustadt an der Weinstraße  18:21:01     18     21      01          2   \n\n      ID  \n44     1  \n92     1  \n134    1  \n160    1  \n185    1  \n212    1  \n257    1  \n311    1  \n366    1  \n420    1  \n474    1  \n528    1  \n581    1  \n631    1  \n673    1  \n699    1  \n724    1  \n751    1  \n798    1  \n851    1  \n903    1  \n956    1  \n1010   1  \n1064   1  \n1119   1  \n1169   1  ",
      "text/html": "<div>\n<style scoped>\n    .dataframe tbody tr th:only-of-type {\n        vertical-align: middle;\n    }\n\n    .dataframe tbody tr th {\n        vertical-align: top;\n    }\n\n    .dataframe thead th {\n        text-align: right;\n    }\n</style>\n<table border=\"1\" class=\"dataframe\">\n  <thead>\n    <tr style=\"text-align: right;\">\n      <th></th>\n      <th>Uhrzeit</th>\n      <th>Datum</th>\n      <th>Region</th>\n      <th>Strasse</th>\n      <th>Ort_PLZ</th>\n      <th>Tankstelle</th>\n      <th>Preis</th>\n      <th>PLZ</th>\n      <th>Ort</th>\n      <th>Zeit</th>\n      <th>Stunde</th>\n      <th>Minute</th>\n      <th>Sekunde</th>\n      <th>Wochentag</th>\n      <th>ID</th>\n    </tr>\n  </thead>\n  <tbody>\n    <tr>\n      <th>44</th>\n      <td>2023-07-02 19:25:32</td>\n      <td>2023-07-02</td>\n      <td>67433+Neustadt+an+der+Weinstraße&amp;spritsorte</td>\n      <td>Adolf-Kolping-Str. 173</td>\n      <td>67433 Neustadt an der Weinstraße</td>\n      <td>GLOBUS Markthalle</td>\n      <td>1.679</td>\n      <td>67433</td>\n      <td>Neustadt an der Weinstraße</td>\n      <td>19:25:32</td>\n      <td>19</td>\n      <td>25</td>\n      <td>32</td>\n      <td>7</td>\n      <td>1</td>\n    </tr>\n    <tr>\n      <th>92</th>\n      <td>2023-07-02 18:18:23</td>\n      <td>2023-07-02</td>\n      <td>67433+Neustadt+an+der+Weinstraße&amp;spritsorte</td>\n      <td>Adolf-Kolping-Str. 173</td>\n      <td>67433 Neustadt an der Weinstraße</td>\n      <td>GLOBUS Markthalle</td>\n      <td>1.679</td>\n      <td>67433</td>\n      <td>Neustadt an der Weinstraße</td>\n      <td>18:18:23</td>\n      <td>18</td>\n      <td>18</td>\n      <td>23</td>\n      <td>7</td>\n      <td>1</td>\n    </tr>\n    <tr>\n      <th>134</th>\n      <td>2023-07-02 20:15:30</td>\n      <td>2023-07-02</td>\n      <td>67433+Neustadt+an+der+Weinstraße&amp;spritsorte</td>\n      <td>Adolf-Kolping-Str. 173</td>\n      <td>67433 Neustadt an der Weinstraße</td>\n      <td>GLOBUS Markthalle</td>\n      <td>1.679</td>\n      <td>67433</td>\n      <td>Neustadt an der Weinstraße</td>\n      <td>20:15:30</td>\n      <td>20</td>\n      <td>15</td>\n      <td>30</td>\n      <td>7</td>\n      <td>1</td>\n    </tr>\n    <tr>\n      <th>160</th>\n      <td>2023-07-02 22:13:57</td>\n      <td>2023-07-02</td>\n      <td>67433+Neustadt+an+der+Weinstraße&amp;spritsorte</td>\n      <td>Adolf-Kolping-Str. 173</td>\n      <td>67433 Neustadt an der Weinstraße</td>\n      <td>GLOBUS Markthalle</td>\n      <td>1.719</td>\n      <td>67433</td>\n      <td>Neustadt an der Weinstraße</td>\n      <td>22:13:57</td>\n      <td>22</td>\n      <td>13</td>\n      <td>57</td>\n      <td>7</td>\n      <td>1</td>\n    </tr>\n    <tr>\n      <th>185</th>\n      <td>2023-07-03 01:40:19</td>\n      <td>2023-07-03</td>\n      <td>67433+Neustadt+an+der+Weinstraße&amp;spritsorte</td>\n      <td>Adolf-Kolping-Str. 173</td>\n      <td>67433 Neustadt an der Weinstraße</td>\n      <td>GLOBUS Markthalle</td>\n      <td>1.719</td>\n      <td>67433</td>\n      <td>Neustadt an der Weinstraße</td>\n      <td>01:40:19</td>\n      <td>01</td>\n      <td>40</td>\n      <td>19</td>\n      <td>1</td>\n      <td>1</td>\n    </tr>\n    <tr>\n      <th>212</th>\n      <td>2023-07-03 02:56:56</td>\n      <td>2023-07-03</td>\n      <td>67433+Neustadt+an+der+Weinstraße&amp;spritsorte</td>\n      <td>Adolf-Kolping-Str. 173</td>\n      <td>67433 Neustadt an der Weinstraße</td>\n      <td>GLOBUS Markthalle</td>\n      <td>1.719</td>\n      <td>67433</td>\n      <td>Neustadt an der Weinstraße</td>\n      <td>02:56:56</td>\n      <td>02</td>\n      <td>56</td>\n      <td>56</td>\n      <td>1</td>\n      <td>1</td>\n    </tr>\n    <tr>\n      <th>257</th>\n      <td>2023-07-03 04:19:31</td>\n      <td>2023-07-03</td>\n      <td>67433+Neustadt+an+der+Weinstraße&amp;spritsorte</td>\n      <td>Adolf-Kolping-Str. 173</td>\n      <td>67433 Neustadt an der Weinstraße</td>\n      <td>GLOBUS Markthalle</td>\n      <td>1.709</td>\n      <td>67433</td>\n      <td>Neustadt an der Weinstraße</td>\n      <td>04:19:31</td>\n      <td>04</td>\n      <td>19</td>\n      <td>31</td>\n      <td>1</td>\n      <td>1</td>\n    </tr>\n    <tr>\n      <th>311</th>\n      <td>2023-07-03 06:21:10</td>\n      <td>2023-07-03</td>\n      <td>67433+Neustadt+an+der+Weinstraße&amp;spritsorte</td>\n      <td>Adolf-Kolping-Str. 173</td>\n      <td>67433 Neustadt an der Weinstraße</td>\n      <td>GLOBUS Markthalle</td>\n      <td>1.679</td>\n      <td>67433</td>\n      <td>Neustadt an der Weinstraße</td>\n      <td>06:21:10</td>\n      <td>06</td>\n      <td>21</td>\n      <td>10</td>\n      <td>1</td>\n      <td>1</td>\n    </tr>\n    <tr>\n      <th>366</th>\n      <td>2023-07-03 08:20:19</td>\n      <td>2023-07-03</td>\n      <td>67433+Neustadt+an+der+Weinstraße&amp;spritsorte</td>\n      <td>Adolf-Kolping-Str. 173</td>\n      <td>67433 Neustadt an der Weinstraße</td>\n      <td>GLOBUS Markthalle</td>\n      <td>1.729</td>\n      <td>67433</td>\n      <td>Neustadt an der Weinstraße</td>\n      <td>08:20:19</td>\n      <td>08</td>\n      <td>20</td>\n      <td>19</td>\n      <td>1</td>\n      <td>1</td>\n    </tr>\n    <tr>\n      <th>420</th>\n      <td>2023-07-03 10:17:22</td>\n      <td>2023-07-03</td>\n      <td>67433+Neustadt+an+der+Weinstraße&amp;spritsorte</td>\n      <td>Adolf-Kolping-Str. 173</td>\n      <td>67433 Neustadt an der Weinstraße</td>\n      <td>GLOBUS Markthalle</td>\n      <td>1.689</td>\n      <td>67433</td>\n      <td>Neustadt an der Weinstraße</td>\n      <td>10:17:22</td>\n      <td>10</td>\n      <td>17</td>\n      <td>22</td>\n      <td>1</td>\n      <td>1</td>\n    </tr>\n    <tr>\n      <th>474</th>\n      <td>2023-07-03 12:35:08</td>\n      <td>2023-07-03</td>\n      <td>67433+Neustadt+an+der+Weinstraße&amp;spritsorte</td>\n      <td>Adolf-Kolping-Str. 173</td>\n      <td>67433 Neustadt an der Weinstraße</td>\n      <td>GLOBUS Markthalle</td>\n      <td>1.689</td>\n      <td>67433</td>\n      <td>Neustadt an der Weinstraße</td>\n      <td>12:35:08</td>\n      <td>12</td>\n      <td>35</td>\n      <td>08</td>\n      <td>1</td>\n      <td>1</td>\n    </tr>\n    <tr>\n      <th>528</th>\n      <td>2023-07-03 14:14:32</td>\n      <td>2023-07-03</td>\n      <td>67433+Neustadt+an+der+Weinstraße&amp;spritsorte</td>\n      <td>Adolf-Kolping-Str. 173</td>\n      <td>67433 Neustadt an der Weinstraße</td>\n      <td>GLOBUS Markthalle</td>\n      <td>1.689</td>\n      <td>67433</td>\n      <td>Neustadt an der Weinstraße</td>\n      <td>14:14:32</td>\n      <td>14</td>\n      <td>14</td>\n      <td>32</td>\n      <td>1</td>\n      <td>1</td>\n    </tr>\n    <tr>\n      <th>581</th>\n      <td>2023-07-03 16:20:24</td>\n      <td>2023-07-03</td>\n      <td>67433+Neustadt+an+der+Weinstraße&amp;spritsorte</td>\n      <td>Adolf-Kolping-Str. 173</td>\n      <td>67433 Neustadt an der Weinstraße</td>\n      <td>GLOBUS Markthalle</td>\n      <td>1.699</td>\n      <td>67433</td>\n      <td>Neustadt an der Weinstraße</td>\n      <td>16:20:24</td>\n      <td>16</td>\n      <td>20</td>\n      <td>24</td>\n      <td>1</td>\n      <td>1</td>\n    </tr>\n    <tr>\n      <th>631</th>\n      <td>2023-07-03 18:19:22</td>\n      <td>2023-07-03</td>\n      <td>67433+Neustadt+an+der+Weinstraße&amp;spritsorte</td>\n      <td>Adolf-Kolping-Str. 173</td>\n      <td>67433 Neustadt an der Weinstraße</td>\n      <td>GLOBUS Markthalle</td>\n      <td>1.699</td>\n      <td>67433</td>\n      <td>Neustadt an der Weinstraße</td>\n      <td>18:19:22</td>\n      <td>18</td>\n      <td>19</td>\n      <td>22</td>\n      <td>1</td>\n      <td>1</td>\n    </tr>\n    <tr>\n      <th>673</th>\n      <td>2023-07-03 20:17:24</td>\n      <td>2023-07-03</td>\n      <td>67433+Neustadt+an+der+Weinstraße&amp;spritsorte</td>\n      <td>Adolf-Kolping-Str. 173</td>\n      <td>67433 Neustadt an der Weinstraße</td>\n      <td>GLOBUS Markthalle</td>\n      <td>1.699</td>\n      <td>67433</td>\n      <td>Neustadt an der Weinstraße</td>\n      <td>20:17:24</td>\n      <td>20</td>\n      <td>17</td>\n      <td>24</td>\n      <td>1</td>\n      <td>1</td>\n    </tr>\n    <tr>\n      <th>699</th>\n      <td>2023-07-03 22:15:42</td>\n      <td>2023-07-03</td>\n      <td>67433+Neustadt+an+der+Weinstraße&amp;spritsorte</td>\n      <td>Adolf-Kolping-Str. 173</td>\n      <td>67433 Neustadt an der Weinstraße</td>\n      <td>GLOBUS Markthalle</td>\n      <td>1.739</td>\n      <td>67433</td>\n      <td>Neustadt an der Weinstraße</td>\n      <td>22:15:42</td>\n      <td>22</td>\n      <td>15</td>\n      <td>42</td>\n      <td>1</td>\n      <td>1</td>\n    </tr>\n    <tr>\n      <th>724</th>\n      <td>2023-07-04 01:40:26</td>\n      <td>2023-07-04</td>\n      <td>67433+Neustadt+an+der+Weinstraße&amp;spritsorte</td>\n      <td>Adolf-Kolping-Str. 173</td>\n      <td>67433 Neustadt an der Weinstraße</td>\n      <td>GLOBUS Markthalle</td>\n      <td>1.739</td>\n      <td>67433</td>\n      <td>Neustadt an der Weinstraße</td>\n      <td>01:40:26</td>\n      <td>01</td>\n      <td>40</td>\n      <td>26</td>\n      <td>2</td>\n      <td>1</td>\n    </tr>\n    <tr>\n      <th>751</th>\n      <td>2023-07-04 02:58:56</td>\n      <td>2023-07-04</td>\n      <td>67433+Neustadt+an+der+Weinstraße&amp;spritsorte</td>\n      <td>Adolf-Kolping-Str. 173</td>\n      <td>67433 Neustadt an der Weinstraße</td>\n      <td>GLOBUS Markthalle</td>\n      <td>1.739</td>\n      <td>67433</td>\n      <td>Neustadt an der Weinstraße</td>\n      <td>02:58:56</td>\n      <td>02</td>\n      <td>58</td>\n      <td>56</td>\n      <td>2</td>\n      <td>1</td>\n    </tr>\n    <tr>\n      <th>798</th>\n      <td>2023-07-04 04:19:49</td>\n      <td>2023-07-04</td>\n      <td>67433+Neustadt+an+der+Weinstraße&amp;spritsorte</td>\n      <td>Adolf-Kolping-Str. 173</td>\n      <td>67433 Neustadt an der Weinstraße</td>\n      <td>GLOBUS Markthalle</td>\n      <td>1.729</td>\n      <td>67433</td>\n      <td>Neustadt an der Weinstraße</td>\n      <td>04:19:49</td>\n      <td>04</td>\n      <td>19</td>\n      <td>49</td>\n      <td>2</td>\n      <td>1</td>\n    </tr>\n    <tr>\n      <th>851</th>\n      <td>2023-07-04 06:22:03</td>\n      <td>2023-07-04</td>\n      <td>67433+Neustadt+an+der+Weinstraße&amp;spritsorte</td>\n      <td>Adolf-Kolping-Str. 173</td>\n      <td>67433 Neustadt an der Weinstraße</td>\n      <td>GLOBUS Markthalle</td>\n      <td>1.699</td>\n      <td>67433</td>\n      <td>Neustadt an der Weinstraße</td>\n      <td>06:22:03</td>\n      <td>06</td>\n      <td>22</td>\n      <td>03</td>\n      <td>2</td>\n      <td>1</td>\n    </tr>\n    <tr>\n      <th>903</th>\n      <td>2023-07-04 08:21:13</td>\n      <td>2023-07-04</td>\n      <td>67433+Neustadt+an+der+Weinstraße&amp;spritsorte</td>\n      <td>Adolf-Kolping-Str. 173</td>\n      <td>67433 Neustadt an der Weinstraße</td>\n      <td>GLOBUS Markthalle</td>\n      <td>1.699</td>\n      <td>67433</td>\n      <td>Neustadt an der Weinstraße</td>\n      <td>08:21:13</td>\n      <td>08</td>\n      <td>21</td>\n      <td>13</td>\n      <td>2</td>\n      <td>1</td>\n    </tr>\n    <tr>\n      <th>956</th>\n      <td>2023-07-04 10:18:27</td>\n      <td>2023-07-04</td>\n      <td>67433+Neustadt+an+der+Weinstraße&amp;spritsorte</td>\n      <td>Adolf-Kolping-Str. 173</td>\n      <td>67433 Neustadt an der Weinstraße</td>\n      <td>GLOBUS Markthalle</td>\n      <td>1.699</td>\n      <td>67433</td>\n      <td>Neustadt an der Weinstraße</td>\n      <td>10:18:27</td>\n      <td>10</td>\n      <td>18</td>\n      <td>27</td>\n      <td>2</td>\n      <td>1</td>\n    </tr>\n    <tr>\n      <th>1010</th>\n      <td>2023-07-04 12:34:29</td>\n      <td>2023-07-04</td>\n      <td>67433+Neustadt+an+der+Weinstraße&amp;spritsorte</td>\n      <td>Adolf-Kolping-Str. 173</td>\n      <td>67433 Neustadt an der Weinstraße</td>\n      <td>GLOBUS Markthalle</td>\n      <td>1.709</td>\n      <td>67433</td>\n      <td>Neustadt an der Weinstraße</td>\n      <td>12:34:29</td>\n      <td>12</td>\n      <td>34</td>\n      <td>29</td>\n      <td>2</td>\n      <td>1</td>\n    </tr>\n    <tr>\n      <th>1064</th>\n      <td>2023-07-04 14:15:07</td>\n      <td>2023-07-04</td>\n      <td>67433+Neustadt+an+der+Weinstraße&amp;spritsorte</td>\n      <td>Adolf-Kolping-Str. 173</td>\n      <td>67433 Neustadt an der Weinstraße</td>\n      <td>GLOBUS Markthalle</td>\n      <td>1.709</td>\n      <td>67433</td>\n      <td>Neustadt an der Weinstraße</td>\n      <td>14:15:07</td>\n      <td>14</td>\n      <td>15</td>\n      <td>07</td>\n      <td>2</td>\n      <td>1</td>\n    </tr>\n    <tr>\n      <th>1119</th>\n      <td>2023-07-04 16:21:48</td>\n      <td>2023-07-04</td>\n      <td>67433+Neustadt+an+der+Weinstraße&amp;spritsorte</td>\n      <td>Adolf-Kolping-Str. 173</td>\n      <td>67433 Neustadt an der Weinstraße</td>\n      <td>GLOBUS Markthalle</td>\n      <td>1.709</td>\n      <td>67433</td>\n      <td>Neustadt an der Weinstraße</td>\n      <td>16:21:48</td>\n      <td>16</td>\n      <td>21</td>\n      <td>48</td>\n      <td>2</td>\n      <td>1</td>\n    </tr>\n    <tr>\n      <th>1169</th>\n      <td>2023-07-04 18:21:01</td>\n      <td>2023-07-04</td>\n      <td>67433+Neustadt+an+der+Weinstraße&amp;spritsorte</td>\n      <td>Adolf-Kolping-Str. 173</td>\n      <td>67433 Neustadt an der Weinstraße</td>\n      <td>GLOBUS Markthalle</td>\n      <td>1.709</td>\n      <td>67433</td>\n      <td>Neustadt an der Weinstraße</td>\n      <td>18:21:01</td>\n      <td>18</td>\n      <td>21</td>\n      <td>01</td>\n      <td>2</td>\n      <td>1</td>\n    </tr>\n  </tbody>\n</table>\n</div>"
     },
     "execution_count": 39,
     "metadata": {},
     "output_type": "execute_result"
    }
   ],
   "source": [
    "df_1 = df.loc[df['ID']== 1]\n",
    "df_1"
   ],
   "metadata": {
    "collapsed": false,
    "pycharm": {
     "name": "#%%\n"
    }
   }
  },
  {
   "cell_type": "code",
   "execution_count": 45,
   "outputs": [],
   "source": [
    "#Trendlinie berechen\n",
    "x = np.arange(len(df_1))\n",
    "y = df_1['Preis'].values\n",
    "trend = np.polyfit(x, y, deg=1)  # Grad 1 für lineare Trendlinie"
   ],
   "metadata": {
    "collapsed": false,
    "pycharm": {
     "name": "#%%\n"
    }
   }
  },
  {
   "cell_type": "code",
   "execution_count": 54,
   "outputs": [
    {
     "data": {
      "text/plain": "<Figure size 432x288 with 1 Axes>",
      "image/png": "[encoded data removed]"
     },
     "metadata": {
      "needs_background": "light"
     },
     "output_type": "display_data"
    }
   ],
   "source": [
    "df_1 = df_1.sort_values('Uhrzeit')\n",
    "\n",
    "# Plot\n",
    "fig, ax = plt.subplots()\n",
    "line, = ax.plot(df_1['Uhrzeit'], df_1['Preis'], marker='o', linestyle='-')\n",
    "ax.set_xlabel('Uhrzeit')\n",
    "ax.set_ylabel('Preis')\n",
    "ax.set_title('Preisverlauf')\n",
    "ax.grid(True)  # Gitterlinien hinzufügen\n",
    "\n",
    "plt.xticks(rotation=45)\n",
    "plt.show()\n"
   ],
   "metadata": {
    "collapsed": false,
    "pycharm": {
     "name": "#%%\n"
    }
   }
  },
  {
   "cell_type": "code",
   "execution_count": 59,
   "outputs": [
    {
     "data": {
      "application/vnd.plotly.v1+json": {
       "data": [
        {
         "hovertemplate": "Uhrzeit=%{x}<br>Preis=%{y}<extra></extra>",
         "legendgroup": "",
         "line": {
          "color": "#636efa",
          "dash": "solid"
         },
         "marker": {
          "symbol": "circle"
         },
         "mode": "markers+lines",
         "name": "",
         "orientation": "v",
         "showlegend": false,
         "x": [
          "2023-07-02T18:18:23",
          "2023-07-02T19:25:32",
          "2023-07-02T20:15:30",
          "2023-07-02T22:13:57",
          "2023-07-03T01:40:19",
          "2023-07-03T02:56:56",
          "2023-07-03T04:19:31",
          "2023-07-03T06:21:10",
          "2023-07-03T08:20:19",
          "2023-07-03T10:17:22",
          "2023-07-03T12:35:08",
          "2023-07-03T14:14:32",
          "2023-07-03T16:20:24",
          "2023-07-03T18:19:22",
          "2023-07-03T20:17:24",
          "2023-07-03T22:15:42",
          "2023-07-04T01:40:26",
          "2023-07-04T02:58:56",
          "2023-07-04T04:19:49",
          "2023-07-04T06:22:03",
          "2023-07-04T08:21:13",
          "2023-07-04T10:18:27",
          "2023-07-04T12:34:29",
          "2023-07-04T14:15:07",
          "2023-07-04T16:21:48",
          "2023-07-04T18:21:01"
         ],
         "xaxis": "x",
         "y": [
          1.679,
          1.679,
          1.679,
          1.719,
          1.719,
          1.719,
          1.709,
          1.679,
          1.729,
          1.689,
          1.689,
          1.689,
          1.699,
          1.699,
          1.699,
          1.739,
          1.739,
          1.739,
          1.729,
          1.699,
          1.699,
          1.699,
          1.709,
          1.709,
          1.709,
          1.709
         ],
         "yaxis": "y",
         "type": "scatter"
        }
       ],
       "layout": {
        "template": {
         "data": {
          "histogram2dcontour": [
           {
            "type": "histogram2dcontour",
            "colorbar": {
             "outlinewidth": 0,
             "ticks": ""
            },
            "colorscale": [
             [
              0.0,
              "#0d0887"
             ],
             [
              0.1111111111111111,
              "#46039f"
             ],
             [
              0.2222222222222222,
              "#7201a8"
             ],
             [
              0.3333333333333333,
              "#9c179e"
             ],
             [
              0.4444444444444444,
              "#bd3786"
             ],
             [
              0.5555555555555556,
              "#d8576b"
             ],
             [
              0.6666666666666666,
              "#ed7953"
             ],
             [
              0.7777777777777778,
              "#fb9f3a"
             ],
             [
              0.8888888888888888,
              "#fdca26"
             ],
             [
              1.0,
              "#f0f921"
             ]
            ]
           }
          ],
          "choropleth": [
           {
            "type": "choropleth",
            "colorbar": {
             "outlinewidth": 0,
             "ticks": ""
            }
           }
          ],
          "histogram2d": [
           {
            "type": "histogram2d",
            "colorbar": {
             "outlinewidth": 0,
             "ticks": ""
            },
            "colorscale": [
             [
              0.0,
              "#0d0887"
             ],
             [
              0.1111111111111111,
              "#46039f"
             ],
             [
              0.2222222222222222,
              "#7201a8"
             ],
             [
              0.3333333333333333,
              "#9c179e"
             ],
             [
              0.4444444444444444,
              "#bd3786"
             ],
             [
              0.5555555555555556,
              "#d8576b"
             ],
             [
              0.6666666666666666,
              "#ed7953"
             ],
             [
              0.7777777777777778,
              "#fb9f3a"
             ],
             [
              0.8888888888888888,
              "#fdca26"
             ],
             [
              1.0,
              "#f0f921"
             ]
            ]
           }
          ],
          "heatmap": [
           {
            "type": "heatmap",
            "colorbar": {
             "outlinewidth": 0,
             "ticks": ""
            },
            "colorscale": [
             [
              0.0,
              "#0d0887"
             ],
             [
              0.1111111111111111,
              "#46039f"
             ],
             [
              0.2222222222222222,
              "#7201a8"
             ],
             [
              0.3333333333333333,
              "#9c179e"
             ],
             [
              0.4444444444444444,
              "#bd3786"
             ],
             [
              0.5555555555555556,
              "#d8576b"
             ],
             [
              0.6666666666666666,
              "#ed7953"
             ],
             [
              0.7777777777777778,
              "#fb9f3a"
             ],
             [
              0.8888888888888888,
              "#fdca26"
             ],
             [
              1.0,
              "#f0f921"
             ]
            ]
           }
          ],
          "heatmapgl": [
           {
            "type": "heatmapgl",
            "colorbar": {
             "outlinewidth": 0,
             "ticks": ""
            },
            "colorscale": [
             [
              0.0,
              "#0d0887"
             ],
             [
              0.1111111111111111,
              "#46039f"
             ],
             [
              0.2222222222222222,
              "#7201a8"
             ],
             [
              0.3333333333333333,
              "#9c179e"
             ],
             [
              0.4444444444444444,
              "#bd3786"
             ],
             [
              0.5555555555555556,
              "#d8576b"
             ],
             [
              0.6666666666666666,
              "#ed7953"
             ],
             [
              0.7777777777777778,
              "#fb9f3a"
             ],
             [
              0.8888888888888888,
              "#fdca26"
             ],
             [
              1.0,
              "#f0f921"
             ]
            ]
           }
          ],
          "contourcarpet": [
           {
            "type": "contourcarpet",
            "colorbar": {
             "outlinewidth": 0,
             "ticks": ""
            }
           }
          ],
          "contour": [
           {
            "type": "contour",
            "colorbar": {
             "outlinewidth": 0,
             "ticks": ""
            },
            "colorscale": [
             [
              0.0,
              "#0d0887"
             ],
             [
              0.1111111111111111,
              "#46039f"
             ],
             [
              0.2222222222222222,
              "#7201a8"
             ],
             [
              0.3333333333333333,
              "#9c179e"
             ],
             [
              0.4444444444444444,
              "#bd3786"
             ],
             [
              0.5555555555555556,
              "#d8576b"
             ],
             [
              0.6666666666666666,
              "#ed7953"
             ],
             [
              0.7777777777777778,
              "#fb9f3a"
             ],
             [
              0.8888888888888888,
              "#fdca26"
             ],
             [
              1.0,
              "#f0f921"
             ]
            ]
           }
          ],
          "surface": [
           {
            "type": "surface",
            "colorbar": {
             "outlinewidth": 0,
             "ticks": ""
            },
            "colorscale": [
             [
              0.0,
              "#0d0887"
             ],
             [
              0.1111111111111111,
              "#46039f"
             ],
             [
              0.2222222222222222,
              "#7201a8"
             ],
             [
              0.3333333333333333,
              "#9c179e"
             ],
             [
              0.4444444444444444,
              "#bd3786"
             ],
             [
              0.5555555555555556,
              "#d8576b"
             ],
             [
              0.6666666666666666,
              "#ed7953"
             ],
             [
              0.7777777777777778,
              "#fb9f3a"
             ],
             [
              0.8888888888888888,
              "#fdca26"
             ],
             [
              1.0,
              "#f0f921"
             ]
            ]
           }
          ],
          "mesh3d": [
           {
            "type": "mesh3d",
            "colorbar": {
             "outlinewidth": 0,
             "ticks": ""
            }
           }
          ],
          "scatter": [
           {
            "fillpattern": {
             "fillmode": "overlay",
             "size": 10,
             "solidity": 0.2
            },
            "type": "scatter"
           }
          ],
          "parcoords": [
           {
            "type": "parcoords",
            "line": {
             "colorbar": {
              "outlinewidth": 0,
              "ticks": ""
             }
            }
           }
          ],
          "scatterpolargl": [
           {
            "type": "scatterpolargl",
            "marker": {
             "colorbar": {
              "outlinewidth": 0,
              "ticks": ""
             }
            }
           }
          ],
          "bar": [
           {
            "error_x": {
             "color": "#2a3f5f"
            },
            "error_y": {
             "color": "#2a3f5f"
            },
            "marker": {
             "line": {
              "color": "#E5ECF6",
              "width": 0.5
             },
             "pattern": {
              "fillmode": "overlay",
              "size": 10,
              "solidity": 0.2
             }
            },
            "type": "bar"
           }
          ],
          "scattergeo": [
           {
            "type": "scattergeo",
            "marker": {
             "colorbar": {
              "outlinewidth": 0,
              "ticks": ""
             }
            }
           }
          ],
          "scatterpolar": [
           {
            "type": "scatterpolar",
            "marker": {
             "colorbar": {
              "outlinewidth": 0,
              "ticks": ""
             }
            }
           }
          ],
          "histogram": [
           {
            "marker": {
             "pattern": {
              "fillmode": "overlay",
              "size": 10,
              "solidity": 0.2
             }
            },
            "type": "histogram"
           }
          ],
          "scattergl": [
           {
            "type": "scattergl",
            "marker": {
             "colorbar": {
              "outlinewidth": 0,
              "ticks": ""
             }
            }
           }
          ],
          "scatter3d": [
           {
            "type": "scatter3d",
            "line": {
             "colorbar": {
              "outlinewidth": 0,
              "ticks": ""
             }
            },
            "marker": {
             "colorbar": {
              "outlinewidth": 0,
              "ticks": ""
             }
            }
           }
          ],
          "scattermapbox": [
           {
            "type": "scattermapbox",
            "marker": {
             "colorbar": {
              "outlinewidth": 0,
              "ticks": ""
             }
            }
           }
          ],
          "scatterternary": [
           {
            "type": "scatterternary",
            "marker": {
             "colorbar": {
              "outlinewidth": 0,
              "ticks": ""
             }
            }
           }
          ],
          "scattercarpet": [
           {
            "type": "scattercarpet",
            "marker": {
             "colorbar": {
              "outlinewidth": 0,
              "ticks": ""
             }
            }
           }
          ],
          "carpet": [
           {
            "aaxis": {
             "endlinecolor": "#2a3f5f",
             "gridcolor": "white",
             "linecolor": "white",
             "minorgridcolor": "white",
             "startlinecolor": "#2a3f5f"
            },
            "baxis": {
             "endlinecolor": "#2a3f5f",
             "gridcolor": "white",
             "linecolor": "white",
             "minorgridcolor": "white",
             "startlinecolor": "#2a3f5f"
            },
            "type": "carpet"
           }
          ],
          "table": [
           {
            "cells": {
             "fill": {
              "color": "#EBF0F8"
             },
             "line": {
              "color": "white"
             }
            },
            "header": {
             "fill": {
              "color": "#C8D4E3"
             },
             "line": {
              "color": "white"
             }
            },
            "type": "table"
           }
          ],
          "barpolar": [
           {
            "marker": {
             "line": {
              "color": "#E5ECF6",
              "width": 0.5
             },
             "pattern": {
              "fillmode": "overlay",
              "size": 10,
              "solidity": 0.2
             }
            },
            "type": "barpolar"
           }
          ],
          "pie": [
           {
            "automargin": true,
            "type": "pie"
           }
          ]
         },
         "layout": {
          "autotypenumbers": "strict",
          "colorway": [
           "#636efa",
           "#EF553B",
           "#00cc96",
           "#ab63fa",
           "#FFA15A",
           "#19d3f3",
           "#FF6692",
           "#B6E880",
           "#FF97FF",
           "#FECB52"
          ],
          "font": {
           "color": "#2a3f5f"
          },
          "hovermode": "closest",
          "hoverlabel": {
           "align": "left"
          },
          "paper_bgcolor": "white",
          "plot_bgcolor": "#E5ECF6",
          "polar": {
           "bgcolor": "#E5ECF6",
           "angularaxis": {
            "gridcolor": "white",
            "linecolor": "white",
            "ticks": ""
           },
           "radialaxis": {
            "gridcolor": "white",
            "linecolor": "white",
            "ticks": ""
           }
          },
          "ternary": {
           "bgcolor": "#E5ECF6",
           "aaxis": {
            "gridcolor": "white",
            "linecolor": "white",
            "ticks": ""
           },
           "baxis": {
            "gridcolor": "white",
            "linecolor": "white",
            "ticks": ""
           },
           "caxis": {
            "gridcolor": "white",
            "linecolor": "white",
            "ticks": ""
           }
          },
          "coloraxis": {
           "colorbar": {
            "outlinewidth": 0,
            "ticks": ""
           }
          },
          "colorscale": {
           "sequential": [
            [
             0.0,
             "#0d0887"
            ],
            [
             0.1111111111111111,
             "#46039f"
            ],
            [
             0.2222222222222222,
             "#7201a8"
            ],
            [
             0.3333333333333333,
             "#9c179e"
            ],
            [
             0.4444444444444444,
             "#bd3786"
            ],
            [
             0.5555555555555556,
             "#d8576b"
            ],
            [
             0.6666666666666666,
             "#ed7953"
            ],
            [
             0.7777777777777778,
             "#fb9f3a"
            ],
            [
             0.8888888888888888,
             "#fdca26"
            ],
            [
             1.0,
             "#f0f921"
            ]
           ],
           "sequentialminus": [
            [
             0.0,
             "#0d0887"
            ],
            [
             0.1111111111111111,
             "#46039f"
            ],
            [
             0.2222222222222222,
             "#7201a8"
            ],
            [
             0.3333333333333333,
             "#9c179e"
            ],
            [
             0.4444444444444444,
             "#bd3786"
            ],
            [
             0.5555555555555556,
             "#d8576b"
            ],
            [
             0.6666666666666666,
             "#ed7953"
            ],
            [
             0.7777777777777778,
             "#fb9f3a"
            ],
            [
             0.8888888888888888,
             "#fdca26"
            ],
            [
             1.0,
             "#f0f921"
            ]
           ],
           "diverging": [
            [
             0,
             "#8e0152"
            ],
            [
             0.1,
             "#c51b7d"
            ],
            [
             0.2,
             "#de77ae"
            ],
            [
             0.3,
             "#f1b6da"
            ],
            [
             0.4,
             "#fde0ef"
            ],
            [
             0.5,
             "#f7f7f7"
            ],
            [
             0.6,
             "#e6f5d0"
            ],
            [
             0.7,
             "#b8e186"
            ],
            [
             0.8,
             "#7fbc41"
            ],
            [
             0.9,
             "#4d9221"
            ],
            [
             1,
             "#276419"
            ]
           ]
          },
          "xaxis": {
           "gridcolor": "white",
           "linecolor": "white",
           "ticks": "",
           "title": {
            "standoff": 15
           },
           "zerolinecolor": "white",
           "automargin": true,
           "zerolinewidth": 2
          },
          "yaxis": {
           "gridcolor": "white",
           "linecolor": "white",
           "ticks": "",
           "title": {
            "standoff": 15
           },
           "zerolinecolor": "white",
           "automargin": true,
           "zerolinewidth": 2
          },
          "scene": {
           "xaxis": {
            "backgroundcolor": "#E5ECF6",
            "gridcolor": "white",
            "linecolor": "white",
            "showbackground": true,
            "ticks": "",
            "zerolinecolor": "white",
            "gridwidth": 2
           },
           "yaxis": {
            "backgroundcolor": "#E5ECF6",
            "gridcolor": "white",
            "linecolor": "white",
            "showbackground": true,
            "ticks": "",
            "zerolinecolor": "white",
            "gridwidth": 2
           },
           "zaxis": {
            "backgroundcolor": "#E5ECF6",
            "gridcolor": "white",
            "linecolor": "white",
            "showbackground": true,
            "ticks": "",
            "zerolinecolor": "white",
            "gridwidth": 2
           }
          },
          "shapedefaults": {
           "line": {
            "color": "#2a3f5f"
           }
          },
          "annotationdefaults": {
           "arrowcolor": "#2a3f5f",
           "arrowhead": 0,
           "arrowwidth": 1
          },
          "geo": {
           "bgcolor": "white",
           "landcolor": "#E5ECF6",
           "subunitcolor": "white",
           "showland": true,
           "showlakes": true,
           "lakecolor": "white"
          },
          "title": {
           "x": 0.05
          },
          "mapbox": {
           "style": "light"
          }
         }
        },
        "xaxis": {
         "anchor": "y",
         "domain": [
          0.0,
          1.0
         ],
         "title": {
          "text": "Datum"
         }
        },
        "yaxis": {
         "anchor": "x",
         "domain": [
          0.0,
          1.0
         ],
         "title": {
          "text": "Preis"
         }
        },
        "legend": {
         "tracegroupgap": 0
        },
        "margin": {
         "t": 60
        },
        "title": {
         "text": "Preisverlauf"
        }
       },
       "config": {
        "plotlyServerURL": "https://plot.ly"
       }
      },
      "text/html": "<div>                            <div id=\"63cc3867-5d69-4e70-940a-3e4bdbe8e097\" class=\"plotly-graph-div\" style=\"height:525px; width:100%;\"></div>            <script type=\"text/javascript\">                require([\"plotly\"], function(Plotly) {                    window.PLOTLYENV=window.PLOTLYENV || {};                                    if (document.getElementById(\"63cc3867-5d69-4e70-940a-3e4bdbe8e097\")) {                    Plotly.newPlot(                        \"63cc3867-5d69-4e70-940a-3e4bdbe8e097\",                        [{\"hovertemplate\":\"Uhrzeit=%{x}<br>Preis=%{y}<extra></extra>\",\"legendgroup\":\"\",\"line\":{\"color\":\"#636efa\",\"dash\":\"solid\"},\"marker\":{\"symbol\":\"circle\"},\"mode\":\"markers+lines\",\"name\":\"\",\"orientation\":\"v\",\"showlegend\":false,\"x\":[\"2023-07-02T18:18:23\",\"2023-07-02T19:25:32\",\"2023-07-02T20:15:30\",\"2023-07-02T22:13:57\",\"2023-07-03T01:40:19\",\"2023-07-03T02:56:56\",\"2023-07-03T04:19:31\",\"2023-07-03T06:21:10\",\"2023-07-03T08:20:19\",\"2023-07-03T10:17:22\",\"2023-07-03T12:35:08\",\"2023-07-03T14:14:32\",\"2023-07-03T16:20:24\",\"2023-07-03T18:19:22\",\"2023-07-03T20:17:24\",\"2023-07-03T22:15:42\",\"2023-07-04T01:40:26\",\"2023-07-04T02:58:56\",\"2023-07-04T04:19:49\",\"2023-07-04T06:22:03\",\"2023-07-04T08:21:13\",\"2023-07-04T10:18:27\",\"2023-07-04T12:34:29\",\"2023-07-04T14:15:07\",\"2023-07-04T16:21:48\",\"2023-07-04T18:21:01\"],\"xaxis\":\"x\",\"y\":[1.679,1.679,1.679,1.719,1.719,1.719,1.709,1.679,1.729,1.689,1.689,1.689,1.699,1.699,1.699,1.739,1.739,1.739,1.729,1.699,1.699,1.699,1.709,1.709,1.709,1.709],\"yaxis\":\"y\",\"type\":\"scatter\"}],                        {\"template\":{\"data\":{\"histogram2dcontour\":[{\"type\":\"histogram2dcontour\",\"colorbar\":{\"outlinewidth\":0,\"ticks\":\"\"},\"colorscale\":[[0.0,\"#0d0887\"],[0.1111111111111111,\"#46039f\"],[0.2222222222222222,\"#7201a8\"],[0.3333333333333333,\"#9c179e\"],[0.4444444444444444,\"#bd3786\"],[0.5555555555555556,\"#d8576b\"],[0.6666666666666666,\"#ed7953\"],[0.7777777777777778,\"#fb9f3a\"],[0.8888888888888888,\"#fdca26\"],[1.0,\"#f0f921\"]]}],\"choropleth\":[{\"type\":\"choropleth\",\"colorbar\":{\"outlinewidth\":0,\"ticks\":\"\"}}],\"histogram2d\":[{\"type\":\"histogram2d\",\"colorbar\":{\"outlinewidth\":0,\"ticks\":\"\"},\"colorscale\":[[0.0,\"#0d0887\"],[0.1111111111111111,\"#46039f\"],[0.2222222222222222,\"#7201a8\"],[0.3333333333333333,\"#9c179e\"],[0.4444444444444444,\"#bd3786\"],[0.5555555555555556,\"#d8576b\"],[0.6666666666666666,\"#ed7953\"],[0.7777777777777778,\"#fb9f3a\"],[0.8888888888888888,\"#fdca26\"],[1.0,\"#f0f921\"]]}],\"heatmap\":[{\"type\":\"heatmap\",\"colorbar\":{\"outlinewidth\":0,\"ticks\":\"\"},\"colorscale\":[[0.0,\"#0d0887\"],[0.1111111111111111,\"#46039f\"],[0.2222222222222222,\"#7201a8\"],[0.3333333333333333,\"#9c179e\"],[0.4444444444444444,\"#bd3786\"],[0.5555555555555556,\"#d8576b\"],[0.6666666666666666,\"#ed7953\"],[0.7777777777777778,\"#fb9f3a\"],[0.8888888888888888,\"#fdca26\"],[1.0,\"#f0f921\"]]}],\"heatmapgl\":[{\"type\":\"heatmapgl\",\"colorbar\":{\"outlinewidth\":0,\"ticks\":\"\"},\"colorscale\":[[0.0,\"#0d0887\"],[0.1111111111111111,\"#46039f\"],[0.2222222222222222,\"#7201a8\"],[0.3333333333333333,\"#9c179e\"],[0.4444444444444444,\"#bd3786\"],[0.5555555555555556,\"#d8576b\"],[0.6666666666666666,\"#ed7953\"],[0.7777777777777778,\"#fb9f3a\"],[0.8888888888888888,\"#fdca26\"],[1.0,\"#f0f921\"]]}],\"contourcarpet\":[{\"type\":\"contourcarpet\",\"colorbar\":{\"outlinewidth\":0,\"ticks\":\"\"}}],\"contour\":[{\"type\":\"contour\",\"colorbar\":{\"outlinewidth\":0,\"ticks\":\"\"},\"colorscale\":[[0.0,\"#0d0887\"],[0.1111111111111111,\"#46039f\"],[0.2222222222222222,\"#7201a8\"],[0.3333333333333333,\"#9c179e\"],[0.4444444444444444,\"#bd3786\"],[0.5555555555555556,\"#d8576b\"],[0.6666666666666666,\"#ed7953\"],[0.7777777777777778,\"#fb9f3a\"],[0.8888888888888888,\"#fdca26\"],[1.0,\"#f0f921\"]]}],\"surface\":[{\"type\":\"surface\",\"colorbar\":{\"outlinewidth\":0,\"ticks\":\"\"},\"colorscale\":[[0.0,\"#0d0887\"],[0.1111111111111111,\"#46039f\"],[0.2222222222222222,\"#7201a8\"],[0.3333333333333333,\"#9c179e\"],[0.4444444444444444,\"#bd3786\"],[0.5555555555555556,\"#d8576b\"],[0.6666666666666666,\"#ed7953\"],[0.7777777777777778,\"#fb9f3a\"],[0.8888888888888888,\"#fdca26\"],[1.0,\"#f0f921\"]]}],\"mesh3d\":[{\"type\":\"mesh3d\",\"colorbar\":{\"outlinewidth\":0,\"ticks\":\"\"}}],\"scatter\":[{\"fillpattern\":{\"fillmode\":\"overlay\",\"size\":10,\"solidity\":0.2},\"type\":\"scatter\"}],\"parcoords\":[{\"type\":\"parcoords\",\"line\":{\"colorbar\":{\"outlinewidth\":0,\"ticks\":\"\"}}}],\"scatterpolargl\":[{\"type\":\"scatterpolargl\",\"marker\":{\"colorbar\":{\"outlinewidth\":0,\"ticks\":\"\"}}}],\"bar\":[{\"error_x\":{\"color\":\"#2a3f5f\"},\"error_y\":{\"color\":\"#2a3f5f\"},\"marker\":{\"line\":{\"color\":\"#E5ECF6\",\"width\":0.5},\"pattern\":{\"fillmode\":\"overlay\",\"size\":10,\"solidity\":0.2}},\"type\":\"bar\"}],\"scattergeo\":[{\"type\":\"scattergeo\",\"marker\":{\"colorbar\":{\"outlinewidth\":0,\"ticks\":\"\"}}}],\"scatterpolar\":[{\"type\":\"scatterpolar\",\"marker\":{\"colorbar\":{\"outlinewidth\":0,\"ticks\":\"\"}}}],\"histogram\":[{\"marker\":{\"pattern\":{\"fillmode\":\"overlay\",\"size\":10,\"solidity\":0.2}},\"type\":\"histogram\"}],\"scattergl\":[{\"type\":\"scattergl\",\"marker\":{\"colorbar\":{\"outlinewidth\":0,\"ticks\":\"\"}}}],\"scatter3d\":[{\"type\":\"scatter3d\",\"line\":{\"colorbar\":{\"outlinewidth\":0,\"ticks\":\"\"}},\"marker\":{\"colorbar\":{\"outlinewidth\":0,\"ticks\":\"\"}}}],\"scattermapbox\":[{\"type\":\"scattermapbox\",\"marker\":{\"colorbar\":{\"outlinewidth\":0,\"ticks\":\"\"}}}],\"scatterternary\":[{\"type\":\"scatterternary\",\"marker\":{\"colorbar\":{\"outlinewidth\":0,\"ticks\":\"\"}}}],\"scattercarpet\":[{\"type\":\"scattercarpet\",\"marker\":{\"colorbar\":{\"outlinewidth\":0,\"ticks\":\"\"}}}],\"carpet\":[{\"aaxis\":{\"endlinecolor\":\"#2a3f5f\",\"gridcolor\":\"white\",\"linecolor\":\"white\",\"minorgridcolor\":\"white\",\"startlinecolor\":\"#2a3f5f\"},\"baxis\":{\"endlinecolor\":\"#2a3f5f\",\"gridcolor\":\"white\",\"linecolor\":\"white\",\"minorgridcolor\":\"white\",\"startlinecolor\":\"#2a3f5f\"},\"type\":\"carpet\"}],\"table\":[{\"cells\":{\"fill\":{\"color\":\"#EBF0F8\"},\"line\":{\"color\":\"white\"}},\"header\":{\"fill\":{\"color\":\"#C8D4E3\"},\"line\":{\"color\":\"white\"}},\"type\":\"table\"}],\"barpolar\":[{\"marker\":{\"line\":{\"color\":\"#E5ECF6\",\"width\":0.5},\"pattern\":{\"fillmode\":\"overlay\",\"size\":10,\"solidity\":0.2}},\"type\":\"barpolar\"}],\"pie\":[{\"automargin\":true,\"type\":\"pie\"}]},\"layout\":{\"autotypenumbers\":\"strict\",\"colorway\":[\"#636efa\",\"#EF553B\",\"#00cc96\",\"#ab63fa\",\"#FFA15A\",\"#19d3f3\",\"#FF6692\",\"#B6E880\",\"#FF97FF\",\"#FECB52\"],\"font\":{\"color\":\"#2a3f5f\"},\"hovermode\":\"closest\",\"hoverlabel\":{\"align\":\"left\"},\"paper_bgcolor\":\"white\",\"plot_bgcolor\":\"#E5ECF6\",\"polar\":{\"bgcolor\":\"#E5ECF6\",\"angularaxis\":{\"gridcolor\":\"white\",\"linecolor\":\"white\",\"ticks\":\"\"},\"radialaxis\":{\"gridcolor\":\"white\",\"linecolor\":\"white\",\"ticks\":\"\"}},\"ternary\":{\"bgcolor\":\"#E5ECF6\",\"aaxis\":{\"gridcolor\":\"white\",\"linecolor\":\"white\",\"ticks\":\"\"},\"baxis\":{\"gridcolor\":\"white\",\"linecolor\":\"white\",\"ticks\":\"\"},\"caxis\":{\"gridcolor\":\"white\",\"linecolor\":\"white\",\"ticks\":\"\"}},\"coloraxis\":{\"colorbar\":{\"outlinewidth\":0,\"ticks\":\"\"}},\"colorscale\":{\"sequential\":[[0.0,\"#0d0887\"],[0.1111111111111111,\"#46039f\"],[0.2222222222222222,\"#7201a8\"],[0.3333333333333333,\"#9c179e\"],[0.4444444444444444,\"#bd3786\"],[0.5555555555555556,\"#d8576b\"],[0.6666666666666666,\"#ed7953\"],[0.7777777777777778,\"#fb9f3a\"],[0.8888888888888888,\"#fdca26\"],[1.0,\"#f0f921\"]],\"sequentialminus\":[[0.0,\"#0d0887\"],[0.1111111111111111,\"#46039f\"],[0.2222222222222222,\"#7201a8\"],[0.3333333333333333,\"#9c179e\"],[0.4444444444444444,\"#bd3786\"],[0.5555555555555556,\"#d8576b\"],[0.6666666666666666,\"#ed7953\"],[0.7777777777777778,\"#fb9f3a\"],[0.8888888888888888,\"#fdca26\"],[1.0,\"#f0f921\"]],\"diverging\":[[0,\"#8e0152\"],[0.1,\"#c51b7d\"],[0.2,\"#de77ae\"],[0.3,\"#f1b6da\"],[0.4,\"#fde0ef\"],[0.5,\"#f7f7f7\"],[0.6,\"#e6f5d0\"],[0.7,\"#b8e186\"],[0.8,\"#7fbc41\"],[0.9,\"#4d9221\"],[1,\"#276419\"]]},\"xaxis\":{\"gridcolor\":\"white\",\"linecolor\":\"white\",\"ticks\":\"\",\"title\":{\"standoff\":15},\"zerolinecolor\":\"white\",\"automargin\":true,\"zerolinewidth\":2},\"yaxis\":{\"gridcolor\":\"white\",\"linecolor\":\"white\",\"ticks\":\"\",\"title\":{\"standoff\":15},\"zerolinecolor\":\"white\",\"automargin\":true,\"zerolinewidth\":2},\"scene\":{\"xaxis\":{\"backgroundcolor\":\"#E5ECF6\",\"gridcolor\":\"white\",\"linecolor\":\"white\",\"showbackground\":true,\"ticks\":\"\",\"zerolinecolor\":\"white\",\"gridwidth\":2},\"yaxis\":{\"backgroundcolor\":\"#E5ECF6\",\"gridcolor\":\"white\",\"linecolor\":\"white\",\"showbackground\":true,\"ticks\":\"\",\"zerolinecolor\":\"white\",\"gridwidth\":2},\"zaxis\":{\"backgroundcolor\":\"#E5ECF6\",\"gridcolor\":\"white\",\"linecolor\":\"white\",\"showbackground\":true,\"ticks\":\"\",\"zerolinecolor\":\"white\",\"gridwidth\":2}},\"shapedefaults\":{\"line\":{\"color\":\"#2a3f5f\"}},\"annotationdefaults\":{\"arrowcolor\":\"#2a3f5f\",\"arrowhead\":0,\"arrowwidth\":1},\"geo\":{\"bgcolor\":\"white\",\"landcolor\":\"#E5ECF6\",\"subunitcolor\":\"white\",\"showland\":true,\"showlakes\":true,\"lakecolor\":\"white\"},\"title\":{\"x\":0.05},\"mapbox\":{\"style\":\"light\"}}},\"xaxis\":{\"anchor\":\"y\",\"domain\":[0.0,1.0],\"title\":{\"text\":\"Datum\"}},\"yaxis\":{\"anchor\":\"x\",\"domain\":[0.0,1.0],\"title\":{\"text\":\"Preis\"}},\"legend\":{\"tracegroupgap\":0},\"margin\":{\"t\":60},\"title\":{\"text\":\"Preisverlauf\"}},                        {\"responsive\": true}                    ).then(function(){\n                            \nvar gd = document.getElementById('63cc3867-5d69-4e70-940a-3e4bdbe8e097');\nvar x = new MutationObserver(function (mutations, observer) {{\n        var display = window.getComputedStyle(gd).display;\n        if (!display || display === 'none') {{\n            console.log([gd, 'removed!']);\n            Plotly.purge(gd);\n            observer.disconnect();\n        }}\n}});\n\n// Listen for the removal of the full notebook cells\nvar notebookContainer = gd.closest('#notebook-container');\nif (notebookContainer) {{\n    x.observe(notebookContainer, {childList: true});\n}}\n\n// Listen for the clearing of the current output cell\nvar outputEl = gd.closest('.output');\nif (outputEl) {{\n    x.observe(outputEl, {childList: true});\n}}\n\n                        })                };                });            </script>        </div>"
     },
     "metadata": {},
     "output_type": "display_data"
    }
   ],
   "source": [
    "# Mit hoverover funktion\n",
    "fig = px.line(df_1, x='Uhrzeit', y='Preis', hover_data=['Preis'], markers=True)\n",
    "\n",
    "fig.update_layout(\n",
    "    title='Preisverlauf',\n",
    "    xaxis_title='Datum',\n",
    "    yaxis_title='Preis'\n",
    ")\n",
    "\n",
    "fig.show()"
   ],
   "metadata": {
    "collapsed": false,
    "pycharm": {
     "name": "#%%\n"
    }
   }
  }
 ],
 "metadata": {
  "kernelspec": {
   "display_name": "Python 3",
   "language": "python",
   "name": "python3"
  },
  "language_info": {
   "codemirror_mode": {
    "name": "ipython",
    "version": 2
   },
   "file_extension": ".py",
   "mimetype": "text/x-python",
   "name": "python",
   "nbconvert_exporter": "python",
   "pygments_lexer": "ipython2",
   "version": "2.7.6"
  }
 },
 "nbformat": 4,
 "nbformat_minor": 0
}