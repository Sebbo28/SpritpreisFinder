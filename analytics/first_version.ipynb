{
 "cells": [
  {
   "cell_type": "code",
   "execution_count": 1,
   "metadata": {
    "collapsed": true
   },
   "outputs": [],
   "source": [
    "import pandas as pd"
   ]
  },
  {
   "cell_type": "code",
   "execution_count": 2,
   "outputs": [
    {
     "data": {
      "text/plain": "                 Datum     Uhrzeit                        Region  \\\n0  2023-07-02 19:25:32  2023-07-02  76135+Karlsruhe%2FBeiertheim   \n1  2023-07-02 19:25:32  2023-07-02  76135+Karlsruhe%2FBeiertheim   \n2  2023-07-02 19:25:32  2023-07-02  76135+Karlsruhe%2FBeiertheim   \n3  2023-07-02 19:25:32  2023-07-02  76135+Karlsruhe%2FBeiertheim   \n4  2023-07-02 19:25:32  2023-07-02  76135+Karlsruhe%2FBeiertheim   \n\n               Strasse          Ort_PLZ                           Tankstelle  \\\n0    Eichelbergstr. 34  76189 Karlsruhe                Supermarkt Tankstelle   \n1       Hardeckstr. 16  76185 Karlsruhe  Eberhardt, Hardeckstraße, Karlsruhe   \n2         Lameystr.  7  76185 Karlsruhe                                  bft   \n3       Fettweisstr. 8  76189 Karlsruhe                                  bft   \n4  Waldhorn Str. 14-16  76137 Karlsruhe                ZG Raiffeisen Energie   \n\n   Preis  \n0  1.699  \n1  1.709  \n2  1.719  \n3  1.719  \n4  1.719  ",
      "text/html": "<div>\n<style scoped>\n    .dataframe tbody tr th:only-of-type {\n        vertical-align: middle;\n    }\n\n    .dataframe tbody tr th {\n        vertical-align: top;\n    }\n\n    .dataframe thead th {\n        text-align: right;\n    }\n</style>\n<table border=\"1\" class=\"dataframe\">\n  <thead>\n    <tr style=\"text-align: right;\">\n      <th></th>\n      <th>Datum</th>\n      <th>Uhrzeit</th>\n      <th>Region</th>\n      <th>Strasse</th>\n      <th>Ort_PLZ</th>\n      <th>Tankstelle</th>\n      <th>Preis</th>\n    </tr>\n  </thead>\n  <tbody>\n    <tr>\n      <th>0</th>\n      <td>2023-07-02 19:25:32</td>\n      <td>2023-07-02</td>\n      <td>76135+Karlsruhe%2FBeiertheim</td>\n      <td>Eichelbergstr. 34</td>\n      <td>76189 Karlsruhe</td>\n      <td>Supermarkt Tankstelle</td>\n      <td>1.699</td>\n    </tr>\n    <tr>\n      <th>1</th>\n      <td>2023-07-02 19:25:32</td>\n      <td>2023-07-02</td>\n      <td>76135+Karlsruhe%2FBeiertheim</td>\n      <td>Hardeckstr. 16</td>\n      <td>76185 Karlsruhe</td>\n      <td>Eberhardt, Hardeckstraße, Karlsruhe</td>\n      <td>1.709</td>\n    </tr>\n    <tr>\n      <th>2</th>\n      <td>2023-07-02 19:25:32</td>\n      <td>2023-07-02</td>\n      <td>76135+Karlsruhe%2FBeiertheim</td>\n      <td>Lameystr.  7</td>\n      <td>76185 Karlsruhe</td>\n      <td>bft</td>\n      <td>1.719</td>\n    </tr>\n    <tr>\n      <th>3</th>\n      <td>2023-07-02 19:25:32</td>\n      <td>2023-07-02</td>\n      <td>76135+Karlsruhe%2FBeiertheim</td>\n      <td>Fettweisstr. 8</td>\n      <td>76189 Karlsruhe</td>\n      <td>bft</td>\n      <td>1.719</td>\n    </tr>\n    <tr>\n      <th>4</th>\n      <td>2023-07-02 19:25:32</td>\n      <td>2023-07-02</td>\n      <td>76135+Karlsruhe%2FBeiertheim</td>\n      <td>Waldhorn Str. 14-16</td>\n      <td>76137 Karlsruhe</td>\n      <td>ZG Raiffeisen Energie</td>\n      <td>1.719</td>\n    </tr>\n  </tbody>\n</table>\n</div>"
     },
     "execution_count": 2,
     "metadata": {},
     "output_type": "execute_result"
    }
   ],
   "source": [
    "df  = pd.read_csv(\"../spritpreise.csv\")\n",
    "df.head()"
   ],
   "metadata": {
    "collapsed": false,
    "pycharm": {
     "name": "#%%\n"
    }
   }
  },
  {
   "cell_type": "code",
   "execution_count": 6,
   "outputs": [
    {
     "data": {
      "text/plain": "                 Datum     Uhrzeit                        Region  \\\n0  2023-07-02 19:25:32  2023-07-02  76135+Karlsruhe%2FBeiertheim   \n1  2023-07-02 19:25:32  2023-07-02  76135+Karlsruhe%2FBeiertheim   \n2  2023-07-02 19:25:32  2023-07-02  76135+Karlsruhe%2FBeiertheim   \n3  2023-07-02 19:25:32  2023-07-02  76135+Karlsruhe%2FBeiertheim   \n4  2023-07-02 19:25:32  2023-07-02  76135+Karlsruhe%2FBeiertheim   \n\n               Strasse          Ort_PLZ                           Tankstelle  \\\n0    Eichelbergstr. 34  76189 Karlsruhe                Supermarkt Tankstelle   \n1       Hardeckstr. 16  76185 Karlsruhe  Eberhardt, Hardeckstraße, Karlsruhe   \n2         Lameystr.  7  76185 Karlsruhe                                  bft   \n3       Fettweisstr. 8  76189 Karlsruhe                                  bft   \n4  Waldhorn Str. 14-16  76137 Karlsruhe                ZG Raiffeisen Energie   \n\n   Preis    PLZ        Ort  \n0  1.699  76189  Karlsruhe  \n1  1.709  76185  Karlsruhe  \n2  1.719  76185  Karlsruhe  \n3  1.719  76189  Karlsruhe  \n4  1.719  76137  Karlsruhe  ",
      "text/html": "<div>\n<style scoped>\n    .dataframe tbody tr th:only-of-type {\n        vertical-align: middle;\n    }\n\n    .dataframe tbody tr th {\n        vertical-align: top;\n    }\n\n    .dataframe thead th {\n        text-align: right;\n    }\n</style>\n<table border=\"1\" class=\"dataframe\">\n  <thead>\n    <tr style=\"text-align: right;\">\n      <th></th>\n      <th>Datum</th>\n      <th>Uhrzeit</th>\n      <th>Region</th>\n      <th>Strasse</th>\n      <th>Ort_PLZ</th>\n      <th>Tankstelle</th>\n      <th>Preis</th>\n      <th>PLZ</th>\n      <th>Ort</th>\n    </tr>\n  </thead>\n  <tbody>\n    <tr>\n      <th>0</th>\n      <td>2023-07-02 19:25:32</td>\n      <td>2023-07-02</td>\n      <td>76135+Karlsruhe%2FBeiertheim</td>\n      <td>Eichelbergstr. 34</td>\n      <td>76189 Karlsruhe</td>\n      <td>Supermarkt Tankstelle</td>\n      <td>1.699</td>\n      <td>76189</td>\n      <td>Karlsruhe</td>\n    </tr>\n    <tr>\n      <th>1</th>\n      <td>2023-07-02 19:25:32</td>\n      <td>2023-07-02</td>\n      <td>76135+Karlsruhe%2FBeiertheim</td>\n      <td>Hardeckstr. 16</td>\n      <td>76185 Karlsruhe</td>\n      <td>Eberhardt, Hardeckstraße, Karlsruhe</td>\n      <td>1.709</td>\n      <td>76185</td>\n      <td>Karlsruhe</td>\n    </tr>\n    <tr>\n      <th>2</th>\n      <td>2023-07-02 19:25:32</td>\n      <td>2023-07-02</td>\n      <td>76135+Karlsruhe%2FBeiertheim</td>\n      <td>Lameystr.  7</td>\n      <td>76185 Karlsruhe</td>\n      <td>bft</td>\n      <td>1.719</td>\n      <td>76185</td>\n      <td>Karlsruhe</td>\n    </tr>\n    <tr>\n      <th>3</th>\n      <td>2023-07-02 19:25:32</td>\n      <td>2023-07-02</td>\n      <td>76135+Karlsruhe%2FBeiertheim</td>\n      <td>Fettweisstr. 8</td>\n      <td>76189 Karlsruhe</td>\n      <td>bft</td>\n      <td>1.719</td>\n      <td>76189</td>\n      <td>Karlsruhe</td>\n    </tr>\n    <tr>\n      <th>4</th>\n      <td>2023-07-02 19:25:32</td>\n      <td>2023-07-02</td>\n      <td>76135+Karlsruhe%2FBeiertheim</td>\n      <td>Waldhorn Str. 14-16</td>\n      <td>76137 Karlsruhe</td>\n      <td>ZG Raiffeisen Energie</td>\n      <td>1.719</td>\n      <td>76137</td>\n      <td>Karlsruhe</td>\n    </tr>\n  </tbody>\n</table>\n</div>"
     },
     "execution_count": 6,
     "metadata": {},
     "output_type": "execute_result"
    }
   ],
   "source": [
    "df[[\"PLZ\",\"Ort\"]] = df[\"Ort_PLZ\"].str.split(' ',1, expand =True)\n",
    "df.head()"
   ],
   "metadata": {
    "collapsed": false,
    "pycharm": {
     "name": "#%%\n"
    }
   }
  },
  {
   "cell_type": "code",
   "execution_count": null,
   "outputs": [],
   "source": [],
   "metadata": {
    "collapsed": false,
    "pycharm": {
     "name": "#%%\n"
    }
   }
  },
  {
   "cell_type": "code",
   "execution_count": 17,
   "outputs": [
    {
     "data": {
      "text/plain": "                                          Preis\nOrt                        Uhrzeit             \nEttlingen                  2023-07-02  1.819000\n                           2023-07-03  1.818000\nKarlsruhe                  2023-07-03  1.794067\nRheinstetten               2023-07-03  1.786500\nKnielingen                 2023-07-03  1.776500\nRheinstetten               2023-07-02  1.759000\nKarlsruhe                  2023-07-02  1.750942\nLandau in der Pfalz        2023-07-03  1.746802\n                           2023-07-02  1.743286\nKnielingen                 2023-07-02  1.729000\nNeustadt an der Weinstraße 2023-07-03  1.725731\n                           2023-07-02  1.711941\nBornheim                   2023-07-03  1.695667",
      "text/html": "<div>\n<style scoped>\n    .dataframe tbody tr th:only-of-type {\n        vertical-align: middle;\n    }\n\n    .dataframe tbody tr th {\n        vertical-align: top;\n    }\n\n    .dataframe thead th {\n        text-align: right;\n    }\n</style>\n<table border=\"1\" class=\"dataframe\">\n  <thead>\n    <tr style=\"text-align: right;\">\n      <th></th>\n      <th></th>\n      <th>Preis</th>\n    </tr>\n    <tr>\n      <th>Ort</th>\n      <th>Uhrzeit</th>\n      <th></th>\n    </tr>\n  </thead>\n  <tbody>\n    <tr>\n      <th rowspan=\"2\" valign=\"top\">Ettlingen</th>\n      <th>2023-07-02</th>\n      <td>1.819000</td>\n    </tr>\n    <tr>\n      <th>2023-07-03</th>\n      <td>1.818000</td>\n    </tr>\n    <tr>\n      <th>Karlsruhe</th>\n      <th>2023-07-03</th>\n      <td>1.794067</td>\n    </tr>\n    <tr>\n      <th>Rheinstetten</th>\n      <th>2023-07-03</th>\n      <td>1.786500</td>\n    </tr>\n    <tr>\n      <th>Knielingen</th>\n      <th>2023-07-03</th>\n      <td>1.776500</td>\n    </tr>\n    <tr>\n      <th>Rheinstetten</th>\n      <th>2023-07-02</th>\n      <td>1.759000</td>\n    </tr>\n    <tr>\n      <th>Karlsruhe</th>\n      <th>2023-07-02</th>\n      <td>1.750942</td>\n    </tr>\n    <tr>\n      <th rowspan=\"2\" valign=\"top\">Landau in der Pfalz</th>\n      <th>2023-07-03</th>\n      <td>1.746802</td>\n    </tr>\n    <tr>\n      <th>2023-07-02</th>\n      <td>1.743286</td>\n    </tr>\n    <tr>\n      <th>Knielingen</th>\n      <th>2023-07-02</th>\n      <td>1.729000</td>\n    </tr>\n    <tr>\n      <th rowspan=\"2\" valign=\"top\">Neustadt an der Weinstraße</th>\n      <th>2023-07-03</th>\n      <td>1.725731</td>\n    </tr>\n    <tr>\n      <th>2023-07-02</th>\n      <td>1.711941</td>\n    </tr>\n    <tr>\n      <th>Bornheim</th>\n      <th>2023-07-03</th>\n      <td>1.695667</td>\n    </tr>\n  </tbody>\n</table>\n</div>"
     },
     "execution_count": 17,
     "metadata": {},
     "output_type": "execute_result"
    }
   ],
   "source": [
    "df.groupby(by=[\"Ort\",\"Datum\"]).mean().sort_values(by = 'Preis', ascending= False)"
   ],
   "metadata": {
    "collapsed": false,
    "pycharm": {
     "name": "#%%\n"
    }
   }
  }
 ],
 "metadata": {
  "kernelspec": {
   "display_name": "Python 3",
   "language": "python",
   "name": "python3"
  },
  "language_info": {
   "codemirror_mode": {
    "name": "ipython",
    "version": 2
   },
   "file_extension": ".py",
   "mimetype": "text/x-python",
   "name": "python",
   "nbconvert_exporter": "python",
   "pygments_lexer": "ipython2",
   "version": "2.7.6"
  }
 },
 "nbformat": 4,
 "nbformat_minor": 0
}