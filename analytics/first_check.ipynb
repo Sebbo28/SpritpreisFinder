{
 "cells": [
  {
   "cell_type": "code",
   "execution_count": null,
   "outputs": [],
   "source": [
    "import pandas as pd\n",
    "import matplotlib.pyplot as plt\n",
    "import hashlib\n",
    "import numpy as np\n",
    "#import mplcursors\n",
    "import mpldatacursor\n",
    "import plotly.express as px"
   ],
   "metadata": {
    "collapsed": false,
    "pycharm": {
     "name": "#%%\n"
    }
   }
  },
  {
   "cell_type": "code",
   "execution_count": null,
   "outputs": [],
   "source": [
    "df  = pd.read_csv(\"../data/raw/spritpreise_2023-07.csv\")\n",
    "df.head()"
   ],
   "metadata": {
    "collapsed": false,
    "pycharm": {
     "name": "#%%\n"
    }
   }
  },
  {
   "cell_type": "code",
   "execution_count": null,
   "metadata": {
    "collapsed": true
   },
   "outputs": [],
   "source": [
    "df.groupby(by=[\"Ort\"]).mean().sort_values(by = 'Ort', ascending= False)"
   ]
  },
  {
   "cell_type": "code",
   "execution_count": null,
   "outputs": [],
   "source": [
    "df.groupby(by=[\"Ort\",\"Wochentag\"]).mean().sort_values(by = 'Preis', ascending= False)"
   ],
   "metadata": {
    "collapsed": false,
    "pycharm": {
     "name": "#%%\n"
    }
   }
  },
  {
   "cell_type": "code",
   "execution_count": null,
   "outputs": [],
   "source": [
    "df_1 = df.loc[df['ID']== 1]\n",
    "df_1"
   ],
   "metadata": {
    "collapsed": false,
    "pycharm": {
     "name": "#%%\n"
    }
   }
  },
  {
   "cell_type": "code",
   "execution_count": null,
   "outputs": [],
   "source": [
    "#Trendlinie berechen\n",
    "x = np.arange(len(df_1))\n",
    "y = df_1['Preis'].values\n",
    "trend = np.polyfit(x, y, deg=1)  # Grad 1 für lineare Trendlinie"
   ],
   "metadata": {
    "collapsed": false,
    "pycharm": {
     "name": "#%%\n"
    }
   }
  },
  {
   "cell_type": "code",
   "execution_count": null,
   "outputs": [],
   "source": [
    "df_1 = df_1.sort_values('Uhrzeit')\n",
    "\n",
    "# Plot\n",
    "fig, ax = plt.subplots()\n",
    "line, = ax.plot(df_1['Uhrzeit'], df_1['Preis'], marker='o', linestyle='-')\n",
    "ax.set_xlabel('Uhrzeit')\n",
    "ax.set_ylabel('Preis')\n",
    "ax.set_title('Preisverlauf')\n",
    "ax.grid(True)  # Gitterlinien hinzufügen\n",
    "\n",
    "plt.xticks(rotation=45)\n",
    "plt.show()"
   ],
   "metadata": {
    "collapsed": false,
    "pycharm": {
     "name": "#%%\n"
    }
   }
  },
  {
   "cell_type": "code",
   "execution_count": null,
   "outputs": [],
   "source": [
    "# Mit hoverover funktion\n",
    "fig = px.line(df_1, x='Uhrzeit', y='Preis', hover_data=['Preis'], markers=True)\n",
    "\n",
    "fig.update_layout(\n",
    "    title='Preisverlauf',\n",
    "    xaxis_title='Datum',\n",
    "    yaxis_title='Preis'\n",
    ")\n",
    "\n",
    "fig.show()"
   ],
   "metadata": {
    "collapsed": false,
    "pycharm": {
     "name": "#%%\n"
    }
   }
  }
 ],
 "metadata": {
  "kernelspec": {
   "display_name": "Python 3",
   "language": "python",
   "name": "python3"
  },
  "language_info": {
   "codemirror_mode": {
    "name": "ipython",
    "version": 2
   },
   "file_extension": ".py",
   "mimetype": "text/x-python",
   "name": "python",
   "nbconvert_exporter": "python",
   "pygments_lexer": "ipython2",
   "version": "2.7.6"
  }
 },
 "nbformat": 4,
 "nbformat_minor": 0
}