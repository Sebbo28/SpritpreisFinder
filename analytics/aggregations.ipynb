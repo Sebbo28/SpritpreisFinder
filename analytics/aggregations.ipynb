{
 "cells": [
  {
   "cell_type": "code",
   "execution_count": 3,
   "outputs": [],
   "source": [
    "import pandas as pd\n",
    "import matplotlib.pyplot as plt\n",
    "import hashlib\n",
    "import numpy as np\n",
    "#import mplcursors\n",
    "import mpldatacursor\n",
    "import plotly.express as px"
   ],
   "metadata": {
    "collapsed": false,
    "pycharm": {
     "name": "#%%\n"
    }
   }
  },
  {
   "cell_type": "code",
   "execution_count": 4,
   "outputs": [
    {
     "data": {
      "text/plain": "               Uhrzeit       Datum                        Region  \\\n0  2023-07-02 19:25:32  2023-07-02  76135+Karlsruhe%2FBeiertheim   \n1  2023-07-02 19:25:32  2023-07-02  76135+Karlsruhe%2FBeiertheim   \n2  2023-07-02 19:25:32  2023-07-02  76135+Karlsruhe%2FBeiertheim   \n3  2023-07-02 19:25:32  2023-07-02  76135+Karlsruhe%2FBeiertheim   \n4  2023-07-02 19:25:32  2023-07-02  76135+Karlsruhe%2FBeiertheim   \n\n               Strasse          Ort_PLZ                           Tankstelle  \\\n0    Eichelbergstr. 34  76189 Karlsruhe                Supermarkt Tankstelle   \n1       Hardeckstr. 16  76185 Karlsruhe  Eberhardt, Hardeckstraße, Karlsruhe   \n2         Lameystr.  7  76185 Karlsruhe                                  bft   \n3       Fettweisstr. 8  76189 Karlsruhe                                  bft   \n4  Waldhorn Str. 14-16  76137 Karlsruhe                ZG Raiffeisen Energie   \n\n   Preis    PLZ        Ort      Zeit  Stunde  Minute  Sekunde  Wochentag  ID  \n0  1.699  76189  Karlsruhe  19:25:32      19      25       32          7  15  \n1  1.709  76185  Karlsruhe  19:25:32      19      25       32          7  22  \n2  1.719  76185  Karlsruhe  19:25:32      19      25       32          7  31  \n3  1.719  76189  Karlsruhe  19:25:32      19      25       32          7  18  \n4  1.719  76137  Karlsruhe  19:25:32      19      25       32          7  48  ",
      "text/html": "<div>\n<style scoped>\n    .dataframe tbody tr th:only-of-type {\n        vertical-align: middle;\n    }\n\n    .dataframe tbody tr th {\n        vertical-align: top;\n    }\n\n    .dataframe thead th {\n        text-align: right;\n    }\n</style>\n<table border=\"1\" class=\"dataframe\">\n  <thead>\n    <tr style=\"text-align: right;\">\n      <th></th>\n      <th>Uhrzeit</th>\n      <th>Datum</th>\n      <th>Region</th>\n      <th>Strasse</th>\n      <th>Ort_PLZ</th>\n      <th>Tankstelle</th>\n      <th>Preis</th>\n      <th>PLZ</th>\n      <th>Ort</th>\n      <th>Zeit</th>\n      <th>Stunde</th>\n      <th>Minute</th>\n      <th>Sekunde</th>\n      <th>Wochentag</th>\n      <th>ID</th>\n    </tr>\n  </thead>\n  <tbody>\n    <tr>\n      <th>0</th>\n      <td>2023-07-02 19:25:32</td>\n      <td>2023-07-02</td>\n      <td>76135+Karlsruhe%2FBeiertheim</td>\n      <td>Eichelbergstr. 34</td>\n      <td>76189 Karlsruhe</td>\n      <td>Supermarkt Tankstelle</td>\n      <td>1.699</td>\n      <td>76189</td>\n      <td>Karlsruhe</td>\n      <td>19:25:32</td>\n      <td>19</td>\n      <td>25</td>\n      <td>32</td>\n      <td>7</td>\n      <td>15</td>\n    </tr>\n    <tr>\n      <th>1</th>\n      <td>2023-07-02 19:25:32</td>\n      <td>2023-07-02</td>\n      <td>76135+Karlsruhe%2FBeiertheim</td>\n      <td>Hardeckstr. 16</td>\n      <td>76185 Karlsruhe</td>\n      <td>Eberhardt, Hardeckstraße, Karlsruhe</td>\n      <td>1.709</td>\n      <td>76185</td>\n      <td>Karlsruhe</td>\n      <td>19:25:32</td>\n      <td>19</td>\n      <td>25</td>\n      <td>32</td>\n      <td>7</td>\n      <td>22</td>\n    </tr>\n    <tr>\n      <th>2</th>\n      <td>2023-07-02 19:25:32</td>\n      <td>2023-07-02</td>\n      <td>76135+Karlsruhe%2FBeiertheim</td>\n      <td>Lameystr.  7</td>\n      <td>76185 Karlsruhe</td>\n      <td>bft</td>\n      <td>1.719</td>\n      <td>76185</td>\n      <td>Karlsruhe</td>\n      <td>19:25:32</td>\n      <td>19</td>\n      <td>25</td>\n      <td>32</td>\n      <td>7</td>\n      <td>31</td>\n    </tr>\n    <tr>\n      <th>3</th>\n      <td>2023-07-02 19:25:32</td>\n      <td>2023-07-02</td>\n      <td>76135+Karlsruhe%2FBeiertheim</td>\n      <td>Fettweisstr. 8</td>\n      <td>76189 Karlsruhe</td>\n      <td>bft</td>\n      <td>1.719</td>\n      <td>76189</td>\n      <td>Karlsruhe</td>\n      <td>19:25:32</td>\n      <td>19</td>\n      <td>25</td>\n      <td>32</td>\n      <td>7</td>\n      <td>18</td>\n    </tr>\n    <tr>\n      <th>4</th>\n      <td>2023-07-02 19:25:32</td>\n      <td>2023-07-02</td>\n      <td>76135+Karlsruhe%2FBeiertheim</td>\n      <td>Waldhorn Str. 14-16</td>\n      <td>76137 Karlsruhe</td>\n      <td>ZG Raiffeisen Energie</td>\n      <td>1.719</td>\n      <td>76137</td>\n      <td>Karlsruhe</td>\n      <td>19:25:32</td>\n      <td>19</td>\n      <td>25</td>\n      <td>32</td>\n      <td>7</td>\n      <td>48</td>\n    </tr>\n  </tbody>\n</table>\n</div>"
     },
     "execution_count": 4,
     "metadata": {},
     "output_type": "execute_result"
    }
   ],
   "source": [
    "df  = pd.read_csv(\"../data/prepared/prepared_2023-09-02.csv\", index_col=0)\n",
    "df.head()"
   ],
   "metadata": {
    "collapsed": false,
    "pycharm": {
     "name": "#%%\n"
    }
   }
  },
  {
   "cell_type": "code",
   "execution_count": 10,
   "outputs": [
    {
     "data": {
      "text/plain": "    Wochentag  Stunde     Preis\n87          7      19  1.741800\n37          3      23  1.754161\n47          4      16  1.755901\n35          3      20  1.758085\n34          3      18  1.758543\n..        ...     ...       ...\n43          4       8  1.819469\n17          2       8  1.821925\n68          6       8  1.822286\n55          5       8  1.822850\n5           1       8  1.827045\n\n[90 rows x 3 columns]",
      "text/html": "<div>\n<style scoped>\n    .dataframe tbody tr th:only-of-type {\n        vertical-align: middle;\n    }\n\n    .dataframe tbody tr th {\n        vertical-align: top;\n    }\n\n    .dataframe thead th {\n        text-align: right;\n    }\n</style>\n<table border=\"1\" class=\"dataframe\">\n  <thead>\n    <tr style=\"text-align: right;\">\n      <th></th>\n      <th>Wochentag</th>\n      <th>Stunde</th>\n      <th>Preis</th>\n    </tr>\n  </thead>\n  <tbody>\n    <tr>\n      <th>87</th>\n      <td>7</td>\n      <td>19</td>\n      <td>1.741800</td>\n    </tr>\n    <tr>\n      <th>37</th>\n      <td>3</td>\n      <td>23</td>\n      <td>1.754161</td>\n    </tr>\n    <tr>\n      <th>47</th>\n      <td>4</td>\n      <td>16</td>\n      <td>1.755901</td>\n    </tr>\n    <tr>\n      <th>35</th>\n      <td>3</td>\n      <td>20</td>\n      <td>1.758085</td>\n    </tr>\n    <tr>\n      <th>34</th>\n      <td>3</td>\n      <td>18</td>\n      <td>1.758543</td>\n    </tr>\n    <tr>\n      <th>...</th>\n      <td>...</td>\n      <td>...</td>\n      <td>...</td>\n    </tr>\n    <tr>\n      <th>43</th>\n      <td>4</td>\n      <td>8</td>\n      <td>1.819469</td>\n    </tr>\n    <tr>\n      <th>17</th>\n      <td>2</td>\n      <td>8</td>\n      <td>1.821925</td>\n    </tr>\n    <tr>\n      <th>68</th>\n      <td>6</td>\n      <td>8</td>\n      <td>1.822286</td>\n    </tr>\n    <tr>\n      <th>55</th>\n      <td>5</td>\n      <td>8</td>\n      <td>1.822850</td>\n    </tr>\n    <tr>\n      <th>5</th>\n      <td>1</td>\n      <td>8</td>\n      <td>1.827045</td>\n    </tr>\n  </tbody>\n</table>\n<p>90 rows × 3 columns</p>\n</div>"
     },
     "execution_count": 10,
     "metadata": {},
     "output_type": "execute_result"
    }
   ],
   "source": [
    "df_g_Wochentag = df.groupby(by=[\"Wochentag\",\"Stunde\"],as_index=False)['Preis'].mean().sort_values(by=['Preis'],ascending=True)\n",
    "df_g_Wochentag"
   ],
   "metadata": {
    "collapsed": false,
    "pycharm": {
     "name": "#%%\n"
    }
   }
  },
  {
   "cell_type": "code",
   "execution_count": 17,
   "metadata": {
    "collapsed": true
   },
   "outputs": [
    {
     "data": {
      "text/plain": "               Uhrzeit     Preis\n0  2023-07-03 01:40:19  1.734000\n1  2023-07-03 02:56:56  1.734000\n2  2023-07-03 04:19:31  1.730667\n3  2023-07-03 06:21:10  1.732333\n4  2023-07-03 08:20:19  1.737333",
      "text/html": "<div>\n<style scoped>\n    .dataframe tbody tr th:only-of-type {\n        vertical-align: middle;\n    }\n\n    .dataframe tbody tr th {\n        vertical-align: top;\n    }\n\n    .dataframe thead th {\n        text-align: right;\n    }\n</style>\n<table border=\"1\" class=\"dataframe\">\n  <thead>\n    <tr style=\"text-align: right;\">\n      <th></th>\n      <th>Uhrzeit</th>\n      <th>Preis</th>\n    </tr>\n  </thead>\n  <tbody>\n    <tr>\n      <th>0</th>\n      <td>2023-07-03 01:40:19</td>\n      <td>1.734000</td>\n    </tr>\n    <tr>\n      <th>1</th>\n      <td>2023-07-03 02:56:56</td>\n      <td>1.734000</td>\n    </tr>\n    <tr>\n      <th>2</th>\n      <td>2023-07-03 04:19:31</td>\n      <td>1.730667</td>\n    </tr>\n    <tr>\n      <th>3</th>\n      <td>2023-07-03 06:21:10</td>\n      <td>1.732333</td>\n    </tr>\n    <tr>\n      <th>4</th>\n      <td>2023-07-03 08:20:19</td>\n      <td>1.737333</td>\n    </tr>\n  </tbody>\n</table>\n</div>"
     },
     "execution_count": 17,
     "metadata": {},
     "output_type": "execute_result"
    }
   ],
   "source": [
    "df_1 = df.groupby(by=[\"Uhrzeit\"])['Preis'].mean().sort_index(ascending=True).reset_index()\n",
    "df_1.head()"
   ]
  },
  {
   "cell_type": "code",
   "execution_count": 18,
   "outputs": [],
   "source": [
    "#Trendlinie berechen\n",
    "x = np.arange(len(df_1))\n",
    "y = df_1['Preis'].values\n",
    "trend = np.polyfit(x, y, deg=1)  # Grad 1 für lineare Trendlinie"
   ],
   "metadata": {
    "collapsed": false,
    "pycharm": {
     "name": "#%%\n"
    }
   }
  },
  {
   "cell_type": "code",
   "execution_count": 19,
   "outputs": [
    {
     "data": {
      "text/plain": "<Figure size 1080x360 with 1 Axes>",
      "image/png": "[encoded data removed]"
     },
     "metadata": {
      "needs_background": "light"
     },
     "output_type": "display_data"
    }
   ],
   "source": [
    "#Size of the plot\n",
    "plt.rcParams['figure.figsize'] = [15, 5]\n",
    "# Plot\n",
    "fig, ax = plt.subplots()\n",
    "line, = ax.plot(df_1['Uhrzeit'], df_1['Preis'], marker='o', linestyle='-')\n",
    "ax.set_xlabel('Uhrzeit')\n",
    "ax.set_ylabel('Preis')\n",
    "ax.set_title('Preisverlauf')\n",
    "ax.grid(True)  # Gitterlinien hinzufügen\n",
    "\n",
    "plt.xticks(rotation=45)\n",
    "plt.show()"
   ],
   "metadata": {
    "collapsed": false,
    "pycharm": {
     "name": "#%%\n"
    }
   }
  },
  {
   "cell_type": "code",
   "execution_count": 14,
   "outputs": [
    {
     "data": {
      "application/vnd.plotly.v1+json": {
       "data": [
        {
         "hovertemplate": "Uhrzeit=%{x}<br>Preis=%{y}<extra></extra>",
         "legendgroup": "",
         "line": {
          "color": "#636efa",
          "dash": "solid"
         },
         "marker": {
          "symbol": "circle"
         },
         "mode": "markers+lines",
         "name": "",
         "orientation": "v",
         "showlegend": false,
         "x": [
          "2023-07-02 18:18:23",
          "2023-07-02 19:25:32",
          "2023-07-02 20:15:30",
          "2023-07-02 22:13:57",
          "2023-07-03 01:40:19",
          "2023-07-03 02:56:56",
          "2023-07-03 04:19:31",
          "2023-07-03 06:21:10",
          "2023-07-03 08:20:19",
          "2023-07-03 10:17:22",
          "2023-07-03 12:35:08",
          "2023-07-03 14:14:32",
          "2023-07-03 16:20:24",
          "2023-07-03 18:19:22",
          "2023-07-03 20:17:24",
          "2023-07-03 22:15:42",
          "2023-07-04 01:40:26",
          "2023-07-04 02:58:56",
          "2023-07-04 04:19:49",
          "2023-07-04 06:22:03",
          "2023-07-04 08:21:13",
          "2023-07-04 10:18:27",
          "2023-07-04 12:34:29",
          "2023-07-04 14:15:07",
          "2023-07-04 16:21:48",
          "2023-07-04 18:21:01",
          "2023-07-04 20:17:32",
          "2023-07-04 22:15:43",
          "2023-07-05 01:39:09",
          "2023-07-05 02:57:52",
          "2023-07-05 04:20:33",
          "2023-07-05 06:22:28",
          "2023-07-05 08:21:47",
          "2023-07-05 10:18:11",
          "2023-07-05 12:36:40",
          "2023-07-05 14:16:01",
          "2023-07-05 16:22:57",
          "2023-07-05 18:20:42",
          "2023-07-05 20:17:53",
          "2023-07-05 22:16:22",
          "2023-07-05 23:00:00",
          "2023-07-06 01:41:49",
          "2023-07-06 03:00:20",
          "2023-07-06 04:20:25",
          "2023-07-06 06:22:15",
          "2023-07-06 08:21:30",
          "2023-07-06 10:18:12",
          "2023-07-06 12:35:06",
          "2023-07-06 14:16:00",
          "2023-07-06 16:22:32",
          "2023-07-06 18:19:43",
          "2023-07-06 20:16:51",
          "2023-07-06 22:15:17",
          "2023-07-07 01:40:46",
          "2023-07-07 02:56:50",
          "2023-07-07 04:19:32",
          "2023-07-07 06:21:38",
          "2023-07-07 08:20:31",
          "2023-07-07 10:17:21",
          "2023-07-07 12:33:44",
          "2023-07-07 14:14:34",
          "2023-07-07 16:20:51",
          "2023-07-07 18:19:33",
          "2023-07-07 20:16:47",
          "2023-07-07 22:14:45",
          "2023-07-08 01:39:32",
          "2023-07-08 02:58:14",
          "2023-07-08 04:18:45",
          "2023-07-08 06:19:11",
          "2023-07-08 08:18:40",
          "2023-07-08 10:15:50",
          "2023-07-08 12:30:08",
          "2023-07-08 14:13:11",
          "2023-07-08 16:19:33",
          "2023-07-08 18:18:39",
          "2023-07-08 20:15:28",
          "2023-07-08 22:14:04",
          "2023-07-09 01:46:34",
          "2023-07-09 03:05:41",
          "2023-07-09 04:18:53",
          "2023-07-09 06:19:46",
          "2023-07-09 08:18:37",
          "2023-07-09 10:15:44",
          "2023-07-09 12:29:58",
          "2023-07-09 14:13:15",
          "2023-07-09 16:19:31",
          "2023-07-09 18:18:48",
          "2023-07-09 20:15:35",
          "2023-07-09 22:14:16",
          "2023-07-10 01:40:29",
          "2023-07-10 03:00:45",
          "2023-07-10 04:19:46",
          "2023-07-10 06:21:49",
          "2023-07-10 08:21:46",
          "2023-07-10 10:17:52",
          "2023-07-10 12:33:13",
          "2023-07-10 14:15:11",
          "2023-07-10 16:22:21",
          "2023-07-10 18:19:51",
          "2023-07-10 20:17:06",
          "2023-07-10 22:14:54",
          "2023-07-11 01:24:45",
          "2023-07-11 02:50:20",
          "2023-07-11 04:19:23",
          "2023-07-11 06:21:04",
          "2023-07-11 08:20:46",
          "2023-07-11 10:17:33",
          "2023-07-11 12:34:16",
          "2023-07-11 14:15:01",
          "2023-07-11 16:21:12",
          "2023-07-11 18:19:48",
          "2023-07-11 20:16:36",
          "2023-07-11 22:15:03",
          "2023-07-12 01:40:48",
          "2023-07-12 02:55:45",
          "2023-07-12 04:19:11",
          "2023-07-12 06:20:51",
          "2023-07-12 08:20:31",
          "2023-07-12 10:17:15",
          "2023-07-12 12:34:23",
          "2023-07-12 14:14:53",
          "2023-07-12 16:21:09",
          "2023-07-12 18:20:00",
          "2023-07-12 20:16:23",
          "2023-07-12 22:14:52",
          "2023-07-13 01:42:32",
          "2023-07-13 02:59:29",
          "2023-07-13 04:18:57",
          "2023-07-13 06:21:13",
          "2023-07-13 08:20:17",
          "2023-07-13 10:17:00",
          "2023-07-13 12:34:15",
          "2023-07-13 14:14:41",
          "2023-07-13 16:20:57",
          "2023-07-13 18:19:50",
          "2023-07-13 20:16:58",
          "2023-07-13 22:14:53",
          "2023-07-14 01:42:32",
          "2023-07-14 02:58:36",
          "2023-07-14 04:19:17",
          "2023-07-14 06:21:26",
          "2023-07-14 08:19:44",
          "2023-07-14 10:16:44",
          "2023-07-14 12:32:53",
          "2023-07-14 14:14:22",
          "2023-07-14 16:19:52",
          "2023-07-14 18:19:25",
          "2023-07-14 20:16:50",
          "2023-07-14 22:14:39",
          "2023-07-15 01:41:04",
          "2023-07-15 03:01:10",
          "2023-07-15 04:18:40",
          "2023-07-15 06:19:45",
          "2023-07-15 08:18:52",
          "2023-07-15 10:15:42",
          "2023-07-15 12:29:55",
          "2023-07-15 14:13:13",
          "2023-07-15 16:19:11",
          "2023-07-15 18:18:24",
          "2023-07-15 20:15:27",
          "2023-07-15 22:13:45",
          "2023-07-16 01:51:22",
          "2023-07-16 03:09:21",
          "2023-07-16 04:18:20",
          "2023-07-16 06:19:29",
          "2023-07-16 08:18:30",
          "2023-07-16 10:15:41",
          "2023-07-16 12:29:34",
          "2023-07-16 14:13:09",
          "2023-07-16 16:19:32",
          "2023-07-16 18:18:31",
          "2023-07-16 20:15:48",
          "2023-07-16 22:13:58",
          "2023-07-17 01:45:14",
          "2023-07-17 03:03:14",
          "2023-07-17 04:19:33",
          "2023-07-17 06:21:48",
          "2023-07-17 08:20:55",
          "2023-07-17 10:17:46",
          "2023-07-17 12:34:42",
          "2023-07-17 14:15:13",
          "2023-07-17 16:21:17",
          "2023-07-17 18:20:14",
          "2023-07-17 20:16:56",
          "2023-07-17 22:13:52",
          "2023-07-18 01:52:03",
          "2023-07-18 02:59:22",
          "2023-07-18 04:17:39",
          "2023-07-18 06:19:37",
          "2023-07-18 08:19:18",
          "2023-07-18 10:16:26",
          "2023-07-18 12:31:12",
          "2023-07-18 14:14:19",
          "2023-07-18 16:20:55",
          "2023-07-18 18:19:24",
          "2023-07-18 20:15:55",
          "2023-07-18 22:13:31",
          "2023-07-19 02:40:57",
          "2023-07-19 04:21:32",
          "2023-07-19 06:19:00",
          "2023-07-19 08:17:45",
          "2023-07-19 10:15:32",
          "2023-07-19 12:29:05",
          "2023-07-19 14:13:15",
          "2023-07-19 16:18:44",
          "2023-07-19 18:17:48",
          "2023-07-19 20:14:30",
          "2023-07-19 22:13:06",
          "2023-07-20 01:17:28",
          "2023-07-20 02:32:50",
          "2023-07-20 04:17:10",
          "2023-07-20 06:18:46",
          "2023-07-20 08:18:17",
          "2023-07-20 10:15:25",
          "2023-07-20 12:30:21",
          "2023-07-20 14:13:30",
          "2023-07-20 16:18:42",
          "2023-07-20 18:18:28",
          "2023-07-20 20:14:58",
          "2023-07-20 22:13:11",
          "2023-07-21 01:18:40",
          "2023-07-21 02:34:15",
          "2023-07-21 04:17:13",
          "2023-07-21 06:18:26",
          "2023-07-21 08:17:40",
          "2023-07-21 10:15:01",
          "2023-07-21 12:28:27",
          "2023-07-21 14:12:46",
          "2023-07-21 16:18:37",
          "2023-07-21 18:18:29",
          "2023-07-21 20:14:24",
          "2023-07-21 22:12:58",
          "2023-07-22 01:17:41",
          "2023-07-22 02:31:16",
          "2023-07-22 04:16:27",
          "2023-07-22 06:16:57",
          "2023-07-22 08:16:15",
          "2023-07-22 10:13:32",
          "2023-07-22 12:26:19",
          "2023-07-22 14:11:35",
          "2023-07-22 16:17:06",
          "2023-07-22 18:16:19",
          "2023-07-22 20:13:41",
          "2023-07-22 22:12:40",
          "2023-07-23 01:23:10",
          "2023-07-23 02:36:30",
          "2023-07-23 04:16:23",
          "2023-07-23 06:17:54",
          "2023-07-23 08:16:28",
          "2023-07-23 10:13:43",
          "2023-07-23 12:26:08",
          "2023-07-23 14:11:35",
          "2023-07-23 16:16:57",
          "2023-07-23 18:16:29",
          "2023-07-23 20:13:42",
          "2023-07-23 22:12:32",
          "2023-07-24 01:18:33",
          "2023-07-24 02:34:08",
          "2023-07-24 04:17:14",
          "2023-07-24 06:19:17",
          "2023-07-24 08:18:58",
          "2023-07-24 10:15:57",
          "2023-07-24 12:29:41",
          "2023-07-24 14:13:47",
          "2023-07-24 16:18:32",
          "2023-07-24 18:19:42",
          "2023-07-24 20:13:56",
          "2023-07-24 22:13:08",
          "2023-07-25 01:24:59",
          "2023-07-25 02:45:35",
          "2023-07-25 04:17:00",
          "2023-07-25 06:18:49",
          "2023-07-25 08:18:38",
          "2023-07-25 10:15:45",
          "2023-07-25 12:30:43",
          "2023-07-25 14:13:10",
          "2023-07-25 16:18:35",
          "2023-07-25 18:17:05",
          "2023-07-25 20:14:26",
          "2023-07-25 22:12:18",
          "2023-07-26 01:20:14",
          "2023-07-26 02:35:12",
          "2023-07-26 04:16:26",
          "2023-07-26 06:17:49",
          "2023-07-26 08:17:48",
          "2023-07-26 10:14:26",
          "2023-07-26 12:29:03",
          "2023-07-26 14:12:47",
          "2023-07-26 16:18:23",
          "2023-07-26 18:17:16",
          "2023-07-26 20:13:26",
          "2023-07-26 22:12:44",
          "2023-07-27 01:09:51",
          "2023-07-27 02:25:33",
          "2023-07-27 04:16:06",
          "2023-07-27 06:18:14",
          "2023-07-27 08:17:26",
          "2023-07-27 10:14:48",
          "2023-07-27 12:29:00",
          "2023-07-27 14:12:45",
          "2023-07-27 16:18:27",
          "2023-07-27 18:16:56",
          "2023-07-27 20:14:12",
          "2023-07-27 22:12:36",
          "2023-07-28 01:11:12",
          "2023-07-28 02:28:42",
          "2023-07-28 04:16:28",
          "2023-07-28 06:18:04",
          "2023-07-28 08:17:18",
          "2023-07-28 10:14:24",
          "2023-07-28 12:28:39",
          "2023-07-28 14:12:15",
          "2023-07-28 16:18:08",
          "2023-07-28 18:15:55",
          "2023-07-28 20:13:57",
          "2023-07-28 22:12:32",
          "2023-07-29 01:11:23",
          "2023-07-29 02:25:38",
          "2023-07-29 04:15:52",
          "2023-07-29 06:16:26",
          "2023-07-29 08:15:35",
          "2023-07-29 10:13:15",
          "2023-07-29 12:25:26",
          "2023-07-29 14:11:06",
          "2023-07-29 16:16:33",
          "2023-07-29 18:15:48",
          "2023-07-29 20:13:10",
          "2023-07-29 22:11:56",
          "2023-07-30 01:14:28",
          "2023-07-30 02:27:55",
          "2023-07-30 04:15:50",
          "2023-07-30 06:16:49",
          "2023-07-30 08:15:55",
          "2023-07-30 10:13:13",
          "2023-07-30 12:25:54",
          "2023-07-30 14:11:12",
          "2023-07-30 16:16:33",
          "2023-07-30 18:15:55",
          "2023-07-30 20:13:07",
          "2023-07-30 22:12:11",
          "2023-07-31 01:14:23",
          "2023-07-31 02:31:10",
          "2023-07-31 04:17:05",
          "2023-07-31 06:18:46",
          "2023-07-31 08:18:58",
          "2023-07-31 10:15:39",
          "2023-07-31 12:31:07",
          "2023-07-31 14:13:45",
          "2023-07-31 16:19:30",
          "2023-07-31 18:17:34",
          "2023-07-31 20:14:39",
          "2023-07-31 22:13:02"
         ],
         "xaxis": "x",
         "y": [
          1.7073333333333334,
          1.7140000000000002,
          1.7023333333333335,
          1.734,
          1.734,
          1.734,
          1.7306666666666668,
          1.7323333333333333,
          1.7373333333333336,
          1.7456666666666667,
          1.7073333333333334,
          1.7156666666666667,
          1.7140000000000002,
          1.7173333333333334,
          1.7223333333333333,
          1.754,
          1.754,
          1.754,
          1.7473333333333334,
          1.734,
          1.7423333333333335,
          1.744,
          1.7156666666666667,
          1.7456666666666667,
          1.7206666666666666,
          1.729,
          1.7323333333333333,
          1.764,
          1.764,
          1.764,
          1.7573333333333334,
          1.725666666666667,
          1.7556666666666665,
          1.7489999999999999,
          1.7156666666666667,
          1.7373333333333332,
          1.7356666666666667,
          1.7356666666666667,
          1.7323333333333333,
          1.764,
          1.7323333333333333,
          1.764,
          1.765,
          1.7623333333333333,
          1.7506666666666668,
          1.7590000000000001,
          1.7489999999999999,
          1.7173333333333334,
          1.7473333333333334,
          1.7306666666666668,
          1.734,
          1.7323333333333333,
          1.764,
          1.764,
          1.764,
          1.7573333333333334,
          1.7406666666666668,
          1.7523333333333333,
          1.7523333333333333,
          1.7206666666666666,
          1.7306666666666668,
          1.7240000000000002,
          1.725666666666667,
          1.7223333333333333,
          1.754,
          1.754,
          1.754,
          1.754,
          1.734,
          1.7090000000000003,
          1.7373333333333332,
          1.719,
          1.724,
          1.7123333333333335,
          1.7173333333333334,
          1.7223333333333333,
          1.754,
          1.754,
          1.754,
          1.744,
          1.7990000000000002,
          1.7240000000000002,
          1.7539999999999998,
          1.7173333333333334,
          1.729,
          1.7273333333333334,
          1.725666666666667,
          1.7223333333333333,
          1.754,
          1.754,
          1.764,
          1.7550000000000001,
          1.8190000000000002,
          1.7570000000000001,
          1.765,
          1.7289999999999999,
          1.7550000000000001,
          1.7489999999999999,
          1.7550000000000001,
          1.744,
          1.764,
          1.764,
          1.744,
          1.7670000000000001,
          1.8170000000000002,
          1.767,
          1.779,
          1.7510000000000001,
          1.7310000000000003,
          1.7429999999999999,
          1.749,
          1.749,
          1.7690000000000001,
          1.7690000000000001,
          1.749,
          1.765,
          1.8170000000000002,
          1.7730000000000001,
          1.7530000000000001,
          1.761,
          1.7850000000000001,
          1.7489999999999999,
          1.7449999999999999,
          1.749,
          1.7690000000000001,
          1.7690000000000001,
          1.7690000000000001,
          1.7710000000000001,
          1.811,
          1.767,
          1.7670000000000001,
          1.7530000000000001,
          1.7730000000000001,
          1.7449999999999999,
          1.749,
          1.749,
          1.7690000000000001,
          1.7690000000000001,
          1.7690000000000001,
          1.7690000000000001,
          1.807,
          1.7730000000000001,
          1.759,
          1.761,
          1.777,
          1.749,
          1.7530000000000001,
          1.754,
          1.774,
          1.774,
          1.774,
          1.759,
          1.813,
          1.777,
          1.791,
          1.7670000000000001,
          1.779,
          1.759,
          1.765,
          1.759,
          1.779,
          1.779,
          1.779,
          1.774,
          1.815,
          1.7730000000000001,
          1.797,
          1.779,
          1.779,
          1.759,
          1.765,
          1.759,
          1.779,
          1.779,
          1.7915,
          1.7710000000000001,
          1.795,
          1.7870000000000001,
          1.7890000000000001,
          1.763,
          1.777,
          1.759,
          1.765,
          1.754,
          1.774,
          1.774,
          1.774,
          1.763,
          1.807,
          1.775,
          1.7670000000000001,
          1.763,
          1.7429999999999999,
          1.7530000000000001,
          1.765,
          1.754,
          1.774,
          1.774,
          1.763,
          1.813,
          1.783,
          1.775,
          1.7730000000000001,
          1.781,
          1.749,
          1.761,
          1.754,
          1.774,
          1.774,
          1.774,
          1.763,
          1.823,
          1.7890000000000001,
          1.775,
          1.7730000000000001,
          1.781,
          1.7469999999999999,
          1.765,
          1.754,
          1.774,
          1.774,
          1.774,
          1.7690000000000001,
          1.827,
          1.783,
          1.781,
          1.779,
          1.781,
          1.759,
          1.765,
          1.754,
          1.774,
          1.774,
          1.774,
          1.759,
          1.829,
          1.7870000000000001,
          1.7710000000000001,
          1.7710000000000001,
          1.781,
          1.765,
          1.765,
          1.759,
          1.779,
          1.779,
          1.779,
          1.779,
          1.831,
          1.777,
          1.7710000000000001,
          1.7690000000000001,
          1.781,
          1.759,
          1.765,
          1.759,
          1.779,
          1.779,
          1.779,
          1.777,
          1.831,
          1.7850000000000001,
          1.7870000000000001,
          1.7850000000000001,
          1.783,
          1.7710000000000001,
          1.765,
          1.754,
          1.774,
          1.774,
          1.774,
          1.775,
          1.841,
          1.7870000000000001,
          1.7890000000000001,
          1.775,
          1.775,
          1.763,
          1.7710000000000001,
          1.764,
          1.7839999999999998,
          1.7839999999999998,
          1.7839999999999998,
          1.777,
          1.8510000000000002,
          1.791,
          1.791,
          1.7870000000000001,
          1.7850000000000001,
          1.763,
          1.7730000000000001,
          1.764,
          1.7839999999999998,
          1.7839999999999998,
          1.7839999999999998,
          1.7730000000000001,
          1.855,
          1.791,
          1.779,
          1.7870000000000001,
          1.797,
          1.763,
          1.7730000000000001,
          1.764,
          1.7839999999999998,
          1.7839999999999998,
          1.7839999999999998,
          1.775,
          1.857,
          1.791,
          1.7850000000000001,
          1.8030000000000002,
          1.797,
          1.7670000000000001,
          1.7730000000000001,
          1.764,
          1.7839999999999998,
          1.7839999999999998,
          1.7839999999999998,
          1.7690000000000001,
          1.8649999999999998,
          1.781,
          1.8050000000000002,
          1.765,
          1.791,
          1.7710000000000001,
          1.7730000000000001,
          1.7690000000000001,
          1.794,
          1.794,
          1.794,
          1.799,
          1.8649999999999998,
          1.781,
          1.7890000000000001,
          1.765,
          1.791,
          1.765,
          1.7730000000000001,
          1.7690000000000001,
          1.794,
          1.794,
          1.794,
          1.781,
          1.8649999999999998,
          1.7870000000000001,
          1.8170000000000002,
          1.7850000000000001,
          1.8210000000000002,
          1.765,
          1.7690000000000001,
          1.764,
          1.7839999999999998
         ],
         "yaxis": "y",
         "type": "scatter"
        }
       ],
       "layout": {
        "template": {
         "data": {
          "histogram2dcontour": [
           {
            "type": "histogram2dcontour",
            "colorbar": {
             "outlinewidth": 0,
             "ticks": ""
            },
            "colorscale": [
             [
              0.0,
              "#0d0887"
             ],
             [
              0.1111111111111111,
              "#46039f"
             ],
             [
              0.2222222222222222,
              "#7201a8"
             ],
             [
              0.3333333333333333,
              "#9c179e"
             ],
             [
              0.4444444444444444,
              "#bd3786"
             ],
             [
              0.5555555555555556,
              "#d8576b"
             ],
             [
              0.6666666666666666,
              "#ed7953"
             ],
             [
              0.7777777777777778,
              "#fb9f3a"
             ],
             [
              0.8888888888888888,
              "#fdca26"
             ],
             [
              1.0,
              "#f0f921"
             ]
            ]
           }
          ],
          "choropleth": [
           {
            "type": "choropleth",
            "colorbar": {
             "outlinewidth": 0,
             "ticks": ""
            }
           }
          ],
          "histogram2d": [
           {
            "type": "histogram2d",
            "colorbar": {
             "outlinewidth": 0,
             "ticks": ""
            },
            "colorscale": [
             [
              0.0,
              "#0d0887"
             ],
             [
              0.1111111111111111,
              "#46039f"
             ],
             [
              0.2222222222222222,
              "#7201a8"
             ],
             [
              0.3333333333333333,
              "#9c179e"
             ],
             [
              0.4444444444444444,
              "#bd3786"
             ],
             [
              0.5555555555555556,
              "#d8576b"
             ],
             [
              0.6666666666666666,
              "#ed7953"
             ],
             [
              0.7777777777777778,
              "#fb9f3a"
             ],
             [
              0.8888888888888888,
              "#fdca26"
             ],
             [
              1.0,
              "#f0f921"
             ]
            ]
           }
          ],
          "heatmap": [
           {
            "type": "heatmap",
            "colorbar": {
             "outlinewidth": 0,
             "ticks": ""
            },
            "colorscale": [
             [
              0.0,
              "#0d0887"
             ],
             [
              0.1111111111111111,
              "#46039f"
             ],
             [
              0.2222222222222222,
              "#7201a8"
             ],
             [
              0.3333333333333333,
              "#9c179e"
             ],
             [
              0.4444444444444444,
              "#bd3786"
             ],
             [
              0.5555555555555556,
              "#d8576b"
             ],
             [
              0.6666666666666666,
              "#ed7953"
             ],
             [
              0.7777777777777778,
              "#fb9f3a"
             ],
             [
              0.8888888888888888,
              "#fdca26"
             ],
             [
              1.0,
              "#f0f921"
             ]
            ]
           }
          ],
          "heatmapgl": [
           {
            "type": "heatmapgl",
            "colorbar": {
             "outlinewidth": 0,
             "ticks": ""
            },
            "colorscale": [
             [
              0.0,
              "#0d0887"
             ],
             [
              0.1111111111111111,
              "#46039f"
             ],
             [
              0.2222222222222222,
              "#7201a8"
             ],
             [
              0.3333333333333333,
              "#9c179e"
             ],
             [
              0.4444444444444444,
              "#bd3786"
             ],
             [
              0.5555555555555556,
              "#d8576b"
             ],
             [
              0.6666666666666666,
              "#ed7953"
             ],
             [
              0.7777777777777778,
              "#fb9f3a"
             ],
             [
              0.8888888888888888,
              "#fdca26"
             ],
             [
              1.0,
              "#f0f921"
             ]
            ]
           }
          ],
          "contourcarpet": [
           {
            "type": "contourcarpet",
            "colorbar": {
             "outlinewidth": 0,
             "ticks": ""
            }
           }
          ],
          "contour": [
           {
            "type": "contour",
            "colorbar": {
             "outlinewidth": 0,
             "ticks": ""
            },
            "colorscale": [
             [
              0.0,
              "#0d0887"
             ],
             [
              0.1111111111111111,
              "#46039f"
             ],
             [
              0.2222222222222222,
              "#7201a8"
             ],
             [
              0.3333333333333333,
              "#9c179e"
             ],
             [
              0.4444444444444444,
              "#bd3786"
             ],
             [
              0.5555555555555556,
              "#d8576b"
             ],
             [
              0.6666666666666666,
              "#ed7953"
             ],
             [
              0.7777777777777778,
              "#fb9f3a"
             ],
             [
              0.8888888888888888,
              "#fdca26"
             ],
             [
              1.0,
              "#f0f921"
             ]
            ]
           }
          ],
          "surface": [
           {
            "type": "surface",
            "colorbar": {
             "outlinewidth": 0,
             "ticks": ""
            },
            "colorscale": [
             [
              0.0,
              "#0d0887"
             ],
             [
              0.1111111111111111,
              "#46039f"
             ],
             [
              0.2222222222222222,
              "#7201a8"
             ],
             [
              0.3333333333333333,
              "#9c179e"
             ],
             [
              0.4444444444444444,
              "#bd3786"
             ],
             [
              0.5555555555555556,
              "#d8576b"
             ],
             [
              0.6666666666666666,
              "#ed7953"
             ],
             [
              0.7777777777777778,
              "#fb9f3a"
             ],
             [
              0.8888888888888888,
              "#fdca26"
             ],
             [
              1.0,
              "#f0f921"
             ]
            ]
           }
          ],
          "mesh3d": [
           {
            "type": "mesh3d",
            "colorbar": {
             "outlinewidth": 0,
             "ticks": ""
            }
           }
          ],
          "scatter": [
           {
            "fillpattern": {
             "fillmode": "overlay",
             "size": 10,
             "solidity": 0.2
            },
            "type": "scatter"
           }
          ],
          "parcoords": [
           {
            "type": "parcoords",
            "line": {
             "colorbar": {
              "outlinewidth": 0,
              "ticks": ""
             }
            }
           }
          ],
          "scatterpolargl": [
           {
            "type": "scatterpolargl",
            "marker": {
             "colorbar": {
              "outlinewidth": 0,
              "ticks": ""
             }
            }
           }
          ],
          "bar": [
           {
            "error_x": {
             "color": "#2a3f5f"
            },
            "error_y": {
             "color": "#2a3f5f"
            },
            "marker": {
             "line": {
              "color": "#E5ECF6",
              "width": 0.5
             },
             "pattern": {
              "fillmode": "overlay",
              "size": 10,
              "solidity": 0.2
             }
            },
            "type": "bar"
           }
          ],
          "scattergeo": [
           {
            "type": "scattergeo",
            "marker": {
             "colorbar": {
              "outlinewidth": 0,
              "ticks": ""
             }
            }
           }
          ],
          "scatterpolar": [
           {
            "type": "scatterpolar",
            "marker": {
             "colorbar": {
              "outlinewidth": 0,
              "ticks": ""
             }
            }
           }
          ],
          "histogram": [
           {
            "marker": {
             "pattern": {
              "fillmode": "overlay",
              "size": 10,
              "solidity": 0.2
             }
            },
            "type": "histogram"
           }
          ],
          "scattergl": [
           {
            "type": "scattergl",
            "marker": {
             "colorbar": {
              "outlinewidth": 0,
              "ticks": ""
             }
            }
           }
          ],
          "scatter3d": [
           {
            "type": "scatter3d",
            "line": {
             "colorbar": {
              "outlinewidth": 0,
              "ticks": ""
             }
            },
            "marker": {
             "colorbar": {
              "outlinewidth": 0,
              "ticks": ""
             }
            }
           }
          ],
          "scattermapbox": [
           {
            "type": "scattermapbox",
            "marker": {
             "colorbar": {
              "outlinewidth": 0,
              "ticks": ""
             }
            }
           }
          ],
          "scatterternary": [
           {
            "type": "scatterternary",
            "marker": {
             "colorbar": {
              "outlinewidth": 0,
              "ticks": ""
             }
            }
           }
          ],
          "scattercarpet": [
           {
            "type": "scattercarpet",
            "marker": {
             "colorbar": {
              "outlinewidth": 0,
              "ticks": ""
             }
            }
           }
          ],
          "carpet": [
           {
            "aaxis": {
             "endlinecolor": "#2a3f5f",
             "gridcolor": "white",
             "linecolor": "white",
             "minorgridcolor": "white",
             "startlinecolor": "#2a3f5f"
            },
            "baxis": {
             "endlinecolor": "#2a3f5f",
             "gridcolor": "white",
             "linecolor": "white",
             "minorgridcolor": "white",
             "startlinecolor": "#2a3f5f"
            },
            "type": "carpet"
           }
          ],
          "table": [
           {
            "cells": {
             "fill": {
              "color": "#EBF0F8"
             },
             "line": {
              "color": "white"
             }
            },
            "header": {
             "fill": {
              "color": "#C8D4E3"
             },
             "line": {
              "color": "white"
             }
            },
            "type": "table"
           }
          ],
          "barpolar": [
           {
            "marker": {
             "line": {
              "color": "#E5ECF6",
              "width": 0.5
             },
             "pattern": {
              "fillmode": "overlay",
              "size": 10,
              "solidity": 0.2
             }
            },
            "type": "barpolar"
           }
          ],
          "pie": [
           {
            "automargin": true,
            "type": "pie"
           }
          ]
         },
         "layout": {
          "autotypenumbers": "strict",
          "colorway": [
           "#636efa",
           "#EF553B",
           "#00cc96",
           "#ab63fa",
           "#FFA15A",
           "#19d3f3",
           "#FF6692",
           "#B6E880",
           "#FF97FF",
           "#FECB52"
          ],
          "font": {
           "color": "#2a3f5f"
          },
          "hovermode": "closest",
          "hoverlabel": {
           "align": "left"
          },
          "paper_bgcolor": "white",
          "plot_bgcolor": "#E5ECF6",
          "polar": {
           "bgcolor": "#E5ECF6",
           "angularaxis": {
            "gridcolor": "white",
            "linecolor": "white",
            "ticks": ""
           },
           "radialaxis": {
            "gridcolor": "white",
            "linecolor": "white",
            "ticks": ""
           }
          },
          "ternary": {
           "bgcolor": "#E5ECF6",
           "aaxis": {
            "gridcolor": "white",
            "linecolor": "white",
            "ticks": ""
           },
           "baxis": {
            "gridcolor": "white",
            "linecolor": "white",
            "ticks": ""
           },
           "caxis": {
            "gridcolor": "white",
            "linecolor": "white",
            "ticks": ""
           }
          },
          "coloraxis": {
           "colorbar": {
            "outlinewidth": 0,
            "ticks": ""
           }
          },
          "colorscale": {
           "sequential": [
            [
             0.0,
             "#0d0887"
            ],
            [
             0.1111111111111111,
             "#46039f"
            ],
            [
             0.2222222222222222,
             "#7201a8"
            ],
            [
             0.3333333333333333,
             "#9c179e"
            ],
            [
             0.4444444444444444,
             "#bd3786"
            ],
            [
             0.5555555555555556,
             "#d8576b"
            ],
            [
             0.6666666666666666,
             "#ed7953"
            ],
            [
             0.7777777777777778,
             "#fb9f3a"
            ],
            [
             0.8888888888888888,
             "#fdca26"
            ],
            [
             1.0,
             "#f0f921"
            ]
           ],
           "sequentialminus": [
            [
             0.0,
             "#0d0887"
            ],
            [
             0.1111111111111111,
             "#46039f"
            ],
            [
             0.2222222222222222,
             "#7201a8"
            ],
            [
             0.3333333333333333,
             "#9c179e"
            ],
            [
             0.4444444444444444,
             "#bd3786"
            ],
            [
             0.5555555555555556,
             "#d8576b"
            ],
            [
             0.6666666666666666,
             "#ed7953"
            ],
            [
             0.7777777777777778,
             "#fb9f3a"
            ],
            [
             0.8888888888888888,
             "#fdca26"
            ],
            [
             1.0,
             "#f0f921"
            ]
           ],
           "diverging": [
            [
             0,
             "#8e0152"
            ],
            [
             0.1,
             "#c51b7d"
            ],
            [
             0.2,
             "#de77ae"
            ],
            [
             0.3,
             "#f1b6da"
            ],
            [
             0.4,
             "#fde0ef"
            ],
            [
             0.5,
             "#f7f7f7"
            ],
            [
             0.6,
             "#e6f5d0"
            ],
            [
             0.7,
             "#b8e186"
            ],
            [
             0.8,
             "#7fbc41"
            ],
            [
             0.9,
             "#4d9221"
            ],
            [
             1,
             "#276419"
            ]
           ]
          },
          "xaxis": {
           "gridcolor": "white",
           "linecolor": "white",
           "ticks": "",
           "title": {
            "standoff": 15
           },
           "zerolinecolor": "white",
           "automargin": true,
           "zerolinewidth": 2
          },
          "yaxis": {
           "gridcolor": "white",
           "linecolor": "white",
           "ticks": "",
           "title": {
            "standoff": 15
           },
           "zerolinecolor": "white",
           "automargin": true,
           "zerolinewidth": 2
          },
          "scene": {
           "xaxis": {
            "backgroundcolor": "#E5ECF6",
            "gridcolor": "white",
            "linecolor": "white",
            "showbackground": true,
            "ticks": "",
            "zerolinecolor": "white",
            "gridwidth": 2
           },
           "yaxis": {
            "backgroundcolor": "#E5ECF6",
            "gridcolor": "white",
            "linecolor": "white",
            "showbackground": true,
            "ticks": "",
            "zerolinecolor": "white",
            "gridwidth": 2
           },
           "zaxis": {
            "backgroundcolor": "#E5ECF6",
            "gridcolor": "white",
            "linecolor": "white",
            "showbackground": true,
            "ticks": "",
            "zerolinecolor": "white",
            "gridwidth": 2
           }
          },
          "shapedefaults": {
           "line": {
            "color": "#2a3f5f"
           }
          },
          "annotationdefaults": {
           "arrowcolor": "#2a3f5f",
           "arrowhead": 0,
           "arrowwidth": 1
          },
          "geo": {
           "bgcolor": "white",
           "landcolor": "#E5ECF6",
           "subunitcolor": "white",
           "showland": true,
           "showlakes": true,
           "lakecolor": "white"
          },
          "title": {
           "x": 0.05
          },
          "mapbox": {
           "style": "light"
          }
         }
        },
        "xaxis": {
         "anchor": "y",
         "domain": [
          0.0,
          1.0
         ],
         "title": {
          "text": "Datum"
         }
        },
        "yaxis": {
         "anchor": "x",
         "domain": [
          0.0,
          1.0
         ],
         "title": {
          "text": "Preis"
         }
        },
        "legend": {
         "tracegroupgap": 0
        },
        "margin": {
         "t": 60
        },
        "title": {
         "text": "Preisverlauf"
        }
       },
       "config": {
        "plotlyServerURL": "https://plot.ly"
       }
      },
      "text/html": "<div>                            <div id=\"53418b6f-83f9-49ff-95ab-9d73ea6f8aec\" class=\"plotly-graph-div\" style=\"height:525px; width:100%;\"></div>            <script type=\"text/javascript\">                require([\"plotly\"], function(Plotly) {                    window.PLOTLYENV=window.PLOTLYENV || {};                                    if (document.getElementById(\"53418b6f-83f9-49ff-95ab-9d73ea6f8aec\")) {                    Plotly.newPlot(                        \"53418b6f-83f9-49ff-95ab-9d73ea6f8aec\",                        [{\"hovertemplate\":\"Uhrzeit=%{x}<br>Preis=%{y}<extra></extra>\",\"legendgroup\":\"\",\"line\":{\"color\":\"#636efa\",\"dash\":\"solid\"},\"marker\":{\"symbol\":\"circle\"},\"mode\":\"markers+lines\",\"name\":\"\",\"orientation\":\"v\",\"showlegend\":false,\"x\":[\"2023-07-02 18:18:23\",\"2023-07-02 19:25:32\",\"2023-07-02 20:15:30\",\"2023-07-02 22:13:57\",\"2023-07-03 01:40:19\",\"2023-07-03 02:56:56\",\"2023-07-03 04:19:31\",\"2023-07-03 06:21:10\",\"2023-07-03 08:20:19\",\"2023-07-03 10:17:22\",\"2023-07-03 12:35:08\",\"2023-07-03 14:14:32\",\"2023-07-03 16:20:24\",\"2023-07-03 18:19:22\",\"2023-07-03 20:17:24\",\"2023-07-03 22:15:42\",\"2023-07-04 01:40:26\",\"2023-07-04 02:58:56\",\"2023-07-04 04:19:49\",\"2023-07-04 06:22:03\",\"2023-07-04 08:21:13\",\"2023-07-04 10:18:27\",\"2023-07-04 12:34:29\",\"2023-07-04 14:15:07\",\"2023-07-04 16:21:48\",\"2023-07-04 18:21:01\",\"2023-07-04 20:17:32\",\"2023-07-04 22:15:43\",\"2023-07-05 01:39:09\",\"2023-07-05 02:57:52\",\"2023-07-05 04:20:33\",\"2023-07-05 06:22:28\",\"2023-07-05 08:21:47\",\"2023-07-05 10:18:11\",\"2023-07-05 12:36:40\",\"2023-07-05 14:16:01\",\"2023-07-05 16:22:57\",\"2023-07-05 18:20:42\",\"2023-07-05 20:17:53\",\"2023-07-05 22:16:22\",\"2023-07-05 23:00:00\",\"2023-07-06 01:41:49\",\"2023-07-06 03:00:20\",\"2023-07-06 04:20:25\",\"2023-07-06 06:22:15\",\"2023-07-06 08:21:30\",\"2023-07-06 10:18:12\",\"2023-07-06 12:35:06\",\"2023-07-06 14:16:00\",\"2023-07-06 16:22:32\",\"2023-07-06 18:19:43\",\"2023-07-06 20:16:51\",\"2023-07-06 22:15:17\",\"2023-07-07 01:40:46\",\"2023-07-07 02:56:50\",\"2023-07-07 04:19:32\",\"2023-07-07 06:21:38\",\"2023-07-07 08:20:31\",\"2023-07-07 10:17:21\",\"2023-07-07 12:33:44\",\"2023-07-07 14:14:34\",\"2023-07-07 16:20:51\",\"2023-07-07 18:19:33\",\"2023-07-07 20:16:47\",\"2023-07-07 22:14:45\",\"2023-07-08 01:39:32\",\"2023-07-08 02:58:14\",\"2023-07-08 04:18:45\",\"2023-07-08 06:19:11\",\"2023-07-08 08:18:40\",\"2023-07-08 10:15:50\",\"2023-07-08 12:30:08\",\"2023-07-08 14:13:11\",\"2023-07-08 16:19:33\",\"2023-07-08 18:18:39\",\"2023-07-08 20:15:28\",\"2023-07-08 22:14:04\",\"2023-07-09 01:46:34\",\"2023-07-09 03:05:41\",\"2023-07-09 04:18:53\",\"2023-07-09 06:19:46\",\"2023-07-09 08:18:37\",\"2023-07-09 10:15:44\",\"2023-07-09 12:29:58\",\"2023-07-09 14:13:15\",\"2023-07-09 16:19:31\",\"2023-07-09 18:18:48\",\"2023-07-09 20:15:35\",\"2023-07-09 22:14:16\",\"2023-07-10 01:40:29\",\"2023-07-10 03:00:45\",\"2023-07-10 04:19:46\",\"2023-07-10 06:21:49\",\"2023-07-10 08:21:46\",\"2023-07-10 10:17:52\",\"2023-07-10 12:33:13\",\"2023-07-10 14:15:11\",\"2023-07-10 16:22:21\",\"2023-07-10 18:19:51\",\"2023-07-10 20:17:06\",\"2023-07-10 22:14:54\",\"2023-07-11 01:24:45\",\"2023-07-11 02:50:20\",\"2023-07-11 04:19:23\",\"2023-07-11 06:21:04\",\"2023-07-11 08:20:46\",\"2023-07-11 10:17:33\",\"2023-07-11 12:34:16\",\"2023-07-11 14:15:01\",\"2023-07-11 16:21:12\",\"2023-07-11 18:19:48\",\"2023-07-11 20:16:36\",\"2023-07-11 22:15:03\",\"2023-07-12 01:40:48\",\"2023-07-12 02:55:45\",\"2023-07-12 04:19:11\",\"2023-07-12 06:20:51\",\"2023-07-12 08:20:31\",\"2023-07-12 10:17:15\",\"2023-07-12 12:34:23\",\"2023-07-12 14:14:53\",\"2023-07-12 16:21:09\",\"2023-07-12 18:20:00\",\"2023-07-12 20:16:23\",\"2023-07-12 22:14:52\",\"2023-07-13 01:42:32\",\"2023-07-13 02:59:29\",\"2023-07-13 04:18:57\",\"2023-07-13 06:21:13\",\"2023-07-13 08:20:17\",\"2023-07-13 10:17:00\",\"2023-07-13 12:34:15\",\"2023-07-13 14:14:41\",\"2023-07-13 16:20:57\",\"2023-07-13 18:19:50\",\"2023-07-13 20:16:58\",\"2023-07-13 22:14:53\",\"2023-07-14 01:42:32\",\"2023-07-14 02:58:36\",\"2023-07-14 04:19:17\",\"2023-07-14 06:21:26\",\"2023-07-14 08:19:44\",\"2023-07-14 10:16:44\",\"2023-07-14 12:32:53\",\"2023-07-14 14:14:22\",\"2023-07-14 16:19:52\",\"2023-07-14 18:19:25\",\"2023-07-14 20:16:50\",\"2023-07-14 22:14:39\",\"2023-07-15 01:41:04\",\"2023-07-15 03:01:10\",\"2023-07-15 04:18:40\",\"2023-07-15 06:19:45\",\"2023-07-15 08:18:52\",\"2023-07-15 10:15:42\",\"2023-07-15 12:29:55\",\"2023-07-15 14:13:13\",\"2023-07-15 16:19:11\",\"2023-07-15 18:18:24\",\"2023-07-15 20:15:27\",\"2023-07-15 22:13:45\",\"2023-07-16 01:51:22\",\"2023-07-16 03:09:21\",\"2023-07-16 04:18:20\",\"2023-07-16 06:19:29\",\"2023-07-16 08:18:30\",\"2023-07-16 10:15:41\",\"2023-07-16 12:29:34\",\"2023-07-16 14:13:09\",\"2023-07-16 16:19:32\",\"2023-07-16 18:18:31\",\"2023-07-16 20:15:48\",\"2023-07-16 22:13:58\",\"2023-07-17 01:45:14\",\"2023-07-17 03:03:14\",\"2023-07-17 04:19:33\",\"2023-07-17 06:21:48\",\"2023-07-17 08:20:55\",\"2023-07-17 10:17:46\",\"2023-07-17 12:34:42\",\"2023-07-17 14:15:13\",\"2023-07-17 16:21:17\",\"2023-07-17 18:20:14\",\"2023-07-17 20:16:56\",\"2023-07-17 22:13:52\",\"2023-07-18 01:52:03\",\"2023-07-18 02:59:22\",\"2023-07-18 04:17:39\",\"2023-07-18 06:19:37\",\"2023-07-18 08:19:18\",\"2023-07-18 10:16:26\",\"2023-07-18 12:31:12\",\"2023-07-18 14:14:19\",\"2023-07-18 16:20:55\",\"2023-07-18 18:19:24\",\"2023-07-18 20:15:55\",\"2023-07-18 22:13:31\",\"2023-07-19 02:40:57\",\"2023-07-19 04:21:32\",\"2023-07-19 06:19:00\",\"2023-07-19 08:17:45\",\"2023-07-19 10:15:32\",\"2023-07-19 12:29:05\",\"2023-07-19 14:13:15\",\"2023-07-19 16:18:44\",\"2023-07-19 18:17:48\",\"2023-07-19 20:14:30\",\"2023-07-19 22:13:06\",\"2023-07-20 01:17:28\",\"2023-07-20 02:32:50\",\"2023-07-20 04:17:10\",\"2023-07-20 06:18:46\",\"2023-07-20 08:18:17\",\"2023-07-20 10:15:25\",\"2023-07-20 12:30:21\",\"2023-07-20 14:13:30\",\"2023-07-20 16:18:42\",\"2023-07-20 18:18:28\",\"2023-07-20 20:14:58\",\"2023-07-20 22:13:11\",\"2023-07-21 01:18:40\",\"2023-07-21 02:34:15\",\"2023-07-21 04:17:13\",\"2023-07-21 06:18:26\",\"2023-07-21 08:17:40\",\"2023-07-21 10:15:01\",\"2023-07-21 12:28:27\",\"2023-07-21 14:12:46\",\"2023-07-21 16:18:37\",\"2023-07-21 18:18:29\",\"2023-07-21 20:14:24\",\"2023-07-21 22:12:58\",\"2023-07-22 01:17:41\",\"2023-07-22 02:31:16\",\"2023-07-22 04:16:27\",\"2023-07-22 06:16:57\",\"2023-07-22 08:16:15\",\"2023-07-22 10:13:32\",\"2023-07-22 12:26:19\",\"2023-07-22 14:11:35\",\"2023-07-22 16:17:06\",\"2023-07-22 18:16:19\",\"2023-07-22 20:13:41\",\"2023-07-22 22:12:40\",\"2023-07-23 01:23:10\",\"2023-07-23 02:36:30\",\"2023-07-23 04:16:23\",\"2023-07-23 06:17:54\",\"2023-07-23 08:16:28\",\"2023-07-23 10:13:43\",\"2023-07-23 12:26:08\",\"2023-07-23 14:11:35\",\"2023-07-23 16:16:57\",\"2023-07-23 18:16:29\",\"2023-07-23 20:13:42\",\"2023-07-23 22:12:32\",\"2023-07-24 01:18:33\",\"2023-07-24 02:34:08\",\"2023-07-24 04:17:14\",\"2023-07-24 06:19:17\",\"2023-07-24 08:18:58\",\"2023-07-24 10:15:57\",\"2023-07-24 12:29:41\",\"2023-07-24 14:13:47\",\"2023-07-24 16:18:32\",\"2023-07-24 18:19:42\",\"2023-07-24 20:13:56\",\"2023-07-24 22:13:08\",\"2023-07-25 01:24:59\",\"2023-07-25 02:45:35\",\"2023-07-25 04:17:00\",\"2023-07-25 06:18:49\",\"2023-07-25 08:18:38\",\"2023-07-25 10:15:45\",\"2023-07-25 12:30:43\",\"2023-07-25 14:13:10\",\"2023-07-25 16:18:35\",\"2023-07-25 18:17:05\",\"2023-07-25 20:14:26\",\"2023-07-25 22:12:18\",\"2023-07-26 01:20:14\",\"2023-07-26 02:35:12\",\"2023-07-26 04:16:26\",\"2023-07-26 06:17:49\",\"2023-07-26 08:17:48\",\"2023-07-26 10:14:26\",\"2023-07-26 12:29:03\",\"2023-07-26 14:12:47\",\"2023-07-26 16:18:23\",\"2023-07-26 18:17:16\",\"2023-07-26 20:13:26\",\"2023-07-26 22:12:44\",\"2023-07-27 01:09:51\",\"2023-07-27 02:25:33\",\"2023-07-27 04:16:06\",\"2023-07-27 06:18:14\",\"2023-07-27 08:17:26\",\"2023-07-27 10:14:48\",\"2023-07-27 12:29:00\",\"2023-07-27 14:12:45\",\"2023-07-27 16:18:27\",\"2023-07-27 18:16:56\",\"2023-07-27 20:14:12\",\"2023-07-27 22:12:36\",\"2023-07-28 01:11:12\",\"2023-07-28 02:28:42\",\"2023-07-28 04:16:28\",\"2023-07-28 06:18:04\",\"2023-07-28 08:17:18\",\"2023-07-28 10:14:24\",\"2023-07-28 12:28:39\",\"2023-07-28 14:12:15\",\"2023-07-28 16:18:08\",\"2023-07-28 18:15:55\",\"2023-07-28 20:13:57\",\"2023-07-28 22:12:32\",\"2023-07-29 01:11:23\",\"2023-07-29 02:25:38\",\"2023-07-29 04:15:52\",\"2023-07-29 06:16:26\",\"2023-07-29 08:15:35\",\"2023-07-29 10:13:15\",\"2023-07-29 12:25:26\",\"2023-07-29 14:11:06\",\"2023-07-29 16:16:33\",\"2023-07-29 18:15:48\",\"2023-07-29 20:13:10\",\"2023-07-29 22:11:56\",\"2023-07-30 01:14:28\",\"2023-07-30 02:27:55\",\"2023-07-30 04:15:50\",\"2023-07-30 06:16:49\",\"2023-07-30 08:15:55\",\"2023-07-30 10:13:13\",\"2023-07-30 12:25:54\",\"2023-07-30 14:11:12\",\"2023-07-30 16:16:33\",\"2023-07-30 18:15:55\",\"2023-07-30 20:13:07\",\"2023-07-30 22:12:11\",\"2023-07-31 01:14:23\",\"2023-07-31 02:31:10\",\"2023-07-31 04:17:05\",\"2023-07-31 06:18:46\",\"2023-07-31 08:18:58\",\"2023-07-31 10:15:39\",\"2023-07-31 12:31:07\",\"2023-07-31 14:13:45\",\"2023-07-31 16:19:30\",\"2023-07-31 18:17:34\",\"2023-07-31 20:14:39\",\"2023-07-31 22:13:02\"],\"xaxis\":\"x\",\"y\":[1.7073333333333334,1.7140000000000002,1.7023333333333335,1.734,1.734,1.734,1.7306666666666668,1.7323333333333333,1.7373333333333336,1.7456666666666667,1.7073333333333334,1.7156666666666667,1.7140000000000002,1.7173333333333334,1.7223333333333333,1.754,1.754,1.754,1.7473333333333334,1.734,1.7423333333333335,1.744,1.7156666666666667,1.7456666666666667,1.7206666666666666,1.729,1.7323333333333333,1.764,1.764,1.764,1.7573333333333334,1.725666666666667,1.7556666666666665,1.7489999999999999,1.7156666666666667,1.7373333333333332,1.7356666666666667,1.7356666666666667,1.7323333333333333,1.764,1.7323333333333333,1.764,1.765,1.7623333333333333,1.7506666666666668,1.7590000000000001,1.7489999999999999,1.7173333333333334,1.7473333333333334,1.7306666666666668,1.734,1.7323333333333333,1.764,1.764,1.764,1.7573333333333334,1.7406666666666668,1.7523333333333333,1.7523333333333333,1.7206666666666666,1.7306666666666668,1.7240000000000002,1.725666666666667,1.7223333333333333,1.754,1.754,1.754,1.754,1.734,1.7090000000000003,1.7373333333333332,1.719,1.724,1.7123333333333335,1.7173333333333334,1.7223333333333333,1.754,1.754,1.754,1.744,1.7990000000000002,1.7240000000000002,1.7539999999999998,1.7173333333333334,1.729,1.7273333333333334,1.725666666666667,1.7223333333333333,1.754,1.754,1.764,1.7550000000000001,1.8190000000000002,1.7570000000000001,1.765,1.7289999999999999,1.7550000000000001,1.7489999999999999,1.7550000000000001,1.744,1.764,1.764,1.744,1.7670000000000001,1.8170000000000002,1.767,1.779,1.7510000000000001,1.7310000000000003,1.7429999999999999,1.749,1.749,1.7690000000000001,1.7690000000000001,1.749,1.765,1.8170000000000002,1.7730000000000001,1.7530000000000001,1.761,1.7850000000000001,1.7489999999999999,1.7449999999999999,1.749,1.7690000000000001,1.7690000000000001,1.7690000000000001,1.7710000000000001,1.811,1.767,1.7670000000000001,1.7530000000000001,1.7730000000000001,1.7449999999999999,1.749,1.749,1.7690000000000001,1.7690000000000001,1.7690000000000001,1.7690000000000001,1.807,1.7730000000000001,1.759,1.761,1.777,1.749,1.7530000000000001,1.754,1.774,1.774,1.774,1.759,1.813,1.777,1.791,1.7670000000000001,1.779,1.759,1.765,1.759,1.779,1.779,1.779,1.774,1.815,1.7730000000000001,1.797,1.779,1.779,1.759,1.765,1.759,1.779,1.779,1.7915,1.7710000000000001,1.795,1.7870000000000001,1.7890000000000001,1.763,1.777,1.759,1.765,1.754,1.774,1.774,1.774,1.763,1.807,1.775,1.7670000000000001,1.763,1.7429999999999999,1.7530000000000001,1.765,1.754,1.774,1.774,1.763,1.813,1.783,1.775,1.7730000000000001,1.781,1.749,1.761,1.754,1.774,1.774,1.774,1.763,1.823,1.7890000000000001,1.775,1.7730000000000001,1.781,1.7469999999999999,1.765,1.754,1.774,1.774,1.774,1.7690000000000001,1.827,1.783,1.781,1.779,1.781,1.759,1.765,1.754,1.774,1.774,1.774,1.759,1.829,1.7870000000000001,1.7710000000000001,1.7710000000000001,1.781,1.765,1.765,1.759,1.779,1.779,1.779,1.779,1.831,1.777,1.7710000000000001,1.7690000000000001,1.781,1.759,1.765,1.759,1.779,1.779,1.779,1.777,1.831,1.7850000000000001,1.7870000000000001,1.7850000000000001,1.783,1.7710000000000001,1.765,1.754,1.774,1.774,1.774,1.775,1.841,1.7870000000000001,1.7890000000000001,1.775,1.775,1.763,1.7710000000000001,1.764,1.7839999999999998,1.7839999999999998,1.7839999999999998,1.777,1.8510000000000002,1.791,1.791,1.7870000000000001,1.7850000000000001,1.763,1.7730000000000001,1.764,1.7839999999999998,1.7839999999999998,1.7839999999999998,1.7730000000000001,1.855,1.791,1.779,1.7870000000000001,1.797,1.763,1.7730000000000001,1.764,1.7839999999999998,1.7839999999999998,1.7839999999999998,1.775,1.857,1.791,1.7850000000000001,1.8030000000000002,1.797,1.7670000000000001,1.7730000000000001,1.764,1.7839999999999998,1.7839999999999998,1.7839999999999998,1.7690000000000001,1.8649999999999998,1.781,1.8050000000000002,1.765,1.791,1.7710000000000001,1.7730000000000001,1.7690000000000001,1.794,1.794,1.794,1.799,1.8649999999999998,1.781,1.7890000000000001,1.765,1.791,1.765,1.7730000000000001,1.7690000000000001,1.794,1.794,1.794,1.781,1.8649999999999998,1.7870000000000001,1.8170000000000002,1.7850000000000001,1.8210000000000002,1.765,1.7690000000000001,1.764,1.7839999999999998],\"yaxis\":\"y\",\"type\":\"scatter\"}],                        {\"template\":{\"data\":{\"histogram2dcontour\":[{\"type\":\"histogram2dcontour\",\"colorbar\":{\"outlinewidth\":0,\"ticks\":\"\"},\"colorscale\":[[0.0,\"#0d0887\"],[0.1111111111111111,\"#46039f\"],[0.2222222222222222,\"#7201a8\"],[0.3333333333333333,\"#9c179e\"],[0.4444444444444444,\"#bd3786\"],[0.5555555555555556,\"#d8576b\"],[0.6666666666666666,\"#ed7953\"],[0.7777777777777778,\"#fb9f3a\"],[0.8888888888888888,\"#fdca26\"],[1.0,\"#f0f921\"]]}],\"choropleth\":[{\"type\":\"choropleth\",\"colorbar\":{\"outlinewidth\":0,\"ticks\":\"\"}}],\"histogram2d\":[{\"type\":\"histogram2d\",\"colorbar\":{\"outlinewidth\":0,\"ticks\":\"\"},\"colorscale\":[[0.0,\"#0d0887\"],[0.1111111111111111,\"#46039f\"],[0.2222222222222222,\"#7201a8\"],[0.3333333333333333,\"#9c179e\"],[0.4444444444444444,\"#bd3786\"],[0.5555555555555556,\"#d8576b\"],[0.6666666666666666,\"#ed7953\"],[0.7777777777777778,\"#fb9f3a\"],[0.8888888888888888,\"#fdca26\"],[1.0,\"#f0f921\"]]}],\"heatmap\":[{\"type\":\"heatmap\",\"colorbar\":{\"outlinewidth\":0,\"ticks\":\"\"},\"colorscale\":[[0.0,\"#0d0887\"],[0.1111111111111111,\"#46039f\"],[0.2222222222222222,\"#7201a8\"],[0.3333333333333333,\"#9c179e\"],[0.4444444444444444,\"#bd3786\"],[0.5555555555555556,\"#d8576b\"],[0.6666666666666666,\"#ed7953\"],[0.7777777777777778,\"#fb9f3a\"],[0.8888888888888888,\"#fdca26\"],[1.0,\"#f0f921\"]]}],\"heatmapgl\":[{\"type\":\"heatmapgl\",\"colorbar\":{\"outlinewidth\":0,\"ticks\":\"\"},\"colorscale\":[[0.0,\"#0d0887\"],[0.1111111111111111,\"#46039f\"],[0.2222222222222222,\"#7201a8\"],[0.3333333333333333,\"#9c179e\"],[0.4444444444444444,\"#bd3786\"],[0.5555555555555556,\"#d8576b\"],[0.6666666666666666,\"#ed7953\"],[0.7777777777777778,\"#fb9f3a\"],[0.8888888888888888,\"#fdca26\"],[1.0,\"#f0f921\"]]}],\"contourcarpet\":[{\"type\":\"contourcarpet\",\"colorbar\":{\"outlinewidth\":0,\"ticks\":\"\"}}],\"contour\":[{\"type\":\"contour\",\"colorbar\":{\"outlinewidth\":0,\"ticks\":\"\"},\"colorscale\":[[0.0,\"#0d0887\"],[0.1111111111111111,\"#46039f\"],[0.2222222222222222,\"#7201a8\"],[0.3333333333333333,\"#9c179e\"],[0.4444444444444444,\"#bd3786\"],[0.5555555555555556,\"#d8576b\"],[0.6666666666666666,\"#ed7953\"],[0.7777777777777778,\"#fb9f3a\"],[0.8888888888888888,\"#fdca26\"],[1.0,\"#f0f921\"]]}],\"surface\":[{\"type\":\"surface\",\"colorbar\":{\"outlinewidth\":0,\"ticks\":\"\"},\"colorscale\":[[0.0,\"#0d0887\"],[0.1111111111111111,\"#46039f\"],[0.2222222222222222,\"#7201a8\"],[0.3333333333333333,\"#9c179e\"],[0.4444444444444444,\"#bd3786\"],[0.5555555555555556,\"#d8576b\"],[0.6666666666666666,\"#ed7953\"],[0.7777777777777778,\"#fb9f3a\"],[0.8888888888888888,\"#fdca26\"],[1.0,\"#f0f921\"]]}],\"mesh3d\":[{\"type\":\"mesh3d\",\"colorbar\":{\"outlinewidth\":0,\"ticks\":\"\"}}],\"scatter\":[{\"fillpattern\":{\"fillmode\":\"overlay\",\"size\":10,\"solidity\":0.2},\"type\":\"scatter\"}],\"parcoords\":[{\"type\":\"parcoords\",\"line\":{\"colorbar\":{\"outlinewidth\":0,\"ticks\":\"\"}}}],\"scatterpolargl\":[{\"type\":\"scatterpolargl\",\"marker\":{\"colorbar\":{\"outlinewidth\":0,\"ticks\":\"\"}}}],\"bar\":[{\"error_x\":{\"color\":\"#2a3f5f\"},\"error_y\":{\"color\":\"#2a3f5f\"},\"marker\":{\"line\":{\"color\":\"#E5ECF6\",\"width\":0.5},\"pattern\":{\"fillmode\":\"overlay\",\"size\":10,\"solidity\":0.2}},\"type\":\"bar\"}],\"scattergeo\":[{\"type\":\"scattergeo\",\"marker\":{\"colorbar\":{\"outlinewidth\":0,\"ticks\":\"\"}}}],\"scatterpolar\":[{\"type\":\"scatterpolar\",\"marker\":{\"colorbar\":{\"outlinewidth\":0,\"ticks\":\"\"}}}],\"histogram\":[{\"marker\":{\"pattern\":{\"fillmode\":\"overlay\",\"size\":10,\"solidity\":0.2}},\"type\":\"histogram\"}],\"scattergl\":[{\"type\":\"scattergl\",\"marker\":{\"colorbar\":{\"outlinewidth\":0,\"ticks\":\"\"}}}],\"scatter3d\":[{\"type\":\"scatter3d\",\"line\":{\"colorbar\":{\"outlinewidth\":0,\"ticks\":\"\"}},\"marker\":{\"colorbar\":{\"outlinewidth\":0,\"ticks\":\"\"}}}],\"scattermapbox\":[{\"type\":\"scattermapbox\",\"marker\":{\"colorbar\":{\"outlinewidth\":0,\"ticks\":\"\"}}}],\"scatterternary\":[{\"type\":\"scatterternary\",\"marker\":{\"colorbar\":{\"outlinewidth\":0,\"ticks\":\"\"}}}],\"scattercarpet\":[{\"type\":\"scattercarpet\",\"marker\":{\"colorbar\":{\"outlinewidth\":0,\"ticks\":\"\"}}}],\"carpet\":[{\"aaxis\":{\"endlinecolor\":\"#2a3f5f\",\"gridcolor\":\"white\",\"linecolor\":\"white\",\"minorgridcolor\":\"white\",\"startlinecolor\":\"#2a3f5f\"},\"baxis\":{\"endlinecolor\":\"#2a3f5f\",\"gridcolor\":\"white\",\"linecolor\":\"white\",\"minorgridcolor\":\"white\",\"startlinecolor\":\"#2a3f5f\"},\"type\":\"carpet\"}],\"table\":[{\"cells\":{\"fill\":{\"color\":\"#EBF0F8\"},\"line\":{\"color\":\"white\"}},\"header\":{\"fill\":{\"color\":\"#C8D4E3\"},\"line\":{\"color\":\"white\"}},\"type\":\"table\"}],\"barpolar\":[{\"marker\":{\"line\":{\"color\":\"#E5ECF6\",\"width\":0.5},\"pattern\":{\"fillmode\":\"overlay\",\"size\":10,\"solidity\":0.2}},\"type\":\"barpolar\"}],\"pie\":[{\"automargin\":true,\"type\":\"pie\"}]},\"layout\":{\"autotypenumbers\":\"strict\",\"colorway\":[\"#636efa\",\"#EF553B\",\"#00cc96\",\"#ab63fa\",\"#FFA15A\",\"#19d3f3\",\"#FF6692\",\"#B6E880\",\"#FF97FF\",\"#FECB52\"],\"font\":{\"color\":\"#2a3f5f\"},\"hovermode\":\"closest\",\"hoverlabel\":{\"align\":\"left\"},\"paper_bgcolor\":\"white\",\"plot_bgcolor\":\"#E5ECF6\",\"polar\":{\"bgcolor\":\"#E5ECF6\",\"angularaxis\":{\"gridcolor\":\"white\",\"linecolor\":\"white\",\"ticks\":\"\"},\"radialaxis\":{\"gridcolor\":\"white\",\"linecolor\":\"white\",\"ticks\":\"\"}},\"ternary\":{\"bgcolor\":\"#E5ECF6\",\"aaxis\":{\"gridcolor\":\"white\",\"linecolor\":\"white\",\"ticks\":\"\"},\"baxis\":{\"gridcolor\":\"white\",\"linecolor\":\"white\",\"ticks\":\"\"},\"caxis\":{\"gridcolor\":\"white\",\"linecolor\":\"white\",\"ticks\":\"\"}},\"coloraxis\":{\"colorbar\":{\"outlinewidth\":0,\"ticks\":\"\"}},\"colorscale\":{\"sequential\":[[0.0,\"#0d0887\"],[0.1111111111111111,\"#46039f\"],[0.2222222222222222,\"#7201a8\"],[0.3333333333333333,\"#9c179e\"],[0.4444444444444444,\"#bd3786\"],[0.5555555555555556,\"#d8576b\"],[0.6666666666666666,\"#ed7953\"],[0.7777777777777778,\"#fb9f3a\"],[0.8888888888888888,\"#fdca26\"],[1.0,\"#f0f921\"]],\"sequentialminus\":[[0.0,\"#0d0887\"],[0.1111111111111111,\"#46039f\"],[0.2222222222222222,\"#7201a8\"],[0.3333333333333333,\"#9c179e\"],[0.4444444444444444,\"#bd3786\"],[0.5555555555555556,\"#d8576b\"],[0.6666666666666666,\"#ed7953\"],[0.7777777777777778,\"#fb9f3a\"],[0.8888888888888888,\"#fdca26\"],[1.0,\"#f0f921\"]],\"diverging\":[[0,\"#8e0152\"],[0.1,\"#c51b7d\"],[0.2,\"#de77ae\"],[0.3,\"#f1b6da\"],[0.4,\"#fde0ef\"],[0.5,\"#f7f7f7\"],[0.6,\"#e6f5d0\"],[0.7,\"#b8e186\"],[0.8,\"#7fbc41\"],[0.9,\"#4d9221\"],[1,\"#276419\"]]},\"xaxis\":{\"gridcolor\":\"white\",\"linecolor\":\"white\",\"ticks\":\"\",\"title\":{\"standoff\":15},\"zerolinecolor\":\"white\",\"automargin\":true,\"zerolinewidth\":2},\"yaxis\":{\"gridcolor\":\"white\",\"linecolor\":\"white\",\"ticks\":\"\",\"title\":{\"standoff\":15},\"zerolinecolor\":\"white\",\"automargin\":true,\"zerolinewidth\":2},\"scene\":{\"xaxis\":{\"backgroundcolor\":\"#E5ECF6\",\"gridcolor\":\"white\",\"linecolor\":\"white\",\"showbackground\":true,\"ticks\":\"\",\"zerolinecolor\":\"white\",\"gridwidth\":2},\"yaxis\":{\"backgroundcolor\":\"#E5ECF6\",\"gridcolor\":\"white\",\"linecolor\":\"white\",\"showbackground\":true,\"ticks\":\"\",\"zerolinecolor\":\"white\",\"gridwidth\":2},\"zaxis\":{\"backgroundcolor\":\"#E5ECF6\",\"gridcolor\":\"white\",\"linecolor\":\"white\",\"showbackground\":true,\"ticks\":\"\",\"zerolinecolor\":\"white\",\"gridwidth\":2}},\"shapedefaults\":{\"line\":{\"color\":\"#2a3f5f\"}},\"annotationdefaults\":{\"arrowcolor\":\"#2a3f5f\",\"arrowhead\":0,\"arrowwidth\":1},\"geo\":{\"bgcolor\":\"white\",\"landcolor\":\"#E5ECF6\",\"subunitcolor\":\"white\",\"showland\":true,\"showlakes\":true,\"lakecolor\":\"white\"},\"title\":{\"x\":0.05},\"mapbox\":{\"style\":\"light\"}}},\"xaxis\":{\"anchor\":\"y\",\"domain\":[0.0,1.0],\"title\":{\"text\":\"Datum\"}},\"yaxis\":{\"anchor\":\"x\",\"domain\":[0.0,1.0],\"title\":{\"text\":\"Preis\"}},\"legend\":{\"tracegroupgap\":0},\"margin\":{\"t\":60},\"title\":{\"text\":\"Preisverlauf\"}},                        {\"responsive\": true}                    ).then(function(){\n                            \nvar gd = document.getElementById('53418b6f-83f9-49ff-95ab-9d73ea6f8aec');\nvar x = new MutationObserver(function (mutations, observer) {{\n        var display = window.getComputedStyle(gd).display;\n        if (!display || display === 'none') {{\n            console.log([gd, 'removed!']);\n            Plotly.purge(gd);\n            observer.disconnect();\n        }}\n}});\n\n// Listen for the removal of the full notebook cells\nvar notebookContainer = gd.closest('#notebook-container');\nif (notebookContainer) {{\n    x.observe(notebookContainer, {childList: true});\n}}\n\n// Listen for the clearing of the current output cell\nvar outputEl = gd.closest('.output');\nif (outputEl) {{\n    x.observe(outputEl, {childList: true});\n}}\n\n                        })                };                });            </script>        </div>"
     },
     "metadata": {},
     "output_type": "display_data"
    }
   ],
   "source": [
    "# Mit hoverover funktion\n",
    "fig = px.line(df_1, x='Uhrzeit', y='Preis', hover_data=['Preis'], markers=True)\n",
    "\n",
    "fig.update_layout(\n",
    "    title='Preisverlauf',\n",
    "    xaxis_title='Datum',\n",
    "    yaxis_title='Preis'\n",
    ")\n",
    "fig.show()"
   ],
   "metadata": {
    "collapsed": false,
    "pycharm": {
     "name": "#%%\n"
    }
   }
  }
 ],
 "metadata": {
  "kernelspec": {
   "display_name": "Python 3",
   "language": "python",
   "name": "python3"
  },
  "language_info": {
   "codemirror_mode": {
    "name": "ipython",
    "version": 2
   },
   "file_extension": ".py",
   "mimetype": "text/x-python",
   "name": "python",
   "nbconvert_exporter": "python",
   "pygments_lexer": "ipython2",
   "version": "2.7.6"
  }
 },
 "nbformat": 4,
 "nbformat_minor": 0
}