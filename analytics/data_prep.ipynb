{
 "cells": [
  {
   "cell_type": "code",
   "execution_count": 15,
   "metadata": {
    "collapsed": true
   },
   "outputs": [],
   "source": [
    "import pandas as pd\n",
    "from datetime import date\n",
    "import glob"
   ]
  },
  {
   "cell_type": "code",
   "execution_count": 18,
   "outputs": [
    {
     "data": {
      "text/plain": "                   Uhrzeit       Datum  \\\n26116  2023-08-21 10:14:44  2023-08-21   \n26117  2023-08-21 10:14:44  2023-08-21   \n26118  2023-08-21 10:14:44  2023-08-21   \n26119  2023-08-21 10:14:44  2023-08-21   \n26120  2023-08-21 10:14:44  2023-08-21   \n\n                                            Region                  Strasse  \\\n26116  67433+Neustadt+an+der+Weinstraße&spritsorte      Landauer Str. 58-60   \n26117  67433+Neustadt+an+der+Weinstraße&spritsorte       Landauer Str. 8-10   \n26118  67433+Neustadt+an+der+Weinstraße&spritsorte    Mußbacher Landstr. 16   \n26119  67433+Neustadt+an+der+Weinstraße&spritsorte        Landauer Str. 121   \n26120  67433+Neustadt+an+der+Weinstraße&spritsorte  Branchweilerhofstr. 104   \n\n                                Ort_PLZ Tankstelle  Preis  \n26116  67434 Neustadt an der Weinstraße        JET  1.779  \n26117  67434 Neustadt an der Weinstraße       ESSO  1.799  \n26118  67433 Neustadt an der Weinstraße      Shell  1.859  \n26119  67434 Neustadt an der Weinstraße      Shell  1.859  \n26120  67433 Neustadt an der Weinstraße       ARAL  1.879  ",
      "text/html": "<div>\n<style scoped>\n    .dataframe tbody tr th:only-of-type {\n        vertical-align: middle;\n    }\n\n    .dataframe tbody tr th {\n        vertical-align: top;\n    }\n\n    .dataframe thead th {\n        text-align: right;\n    }\n</style>\n<table border=\"1\" class=\"dataframe\">\n  <thead>\n    <tr style=\"text-align: right;\">\n      <th></th>\n      <th>Uhrzeit</th>\n      <th>Datum</th>\n      <th>Region</th>\n      <th>Strasse</th>\n      <th>Ort_PLZ</th>\n      <th>Tankstelle</th>\n      <th>Preis</th>\n    </tr>\n  </thead>\n  <tbody>\n    <tr>\n      <th>26116</th>\n      <td>2023-08-21 10:14:44</td>\n      <td>2023-08-21</td>\n      <td>67433+Neustadt+an+der+Weinstraße&amp;spritsorte</td>\n      <td>Landauer Str. 58-60</td>\n      <td>67434 Neustadt an der Weinstraße</td>\n      <td>JET</td>\n      <td>1.779</td>\n    </tr>\n    <tr>\n      <th>26117</th>\n      <td>2023-08-21 10:14:44</td>\n      <td>2023-08-21</td>\n      <td>67433+Neustadt+an+der+Weinstraße&amp;spritsorte</td>\n      <td>Landauer Str. 8-10</td>\n      <td>67434 Neustadt an der Weinstraße</td>\n      <td>ESSO</td>\n      <td>1.799</td>\n    </tr>\n    <tr>\n      <th>26118</th>\n      <td>2023-08-21 10:14:44</td>\n      <td>2023-08-21</td>\n      <td>67433+Neustadt+an+der+Weinstraße&amp;spritsorte</td>\n      <td>Mußbacher Landstr. 16</td>\n      <td>67433 Neustadt an der Weinstraße</td>\n      <td>Shell</td>\n      <td>1.859</td>\n    </tr>\n    <tr>\n      <th>26119</th>\n      <td>2023-08-21 10:14:44</td>\n      <td>2023-08-21</td>\n      <td>67433+Neustadt+an+der+Weinstraße&amp;spritsorte</td>\n      <td>Landauer Str. 121</td>\n      <td>67434 Neustadt an der Weinstraße</td>\n      <td>Shell</td>\n      <td>1.859</td>\n    </tr>\n    <tr>\n      <th>26120</th>\n      <td>2023-08-21 10:14:44</td>\n      <td>2023-08-21</td>\n      <td>67433+Neustadt+an+der+Weinstraße&amp;spritsorte</td>\n      <td>Branchweilerhofstr. 104</td>\n      <td>67433 Neustadt an der Weinstraße</td>\n      <td>ARAL</td>\n      <td>1.879</td>\n    </tr>\n  </tbody>\n</table>\n</div>"
     },
     "execution_count": 18,
     "metadata": {},
     "output_type": "execute_result"
    }
   ],
   "source": [
    "#df =  pd.concat(map(pd.read_csv, [\"../data/raw/spritpreise_2023-07.csv\", 'd2.csv','d3.csv']))\n",
    "files = glob.glob(\"../data/raw/*.csv\")\n",
    "df = [pd.read_csv(f) for f in files]\n",
    "#df  = pd.read_csv(\"../data/raw/spritpreise_2023-07.csv\")\n",
    "df = pd.concat(df,ignore_index=True)\n",
    "df.tail()"
   ],
   "metadata": {
    "collapsed": false,
    "pycharm": {
     "name": "#%%\n"
    }
   }
  },
  {
   "cell_type": "code",
   "execution_count": 10,
   "outputs": [
    {
     "data": {
      "text/plain": "              Uhrzeit       Datum                        Region  \\\n0 2023-07-02 19:25:32  2023-07-02  76135+Karlsruhe%2FBeiertheim   \n1 2023-07-02 19:25:32  2023-07-02  76135+Karlsruhe%2FBeiertheim   \n2 2023-07-02 19:25:32  2023-07-02  76135+Karlsruhe%2FBeiertheim   \n3 2023-07-02 19:25:32  2023-07-02  76135+Karlsruhe%2FBeiertheim   \n4 2023-07-02 19:25:32  2023-07-02  76135+Karlsruhe%2FBeiertheim   \n\n               Strasse          Ort_PLZ                           Tankstelle  \\\n0    Eichelbergstr. 34  76189 Karlsruhe                Supermarkt Tankstelle   \n1       Hardeckstr. 16  76185 Karlsruhe  Eberhardt, Hardeckstraße, Karlsruhe   \n2         Lameystr.  7  76185 Karlsruhe                                  bft   \n3       Fettweisstr. 8  76189 Karlsruhe                                  bft   \n4  Waldhorn Str. 14-16  76137 Karlsruhe                ZG Raiffeisen Energie   \n\n   Preis    PLZ        Ort      Zeit Stunde Minute Sekunde  Wochentag  \n0  1.699  76189  Karlsruhe  19:25:32     19     25      32          7  \n1  1.709  76185  Karlsruhe  19:25:32     19     25      32          7  \n2  1.719  76185  Karlsruhe  19:25:32     19     25      32          7  \n3  1.719  76189  Karlsruhe  19:25:32     19     25      32          7  \n4  1.719  76137  Karlsruhe  19:25:32     19     25      32          7  ",
      "text/html": "<div>\n<style scoped>\n    .dataframe tbody tr th:only-of-type {\n        vertical-align: middle;\n    }\n\n    .dataframe tbody tr th {\n        vertical-align: top;\n    }\n\n    .dataframe thead th {\n        text-align: right;\n    }\n</style>\n<table border=\"1\" class=\"dataframe\">\n  <thead>\n    <tr style=\"text-align: right;\">\n      <th></th>\n      <th>Uhrzeit</th>\n      <th>Datum</th>\n      <th>Region</th>\n      <th>Strasse</th>\n      <th>Ort_PLZ</th>\n      <th>Tankstelle</th>\n      <th>Preis</th>\n      <th>PLZ</th>\n      <th>Ort</th>\n      <th>Zeit</th>\n      <th>Stunde</th>\n      <th>Minute</th>\n      <th>Sekunde</th>\n      <th>Wochentag</th>\n    </tr>\n  </thead>\n  <tbody>\n    <tr>\n      <th>0</th>\n      <td>2023-07-02 19:25:32</td>\n      <td>2023-07-02</td>\n      <td>76135+Karlsruhe%2FBeiertheim</td>\n      <td>Eichelbergstr. 34</td>\n      <td>76189 Karlsruhe</td>\n      <td>Supermarkt Tankstelle</td>\n      <td>1.699</td>\n      <td>76189</td>\n      <td>Karlsruhe</td>\n      <td>19:25:32</td>\n      <td>19</td>\n      <td>25</td>\n      <td>32</td>\n      <td>7</td>\n    </tr>\n    <tr>\n      <th>1</th>\n      <td>2023-07-02 19:25:32</td>\n      <td>2023-07-02</td>\n      <td>76135+Karlsruhe%2FBeiertheim</td>\n      <td>Hardeckstr. 16</td>\n      <td>76185 Karlsruhe</td>\n      <td>Eberhardt, Hardeckstraße, Karlsruhe</td>\n      <td>1.709</td>\n      <td>76185</td>\n      <td>Karlsruhe</td>\n      <td>19:25:32</td>\n      <td>19</td>\n      <td>25</td>\n      <td>32</td>\n      <td>7</td>\n    </tr>\n    <tr>\n      <th>2</th>\n      <td>2023-07-02 19:25:32</td>\n      <td>2023-07-02</td>\n      <td>76135+Karlsruhe%2FBeiertheim</td>\n      <td>Lameystr.  7</td>\n      <td>76185 Karlsruhe</td>\n      <td>bft</td>\n      <td>1.719</td>\n      <td>76185</td>\n      <td>Karlsruhe</td>\n      <td>19:25:32</td>\n      <td>19</td>\n      <td>25</td>\n      <td>32</td>\n      <td>7</td>\n    </tr>\n    <tr>\n      <th>3</th>\n      <td>2023-07-02 19:25:32</td>\n      <td>2023-07-02</td>\n      <td>76135+Karlsruhe%2FBeiertheim</td>\n      <td>Fettweisstr. 8</td>\n      <td>76189 Karlsruhe</td>\n      <td>bft</td>\n      <td>1.719</td>\n      <td>76189</td>\n      <td>Karlsruhe</td>\n      <td>19:25:32</td>\n      <td>19</td>\n      <td>25</td>\n      <td>32</td>\n      <td>7</td>\n    </tr>\n    <tr>\n      <th>4</th>\n      <td>2023-07-02 19:25:32</td>\n      <td>2023-07-02</td>\n      <td>76135+Karlsruhe%2FBeiertheim</td>\n      <td>Waldhorn Str. 14-16</td>\n      <td>76137 Karlsruhe</td>\n      <td>ZG Raiffeisen Energie</td>\n      <td>1.719</td>\n      <td>76137</td>\n      <td>Karlsruhe</td>\n      <td>19:25:32</td>\n      <td>19</td>\n      <td>25</td>\n      <td>32</td>\n      <td>7</td>\n    </tr>\n  </tbody>\n</table>\n</div>"
     },
     "execution_count": 10,
     "metadata": {},
     "output_type": "execute_result"
    }
   ],
   "source": [
    "df[[\"PLZ\",\"Ort\"]] = df[\"Ort_PLZ\"].str.split(' ',1, expand =True)\n",
    "df['Zeit'] = df['Uhrzeit'].str.split(' ').str[1]\n",
    "df[[\"Stunde\",\"Minute\",\"Sekunde\"]] = df[\"Zeit\"].str.split(':',2, expand =True)\n",
    "df['Uhrzeit'] = pd.to_datetime(df['Uhrzeit'])\n",
    "df['Wochentag'] = df['Uhrzeit'].dt.isocalendar().day\n",
    "df.head()"
   ],
   "metadata": {
    "collapsed": false,
    "pycharm": {
     "name": "#%%\n"
    }
   }
  },
  {
   "cell_type": "code",
   "execution_count": 11,
   "outputs": [],
   "source": [
    "#ID Erstellen über ID , indem 3 Spalten kombiniert werden\n",
    "# def generate_id(row):\n",
    "#     values = row[['Strasse','PLZ','Tankstelle']].values\n",
    "#     value_str = ''.join(map(str, values))\n",
    "#     return value_str #hashlib.sha1(value_str.encode()).hexdigest()\n",
    "# df['ID'] = df.apply(generate_id, axis=1)\n",
    "# df.head()"
   ],
   "metadata": {
    "collapsed": false,
    "pycharm": {
     "name": "#%%\n"
    }
   }
  },
  {
   "cell_type": "code",
   "execution_count": 12,
   "outputs": [
    {
     "data": {
      "text/plain": "              Uhrzeit       Datum                        Region  \\\n0 2023-07-02 19:25:32  2023-07-02  76135+Karlsruhe%2FBeiertheim   \n1 2023-07-02 19:25:32  2023-07-02  76135+Karlsruhe%2FBeiertheim   \n2 2023-07-02 19:25:32  2023-07-02  76135+Karlsruhe%2FBeiertheim   \n3 2023-07-02 19:25:32  2023-07-02  76135+Karlsruhe%2FBeiertheim   \n4 2023-07-02 19:25:32  2023-07-02  76135+Karlsruhe%2FBeiertheim   \n\n               Strasse          Ort_PLZ                           Tankstelle  \\\n0    Eichelbergstr. 34  76189 Karlsruhe                Supermarkt Tankstelle   \n1       Hardeckstr. 16  76185 Karlsruhe  Eberhardt, Hardeckstraße, Karlsruhe   \n2         Lameystr.  7  76185 Karlsruhe                                  bft   \n3       Fettweisstr. 8  76189 Karlsruhe                                  bft   \n4  Waldhorn Str. 14-16  76137 Karlsruhe                ZG Raiffeisen Energie   \n\n   Preis    PLZ        Ort      Zeit Stunde Minute Sekunde  Wochentag  ID  \n0  1.699  76189  Karlsruhe  19:25:32     19     25      32          7  15  \n1  1.709  76185  Karlsruhe  19:25:32     19     25      32          7  22  \n2  1.719  76185  Karlsruhe  19:25:32     19     25      32          7  31  \n3  1.719  76189  Karlsruhe  19:25:32     19     25      32          7  18  \n4  1.719  76137  Karlsruhe  19:25:32     19     25      32          7  48  ",
      "text/html": "<div>\n<style scoped>\n    .dataframe tbody tr th:only-of-type {\n        vertical-align: middle;\n    }\n\n    .dataframe tbody tr th {\n        vertical-align: top;\n    }\n\n    .dataframe thead th {\n        text-align: right;\n    }\n</style>\n<table border=\"1\" class=\"dataframe\">\n  <thead>\n    <tr style=\"text-align: right;\">\n      <th></th>\n      <th>Uhrzeit</th>\n      <th>Datum</th>\n      <th>Region</th>\n      <th>Strasse</th>\n      <th>Ort_PLZ</th>\n      <th>Tankstelle</th>\n      <th>Preis</th>\n      <th>PLZ</th>\n      <th>Ort</th>\n      <th>Zeit</th>\n      <th>Stunde</th>\n      <th>Minute</th>\n      <th>Sekunde</th>\n      <th>Wochentag</th>\n      <th>ID</th>\n    </tr>\n  </thead>\n  <tbody>\n    <tr>\n      <th>0</th>\n      <td>2023-07-02 19:25:32</td>\n      <td>2023-07-02</td>\n      <td>76135+Karlsruhe%2FBeiertheim</td>\n      <td>Eichelbergstr. 34</td>\n      <td>76189 Karlsruhe</td>\n      <td>Supermarkt Tankstelle</td>\n      <td>1.699</td>\n      <td>76189</td>\n      <td>Karlsruhe</td>\n      <td>19:25:32</td>\n      <td>19</td>\n      <td>25</td>\n      <td>32</td>\n      <td>7</td>\n      <td>15</td>\n    </tr>\n    <tr>\n      <th>1</th>\n      <td>2023-07-02 19:25:32</td>\n      <td>2023-07-02</td>\n      <td>76135+Karlsruhe%2FBeiertheim</td>\n      <td>Hardeckstr. 16</td>\n      <td>76185 Karlsruhe</td>\n      <td>Eberhardt, Hardeckstraße, Karlsruhe</td>\n      <td>1.709</td>\n      <td>76185</td>\n      <td>Karlsruhe</td>\n      <td>19:25:32</td>\n      <td>19</td>\n      <td>25</td>\n      <td>32</td>\n      <td>7</td>\n      <td>22</td>\n    </tr>\n    <tr>\n      <th>2</th>\n      <td>2023-07-02 19:25:32</td>\n      <td>2023-07-02</td>\n      <td>76135+Karlsruhe%2FBeiertheim</td>\n      <td>Lameystr.  7</td>\n      <td>76185 Karlsruhe</td>\n      <td>bft</td>\n      <td>1.719</td>\n      <td>76185</td>\n      <td>Karlsruhe</td>\n      <td>19:25:32</td>\n      <td>19</td>\n      <td>25</td>\n      <td>32</td>\n      <td>7</td>\n      <td>31</td>\n    </tr>\n    <tr>\n      <th>3</th>\n      <td>2023-07-02 19:25:32</td>\n      <td>2023-07-02</td>\n      <td>76135+Karlsruhe%2FBeiertheim</td>\n      <td>Fettweisstr. 8</td>\n      <td>76189 Karlsruhe</td>\n      <td>bft</td>\n      <td>1.719</td>\n      <td>76189</td>\n      <td>Karlsruhe</td>\n      <td>19:25:32</td>\n      <td>19</td>\n      <td>25</td>\n      <td>32</td>\n      <td>7</td>\n      <td>18</td>\n    </tr>\n    <tr>\n      <th>4</th>\n      <td>2023-07-02 19:25:32</td>\n      <td>2023-07-02</td>\n      <td>76135+Karlsruhe%2FBeiertheim</td>\n      <td>Waldhorn Str. 14-16</td>\n      <td>76137 Karlsruhe</td>\n      <td>ZG Raiffeisen Energie</td>\n      <td>1.719</td>\n      <td>76137</td>\n      <td>Karlsruhe</td>\n      <td>19:25:32</td>\n      <td>19</td>\n      <td>25</td>\n      <td>32</td>\n      <td>7</td>\n      <td>48</td>\n    </tr>\n  </tbody>\n</table>\n</div>"
     },
     "execution_count": 12,
     "metadata": {},
     "output_type": "execute_result"
    }
   ],
   "source": [
    "#Zweite möglichkeit um die IDs mit Zahlen zu erstellen\n",
    "df['ID'] = df.groupby(['Strasse','PLZ','Tankstelle']).ngroup()+1\n",
    "df.head()"
   ],
   "metadata": {
    "collapsed": false,
    "pycharm": {
     "name": "#%%\n"
    }
   }
  },
  {
   "cell_type": "code",
   "execution_count": 13,
   "outputs": [
    {
     "data": {
      "text/plain": "              Uhrzeit       Datum                        Region  \\\n0 2023-07-02 19:25:32  2023-07-02  76135+Karlsruhe%2FBeiertheim   \n1 2023-07-02 19:25:32  2023-07-02  76135+Karlsruhe%2FBeiertheim   \n2 2023-07-02 19:25:32  2023-07-02  76135+Karlsruhe%2FBeiertheim   \n3 2023-07-02 19:25:32  2023-07-02  76135+Karlsruhe%2FBeiertheim   \n4 2023-07-02 19:25:32  2023-07-02  76135+Karlsruhe%2FBeiertheim   \n\n               Strasse          Ort_PLZ                           Tankstelle  \\\n0    Eichelbergstr. 34  76189 Karlsruhe                Supermarkt Tankstelle   \n1       Hardeckstr. 16  76185 Karlsruhe  Eberhardt, Hardeckstraße, Karlsruhe   \n2         Lameystr.  7  76185 Karlsruhe                                  bft   \n3       Fettweisstr. 8  76189 Karlsruhe                                  bft   \n4  Waldhorn Str. 14-16  76137 Karlsruhe                ZG Raiffeisen Energie   \n\n   Preis    PLZ        Ort      Zeit Stunde Minute Sekunde  Wochentag  ID  \n0  1.699  76189  Karlsruhe  19:25:32     19     25      32          7  15  \n1  1.709  76185  Karlsruhe  19:25:32     19     25      32          7  22  \n2  1.719  76185  Karlsruhe  19:25:32     19     25      32          7  31  \n3  1.719  76189  Karlsruhe  19:25:32     19     25      32          7  18  \n4  1.719  76137  Karlsruhe  19:25:32     19     25      32          7  48  ",
      "text/html": "<div>\n<style scoped>\n    .dataframe tbody tr th:only-of-type {\n        vertical-align: middle;\n    }\n\n    .dataframe tbody tr th {\n        vertical-align: top;\n    }\n\n    .dataframe thead th {\n        text-align: right;\n    }\n</style>\n<table border=\"1\" class=\"dataframe\">\n  <thead>\n    <tr style=\"text-align: right;\">\n      <th></th>\n      <th>Uhrzeit</th>\n      <th>Datum</th>\n      <th>Region</th>\n      <th>Strasse</th>\n      <th>Ort_PLZ</th>\n      <th>Tankstelle</th>\n      <th>Preis</th>\n      <th>PLZ</th>\n      <th>Ort</th>\n      <th>Zeit</th>\n      <th>Stunde</th>\n      <th>Minute</th>\n      <th>Sekunde</th>\n      <th>Wochentag</th>\n      <th>ID</th>\n    </tr>\n  </thead>\n  <tbody>\n    <tr>\n      <th>0</th>\n      <td>2023-07-02 19:25:32</td>\n      <td>2023-07-02</td>\n      <td>76135+Karlsruhe%2FBeiertheim</td>\n      <td>Eichelbergstr. 34</td>\n      <td>76189 Karlsruhe</td>\n      <td>Supermarkt Tankstelle</td>\n      <td>1.699</td>\n      <td>76189</td>\n      <td>Karlsruhe</td>\n      <td>19:25:32</td>\n      <td>19</td>\n      <td>25</td>\n      <td>32</td>\n      <td>7</td>\n      <td>15</td>\n    </tr>\n    <tr>\n      <th>1</th>\n      <td>2023-07-02 19:25:32</td>\n      <td>2023-07-02</td>\n      <td>76135+Karlsruhe%2FBeiertheim</td>\n      <td>Hardeckstr. 16</td>\n      <td>76185 Karlsruhe</td>\n      <td>Eberhardt, Hardeckstraße, Karlsruhe</td>\n      <td>1.709</td>\n      <td>76185</td>\n      <td>Karlsruhe</td>\n      <td>19:25:32</td>\n      <td>19</td>\n      <td>25</td>\n      <td>32</td>\n      <td>7</td>\n      <td>22</td>\n    </tr>\n    <tr>\n      <th>2</th>\n      <td>2023-07-02 19:25:32</td>\n      <td>2023-07-02</td>\n      <td>76135+Karlsruhe%2FBeiertheim</td>\n      <td>Lameystr.  7</td>\n      <td>76185 Karlsruhe</td>\n      <td>bft</td>\n      <td>1.719</td>\n      <td>76185</td>\n      <td>Karlsruhe</td>\n      <td>19:25:32</td>\n      <td>19</td>\n      <td>25</td>\n      <td>32</td>\n      <td>7</td>\n      <td>31</td>\n    </tr>\n    <tr>\n      <th>3</th>\n      <td>2023-07-02 19:25:32</td>\n      <td>2023-07-02</td>\n      <td>76135+Karlsruhe%2FBeiertheim</td>\n      <td>Fettweisstr. 8</td>\n      <td>76189 Karlsruhe</td>\n      <td>bft</td>\n      <td>1.719</td>\n      <td>76189</td>\n      <td>Karlsruhe</td>\n      <td>19:25:32</td>\n      <td>19</td>\n      <td>25</td>\n      <td>32</td>\n      <td>7</td>\n      <td>18</td>\n    </tr>\n    <tr>\n      <th>4</th>\n      <td>2023-07-02 19:25:32</td>\n      <td>2023-07-02</td>\n      <td>76135+Karlsruhe%2FBeiertheim</td>\n      <td>Waldhorn Str. 14-16</td>\n      <td>76137 Karlsruhe</td>\n      <td>ZG Raiffeisen Energie</td>\n      <td>1.719</td>\n      <td>76137</td>\n      <td>Karlsruhe</td>\n      <td>19:25:32</td>\n      <td>19</td>\n      <td>25</td>\n      <td>32</td>\n      <td>7</td>\n      <td>48</td>\n    </tr>\n  </tbody>\n</table>\n</div>"
     },
     "execution_count": 13,
     "metadata": {},
     "output_type": "execute_result"
    }
   ],
   "source": [
    "current_date = date.today().strftime(\"%Y-%m-%d\")\n",
    "df.head()"
   ],
   "metadata": {
    "collapsed": false,
    "pycharm": {
     "name": "#%%\n"
    }
   }
  },
  {
   "cell_type": "code",
   "execution_count": 14,
   "outputs": [],
   "source": [
    "df.to_csv(f'../data/prepared/prepared_{current_date}.csv')"
   ],
   "metadata": {
    "collapsed": false,
    "pycharm": {
     "name": "#%%\n"
    }
   }
  }
 ],
 "metadata": {
  "kernelspec": {
   "display_name": "Python 3",
   "language": "python",
   "name": "python3"
  },
  "language_info": {
   "codemirror_mode": {
    "name": "ipython",
    "version": 2
   },
   "file_extension": ".py",
   "mimetype": "text/x-python",
   "name": "python",
   "nbconvert_exporter": "python",
   "pygments_lexer": "ipython2",
   "version": "2.7.6"
  }
 },
 "nbformat": 4,
 "nbformat_minor": 0
}